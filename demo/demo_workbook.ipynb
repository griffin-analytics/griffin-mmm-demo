{
  "cells": [
    {
      "cell_type": "markdown",
      "metadata": {
        "id": "XLNc7RHUeTzp"
      },
      "source": [
        "# MMM Demo Workbook"
      ]
    },
    {
      "cell_type": "markdown",
      "metadata": {
        "id": "c6T4AkRgeabZ"
      },
      "source": [
        "## Install dependencies"
      ]
    },
    {
      "cell_type": "code",
      "execution_count": null,
      "metadata": {
        "colab": {
          "base_uri": "https://localhost:8080/"
        },
        "id": "E8fQpBChRiyS",
        "outputId": "0a7849cc-f1e2-4e3f-a9d3-27bc5a40a45a"
      },
      "outputs": [],
      "source": [
        "!pip install -q -U git+https://@github.com/griffin-analytics/griffin-mmm-demo.git"
      ]
    },
    {
      "cell_type": "code",
      "execution_count": null,
      "metadata": {
        "colab": {
          "base_uri": "https://localhost:8080/"
        },
        "id": "-BibXPgORiyU",
        "outputId": "f512f5e8-f403-44e2-fecb-6f771f63a0b7"
      },
      "outputs": [],
      "source": [
        "%load_ext autoreload\n",
        "\n",
        "from base_driver import MMMBaseDriver\n",
        "from base_driver import utils as ut\n",
        "from mmm import describe as dsc\n",
        "from mmm import plot as mplt\n"
      ]
    },
    {
      "cell_type": "markdown",
      "metadata": {
        "id": "k9V5wgpOed-p"
      },
      "source": [
        "## Inputs"
      ]
    },
    {
      "cell_type": "code",
      "execution_count": null,
      "metadata": {
        "colab": {
          "base_uri": "https://localhost:8080/"
        },
        "id": "tKCib6c4RiyV",
        "outputId": "4901cbcc-388a-4d0e-f165-6fa0ff3f251a"
      },
      "outputs": [],
      "source": [
        "%autoreload 2\n",
        "\n",
        "driver = MMMBaseDriver(\n",
        "    \"demo_config.yml\",\n",
        "    \"demo_data.xlsx\",\n",
        "    \"holidays.xlsx\")"
      ]
    },
    {
      "cell_type": "markdown",
      "metadata": {
        "id": "sXNAzg-aejNH"
      },
      "source": [
        "## Preprocessing"
      ]
    },
    {
      "cell_type": "code",
      "execution_count": null,
      "metadata": {
        "colab": {
          "base_uri": "https://localhost:8080/"
        },
        "id": "n5FcSjlfRiyV",
        "outputId": "6dae6b33-88f4-42ba-caa7-e9ba6fa80321"
      },
      "outputs": [],
      "source": [
        "ut.setup_logger()"
      ]
    },
    {
      "cell_type": "code",
      "execution_count": 5,
      "metadata": {
        "id": "AA5oMb79RiyV"
      },
      "outputs": [],
      "source": [
        "ut.set_style()"
      ]
    },
    {
      "cell_type": "code",
      "execution_count": null,
      "metadata": {
        "colab": {
          "base_uri": "https://localhost:8080/"
        },
        "id": "UQI0cTSkRiyV",
        "outputId": "a679f731-72df-4133-d576-19a1bfa9962a"
      },
      "outputs": [],
      "source": [
        "driver.check_quality()"
      ]
    },
    {
      "cell_type": "code",
      "execution_count": 7,
      "metadata": {
        "id": "vBMDA5W7RiyW"
      },
      "outputs": [],
      "source": [
        "high_var = driver.highlight_variances()\n",
        "high_inf = driver.highlight_high_vif_values()\n",
        "high_spf = driver.highlight_low_spend_fractions()\n",
        "fig, corr_df = driver.plot_correlation()\n",
        "all_mds_fig = driver.plot_all_media_spend()"
      ]
    },
    {
      "cell_type": "markdown",
      "metadata": {
        "id": "AXOa2Z1eesFE"
      },
      "source": [
        "## Main Driver"
      ]
    },
    {
      "cell_type": "code",
      "execution_count": null,
      "metadata": {
        "colab": {
          "base_uri": "https://localhost:8080/",
          "height": 0,
          "referenced_widgets": [
            "7e727505573f4a89b35c2165e9a02391",
            "b0c6de3e1e534f32a4c82fff440b4fd7",
            "3de37b2c51c7459497e73474384d6423",
            "01f284e146cf4ee19e888ca7e73e838b",
            "20848c9fd89140019b35bf0217f60b3a",
            "6289f61446bf4eb78027dee36e727bf0",
            "823254e87e6741318780a9f2bf63646b",
            "e74a973f4c6d4f1bb97cdf6f59e6baf8",
            "a8bef8ab595843149dc6c2ca83664c2d",
            "e798c6f8fda5424dbebfaa531c4ded63"
          ]
        },
        "id": "Cl5hVIPYRiyW",
        "outputId": "d48761e3-2db9-4b21-9f1e-9514ef759be7"
      },
      "outputs": [],
      "source": [
        "driver.main()"
      ]
    },
    {
      "cell_type": "code",
      "execution_count": 12,
      "metadata": {
        "id": "gcrR7gIeCCNl"
      },
      "outputs": [],
      "source": [
        "driver.compute_elpd(model_name=driver.run_id, results_dir=\"/content/results\")"
      ]
    },
    {
      "cell_type": "code",
      "execution_count": null,
      "metadata": {
        "colab": {
          "base_uri": "https://localhost:8080/"
        },
        "id": "UwTTPy4IpGlw",
        "outputId": "b9f57f73-185d-4dab-bd9b-fd948d6379cd"
      },
      "outputs": [],
      "source": [
        "driver.save_posterior_samples(results_dir='/content/results')"
      ]
    },
    {
      "cell_type": "code",
      "execution_count": null,
      "metadata": {
        "colab": {
          "base_uri": "https://localhost:8080/",
          "height": 0
        },
        "id": "eRZH4gEuG8Ty",
        "outputId": "13972e11-22df-49f3-83a2-e80e41a2d48d"
      },
      "outputs": [],
      "source": [
        "driver.plot_posterior_distributions(results_dir='/content/results')"
      ]
    },
    {
      "cell_type": "code",
      "execution_count": null,
      "metadata": {
        "colab": {
          "base_uri": "https://localhost:8080/",
          "height": 0,
          "referenced_widgets": [
            "b74bd288eaa3489584b84d51ab001973",
            "88d42a153b274cf3a89dc2181bdc3d3a",
            "771b9f5fc43a47189a5d1c0b2c42f3c8",
            "5309ab60854c49c8ba5d5e38b3e61ef6"
          ]
        },
        "id": "E0IVGl3dRiyW",
        "outputId": "3e9084b5-05af-4d55-9eca-ef7a6b42a162"
      },
      "outputs": [],
      "source": [
        "mdl_st = driver.plot_model_structure()\n",
        "model_trace = driver.plot_model_trace()\n",
        "r2_score = driver.calculate_train_r_squared()\n",
        "posterior_predictive = driver.plot_posterior_predictive()\n",
        "components_contribution = driver.plot_components_contributions()\n",
        "waterfall_plot = driver.plot_waterfall_components_decomposition()"
      ]
    },
    {
      "cell_type": "markdown",
      "metadata": {
        "id": "Ef0J04ANexgu"
      },
      "source": [
        "## Check Diagnostics"
      ]
    },
    {
      "cell_type": "code",
      "execution_count": 16,
      "metadata": {
        "id": "u29zbSj1RiyX"
      },
      "outputs": [],
      "source": [
        "quick_stats = dsc.quick_stats(driver.model)"
      ]
    },
    {
      "cell_type": "code",
      "execution_count": null,
      "metadata": {
        "colab": {
          "base_uri": "https://localhost:8080/",
          "height": 728
        },
        "id": "8GeCLo_cRiyX",
        "outputId": "44f79ac8-1269-4b7b-9fb0-529f23975e9c"
      },
      "outputs": [],
      "source": [
        "waterfall_plot"
      ]
    },
    {
      "cell_type": "code",
      "execution_count": null,
      "metadata": {
        "colab": {
          "base_uri": "https://localhost:8080/",
          "height": 1000
        },
        "id": "WHJ4XdgbRiyX",
        "outputId": "6341d5a2-4d56-488d-c5c2-dd026ea875a6"
      },
      "outputs": [],
      "source": [
        "weekly_spend_curve = mplt.weekly_spend_by_channel(driver.model)"
      ]
    },
    {
      "cell_type": "code",
      "execution_count": null,
      "metadata": {
        "colab": {
          "base_uri": "https://localhost:8080/",
          "height": 394
        },
        "id": "LzOyYla5RiyX",
        "outputId": "6f40f7db-b552-4331-eb0c-564e793bcedd"
      },
      "outputs": [],
      "source": [
        "high_var"
      ]
    },
    {
      "cell_type": "code",
      "execution_count": null,
      "metadata": {
        "colab": {
          "base_uri": "https://localhost:8080/",
          "height": 394
        },
        "id": "Wxw-ObIARiyX",
        "outputId": "4ae58791-e786-412e-c640-bd9c8ebf5c96"
      },
      "outputs": [],
      "source": [
        "high_inf"
      ]
    },
    {
      "cell_type": "code",
      "execution_count": null,
      "metadata": {
        "colab": {
          "base_uri": "https://localhost:8080/",
          "height": 175
        },
        "id": "zpeuGtZbRiyY",
        "outputId": "998b4f46-dbfa-48fe-ca18-4b1a0d453019"
      },
      "outputs": [],
      "source": [
        "high_spf"
      ]
    },
    {
      "cell_type": "code",
      "execution_count": null,
      "metadata": {
        "colab": {
          "base_uri": "https://localhost:8080/",
          "height": 817
        },
        "id": "C_7uDIJZRiyY",
        "outputId": "3210e7ad-fdce-49ef-e3f6-3b5bc6f4959b"
      },
      "outputs": [],
      "source": [
        "fig"
      ]
    },
    {
      "cell_type": "code",
      "execution_count": null,
      "metadata": {
        "colab": {
          "base_uri": "https://localhost:8080/",
          "height": 206
        },
        "id": "8VPtxEIlRiyY",
        "outputId": "96f58c88-5195-4adb-d307-2030df69c066"
      },
      "outputs": [],
      "source": [
        "corr_df"
      ]
    },
    {
      "cell_type": "code",
      "execution_count": null,
      "metadata": {
        "colab": {
          "base_uri": "https://localhost:8080/",
          "height": 617
        },
        "id": "hi2O_ddeRiyY",
        "outputId": "ec6d4e52-06c9-4e80-a8ca-db3a7319745c"
      },
      "outputs": [],
      "source": [
        "all_mds_fig"
      ]
    },
    {
      "cell_type": "code",
      "execution_count": null,
      "metadata": {
        "colab": {
          "base_uri": "https://localhost:8080/",
          "height": 1000
        },
        "id": "DIvE5XLQRiyY",
        "outputId": "27693ba4-b3c8-4833-c313-26e7406207a2"
      },
      "outputs": [],
      "source": [
        "mdl_st"
      ]
    },
    {
      "cell_type": "code",
      "execution_count": null,
      "metadata": {
        "colab": {
          "base_uri": "https://localhost:8080/",
          "height": 1000
        },
        "id": "WRz3sNMSRiyY",
        "outputId": "a41e278f-d9e2-47a4-ba9f-0785732f7d3d"
      },
      "outputs": [],
      "source": [
        "model_trace"
      ]
    },
    {
      "cell_type": "code",
      "execution_count": null,
      "metadata": {
        "colab": {
          "base_uri": "https://localhost:8080/",
          "height": 617
        },
        "id": "tEvUAzEyRiyY",
        "outputId": "ef11ddf1-782b-4937-8c11-bd66fb74fe38"
      },
      "outputs": [],
      "source": [
        "driver.display_image(\"weekly_media_and_baseline_contribution.png\")"
      ]
    },
    {
      "cell_type": "code",
      "execution_count": null,
      "metadata": {
        "colab": {
          "base_uri": "https://localhost:8080/",
          "height": 617
        },
        "id": "6_-BfgiqRiyY",
        "outputId": "a674ce74-cbbc-49ee-82d4-b29f3c924b07"
      },
      "outputs": [],
      "source": [
        "driver.display_image(\"weekly_media_contribution.png\")"
      ]
    },
    {
      "cell_type": "code",
      "execution_count": null,
      "metadata": {
        "colab": {
          "base_uri": "https://localhost:8080/"
        },
        "id": "rrEJF5N5RiyZ",
        "outputId": "cfdb491e-c6f5-4d30-88d7-6a554a3bbe66"
      },
      "outputs": [],
      "source": [
        "r2_score"
      ]
    },
    {
      "cell_type": "code",
      "execution_count": null,
      "metadata": {
        "colab": {
          "base_uri": "https://localhost:8080/",
          "height": 632
        },
        "id": "O1PBsEh7RiyZ",
        "outputId": "6ead7f54-5c69-4be3-b78a-416d83f956c6"
      },
      "outputs": [],
      "source": [
        "driver.per_observation_df"
      ]
    },
    {
      "cell_type": "code",
      "execution_count": null,
      "metadata": {
        "colab": {
          "base_uri": "https://localhost:8080/",
          "height": 490
        },
        "id": "Es8yRXtbRiyZ",
        "outputId": "efc1aa67-b251-43e9-828a-86ad30fea17d"
      },
      "outputs": [],
      "source": [
        "posterior_predictive"
      ]
    },
    {
      "cell_type": "code",
      "execution_count": null,
      "metadata": {
        "colab": {
          "base_uri": "https://localhost:8080/",
          "height": 490
        },
        "id": "ZLjX-GuzRiyZ",
        "outputId": "ce2f1c5f-e260-4efa-f3cd-00a591e05fd8"
      },
      "outputs": [],
      "source": [
        "components_contribution"
      ]
    },
    {
      "cell_type": "code",
      "execution_count": null,
      "metadata": {
        "colab": {
          "base_uri": "https://localhost:8080/"
        },
        "id": "IxCMEBaERiyZ",
        "outputId": "aac1b3f2-c995-4d68-8e52-5d0e407afdd8"
      },
      "outputs": [],
      "source": [
        "driver.data_to_fit.to_data_frame()"
      ]
    },
    {
      "cell_type": "code",
      "execution_count": null,
      "metadata": {
        "colab": {
          "base_uri": "https://localhost:8080/",
          "height": 488
        },
        "id": "JtGd8FqGRiyZ",
        "outputId": "315bbd89-16d7-4998-b03a-31673c53e351"
      },
      "outputs": [],
      "source": [
        "quick_stats"
      ]
    },
    {
      "cell_type": "code",
      "execution_count": null,
      "metadata": {
        "colab": {
          "base_uri": "https://localhost:8080/",
          "height": 1000
        },
        "id": "x2ekgW6SRiya",
        "outputId": "94d2eaca-ccda-4a2d-f488-65863dc13dcf"
      },
      "outputs": [],
      "source": [
        "weekly_spend_curve"
      ]
    },
    {
      "cell_type": "code",
      "execution_count": null,
      "metadata": {
        "colab": {
          "base_uri": "https://localhost:8080/",
          "height": 1000
        },
        "id": "JYXs4Krgxigp",
        "outputId": "af7b5dc0-f487-4281-e6dd-7cf6339c1171"
      },
      "outputs": [],
      "source": [
        "model = driver.model\n",
        "model.plot_direct_contribution_curves(\n",
        "    show_fit=True,\n",
        "    method=\"sigmoid\",\n",
        "    export_curves=True,  # save curves as numerical outputs\n",
        "    results_dir='./results'\n",
        ")"
      ]
    },
    {
      "cell_type": "code",
      "execution_count": null,
      "metadata": {
        "colab": {
          "base_uri": "https://localhost:8080/",
          "height": 617
        },
        "id": "wL9lea41Riya",
        "outputId": "25d4a92d-15ac-4ab1-c1d3-2086329f39ec"
      },
      "outputs": [],
      "source": [
        "driver.display_image(\"weekly_media_and_baseline_contribution.png\")"
      ]
    },
    {
      "cell_type": "markdown",
      "metadata": {
        "id": "eo2D4F5HWKqP"
      },
      "source": [
        "## Optimize marketing budget"
      ]
    },
    {
      "cell_type": "markdown",
      "metadata": {
        "id": "03BVpu_vh3h1"
      },
      "source": [
        "### Define Optim Function"
      ]
    },
    {
      "cell_type": "code",
      "execution_count": 41,
      "metadata": {
        "id": "vf_9jID8iDlV"
      },
      "outputs": [],
      "source": [
        "\"\"\"Budget optimization module.\"\"\"\n",
        "from typing import Dict, List, Optional, Tuple\n",
        "\n",
        "import mmm.utils as ut\n",
        "import scipy.optimize as sopt\n",
        "import pandas as pd\n",
        "import numpy as np\n",
        "\n",
        "import matplotlib.pyplot as plt\n",
        "plt.style.use('bmh')\n",
        "\n",
        "\n",
        "def calculate_expected_contribution(\n",
        "    method: str,\n",
        "    parameters: Dict[str, Tuple[float, float]],\n",
        "    budget: Dict[str, float],\n",
        ") -> Dict[str, float]:\n",
        "    \"\"\"\n",
        "    Calculate expected contributions using the specified model.\n",
        "\n",
        "    This function calculates the expected contributions for each channel\n",
        "    based on the chosen model. The selected model can be either the Michaelis-Menten\n",
        "    model or the sigmoid model, each described by specific parameters.\n",
        "    As the allocated budget varies, the expected contribution is computed according\n",
        "    to the chosen model.\n",
        "\n",
        "    Parameters\n",
        "    ----------\n",
        "    method : str\n",
        "        The model to use for contribution estimation. Choose from 'michaelis-menten' or 'sigmoid'.\n",
        "    parameters : Dict\n",
        "        Model-specific parameters for each channel. For 'michaelis-menten', each entry is a tuple (L, k) where:\n",
        "        - L is the maximum potential contribution.\n",
        "        - k is the budget at which the contribution is half of its maximum.\n",
        "\n",
        "        For 'sigmoid', each entry is a tuple (alpha, lam) where:\n",
        "        - alpha controls the slope of the curve.\n",
        "        - lam is the budget at which the curve transitions.\n",
        "    budget : Dict\n",
        "        The total budget.\n",
        "\n",
        "    Returns\n",
        "    -------\n",
        "    Dict\n",
        "        A dictionary with channels as keys and their respective contributions as values.\n",
        "        The key 'total' contains the total expected contribution across all channels.\n",
        "\n",
        "    Raises\n",
        "    ------\n",
        "    ValueError\n",
        "        If the specified `method` is not recognized.\n",
        "    \"\"\"\n",
        "\n",
        "    total_expected_contribution = 0.0\n",
        "    contributions = {}\n",
        "\n",
        "    for channel, channe_budget in budget.items():\n",
        "        if method == \"michaelis-menten\":\n",
        "            L, k = parameters[channel]\n",
        "            contributions[channel] = ut.michaelis_menten(channe_budget, L, k)\n",
        "\n",
        "        elif method == \"sigmoid\":\n",
        "            alpha, lam = parameters[channel]\n",
        "            contributions[channel] = ut.sigmoid_saturation(channe_budget, alpha, lam)\n",
        "\n",
        "        else:\n",
        "            raise ValueError(\"`method` must be either 'michaelis-menten' or 'sigmoid'.\")\n",
        "\n",
        "        total_expected_contribution += contributions[channel]\n",
        "\n",
        "    contributions[\"total\"] = total_expected_contribution\n",
        "\n",
        "    return contributions\n",
        "\n",
        "\n",
        "def objective_distribution(\n",
        "    x: List[float],\n",
        "    method: str,\n",
        "    channels: List[str],\n",
        "    parameters: Dict[str, Tuple[float, float]],\n",
        ") -> float:\n",
        "    \"\"\"\n",
        "    Compute the total contribution for a given budget distribution.\n",
        "\n",
        "    This function calculates the negative sum of contributions for a proposed budget\n",
        "    distribution using the Michaelis-Menten model. This value will be minimized in\n",
        "    the optimization process to maximize the total expected contribution.\n",
        "\n",
        "    Parameters\n",
        "    ----------\n",
        "    x : List of float\n",
        "        The proposed budget distribution across channels.\n",
        "    channels : List of str\n",
        "        The List of channels for which the budget is being optimized.\n",
        "    parameters : Dict\n",
        "        Michaelis-Menten parameters for each channel as described in `calculate_expected_contribution`.\n",
        "\n",
        "    Returns\n",
        "    -------\n",
        "    float\n",
        "        Negative of the total expected contribution for the given budget distribution.\n",
        "    \"\"\"\n",
        "\n",
        "    sum_contributions = 0.0\n",
        "\n",
        "    for channel, budget in zip(channels, x):\n",
        "        if method == \"michaelis-menten\":\n",
        "            L, k = parameters[channel]\n",
        "            sum_contributions += ut.michaelis_menten(budget, L, k)\n",
        "\n",
        "        elif method == \"sigmoid\":\n",
        "            alpha, lam = parameters[channel]\n",
        "            sum_contributions += ut.sigmoid_saturation(budget, alpha, lam)\n",
        "\n",
        "        else:\n",
        "            raise ValueError(\"`method` must be either 'michaelis-menten' or 'sigmoid'.\")\n",
        "\n",
        "    return -1 * sum_contributions\n",
        "\n",
        "\n",
        "def optimize_budget_distribution(\n",
        "    method: str,\n",
        "    total_budget: int,\n",
        "    budget_ranges: Optional[Dict[str, Tuple[float, float]]],\n",
        "    parameters: Dict[str, Tuple[float, float]],\n",
        "    channels: List[str],\n",
        ") -> Dict[str, float]:\n",
        "    \"\"\"\n",
        "    Optimize the budget allocation across channels to maximize total contribution.\n",
        "\n",
        "    Using the Michaelis-Menten or Sigmoid function, this function seeks the best budget distribution across\n",
        "    channels that maximizes the total expected contribution.\n",
        "\n",
        "    This function leverages the Sequential Least Squares Quadratic Programming (SLSQP) optimization\n",
        "    algorithm to find the best budget distribution across channels that maximizes the total\n",
        "    expected contribution based on the Michaelis-Menten or Sigmoid functions.\n",
        "\n",
        "    The optimization is constrained such that:\n",
        "    1. The sum of budgets across all channels equals the total available budget.\n",
        "    2. The budget allocated to each individual channel lies within its specified range.\n",
        "\n",
        "    The SLSQP method is particularly suited for this kind of problem as it can handle\n",
        "    both equality and inequality constraints.\n",
        "\n",
        "    Parameters\n",
        "    ----------\n",
        "    total_budget : int\n",
        "        The total budget to be distributed across channels.\n",
        "    budget_ranges : Dict or None\n",
        "        An optional dictionary defining the minimum and maximum budget for each channel.\n",
        "        If not provided, the budget for each channel is constrained between 0 and its L value.\n",
        "    parameters : Dict\n",
        "        Michaelis-Menten parameters for each channel as described in `calculate_expected_contribution`.\n",
        "    channels : list of str\n",
        "        The list of channels for which the budget is being optimized.\n",
        "\n",
        "    Returns\n",
        "    -------\n",
        "    Dict\n",
        "        A dictionary with channels as keys and the optimal budget for each channel as values.\n",
        "    \"\"\"\n",
        "\n",
        "    # Check if budget_ranges is the correct type\n",
        "    if not isinstance(budget_ranges, (dict, type(None))):\n",
        "        raise TypeError(\"`budget_ranges` should be a dictionary or None.\")\n",
        "\n",
        "    if budget_ranges is None:\n",
        "        budget_ranges = {\n",
        "            channel: (0, min(total_budget, parameters[channel][0]))\n",
        "            for channel in channels\n",
        "        }\n",
        "\n",
        "    initial_guess = [total_budget // len(channels)] * len(channels)\n",
        "\n",
        "    bounds = [budget_ranges[channel] for channel in channels]\n",
        "\n",
        "    constraints = {\"type\": \"eq\", \"fun\": lambda x: np.sum(x) - total_budget}\n",
        "\n",
        "    result = sopt.minimize(\n",
        "        lambda x: objective_distribution(x, method, channels, parameters),\n",
        "        initial_guess,\n",
        "        method=\"SLSQP\",\n",
        "        bounds=bounds,\n",
        "        constraints=constraints,\n",
        "    )\n",
        "\n",
        "    return {channel: budget for channel, budget in zip(channels, result.x)}\n",
        "\n",
        "\n",
        "def budget_allocator(\n",
        "    method: str,\n",
        "    total_budget: int,\n",
        "    channels: List[str],\n",
        "    parameters: Dict[str, Tuple[float, float]],\n",
        "    budget_ranges: Optional[Dict[str, Tuple[float, float]]],\n",
        ") -> pd.DataFrame:\n",
        "    \"\"\"\n",
        "    Allocate the optimal marketing budget across multiple channels based on specified optimization criteria.\n",
        "\n",
        "    This function determines the best way to distribute a given total marketing budget across different channels\n",
        "    to maximize the expected contribution to a desired outcome, such as conversions or revenue. The allocation is\n",
        "    guided by a chosen optimization method (e.g., sigmoid, linear), and considers parameters that describe the\n",
        "    relationship between spend and contribution for each channel. The function also respects any predefined budget\n",
        "    ranges for each channel, ensuring that the allocation stays within practical limits.\n",
        "\n",
        "    ### Key Components:\n",
        "    1. **Optimization Method:**\n",
        "       - The `method` parameter specifies the mathematical approach used to optimize the budget allocation.\n",
        "       - Common methods include sigmoid or linear models, which define how spending impacts contribution across channels.\n",
        "\n",
        "    2. **Budget Constraints:**\n",
        "       - `total_budget` sets the overall limit for how much can be allocated across all channels.\n",
        "       - `budget_ranges` optionally allows setting specific minimum and maximum bounds for individual channels, ensuring\n",
        "         that the budget distribution adheres to strategic constraints or real-world limitations.\n",
        "\n",
        "    3. **Channel Parameters:**\n",
        "       - The `parameters` dictionary contains key-value pairs where each key is a channel name, and each value is a tuple\n",
        "         representing the parameters (e.g., alpha, lambda for sigmoid) that define the spend-contribution curve for that channel.\n",
        "       - These parameters are essential for calculating how efficiently each dollar spent on a channel converts into the desired outcome.\n",
        "\n",
        "    4. **Output:**\n",
        "       - The function returns a DataFrame that includes both the `optimal_budget` allocation for each channel and the\n",
        "         `estimated_contribution` resulting from this allocation.\n",
        "       - This output enables data-driven decision-making, allowing marketers to see the expected returns for each channel\n",
        "         and adjust their strategies accordingly.\n",
        "\n",
        "    ### Parameters:\n",
        "    - `method` (str):\n",
        "        - The optimization method to be used (e.g., 'sigmoid', 'linear').\n",
        "        - This method dictates how the relationship between spend and contribution is modeled.\n",
        "    - `total_budget` (int):\n",
        "        - The total budget available for allocation across all channels.\n",
        "        - This budget is distributed among the channels in a way that maximizes the overall contribution.\n",
        "    - `channels` (List[str]):\n",
        "        - A list of channel names that represent the marketing channels available for budget allocation.\n",
        "        - Each channel in this list should have corresponding parameters defined in the `parameters` dictionary.\n",
        "    - `parameters` (Dict[str, Tuple[float, float]]):\n",
        "        - A dictionary where each key is a channel name and each value is a tuple representing the parameters for\n",
        "          that channel’s spend-contribution curve.\n",
        "        - These parameters guide the optimization process by defining how effective each dollar of spend is on a given channel.\n",
        "    - `budget_ranges` (Optional[Dict[str, Tuple[float, float]]]):\n",
        "        - An optional dictionary where each key is a channel name and each value is a tuple specifying the minimum and\n",
        "          maximum budget that can be allocated to that channel.\n",
        "        - If provided, these ranges ensure the budget allocation stays within practical or strategic limits.\n",
        "    \"\"\"\n",
        "\n",
        "    optimal_budget = optimize_budget_distribution(\n",
        "        method=method,\n",
        "        total_budget=total_budget,\n",
        "        budget_ranges=budget_ranges,\n",
        "        parameters=parameters,\n",
        "        channels=channels,\n",
        "    )\n",
        "\n",
        "    expected_contribution = calculate_expected_contribution(\n",
        "        method=method, parameters=parameters, budget=optimal_budget\n",
        "    )\n",
        "\n",
        "    optimal_budget.update({\"total\": sum(optimal_budget.values())})\n",
        "\n",
        "    return pd.DataFrame(\n",
        "        {\n",
        "            \"estimated_contribution\": expected_contribution,\n",
        "            \"optimal_budget\": optimal_budget,\n",
        "        }\n",
        "    )\n",
        "\n",
        "def get_lower_and_upper_bounds(media, n_time_periods, lower_pct, upper_pct):\n",
        "    \"\"\"\n",
        "    Calculate dynamic lower and upper bounds for media spend based on historical data and specified adjustment percentages.\n",
        "\n",
        "    This function determines the permissible range (lower and upper bounds) for future media spending by analyzing historical\n",
        "    spending patterns. The bounds are calculated as a percentage adjustment from the mean historical spend, providing a flexible\n",
        "    framework for budgeting that accounts for possible variations in spend while ensuring it stays within realistic limits.\n",
        "\n",
        "    ### Key Components:\n",
        "    1. **Historical Media Spend Analysis:**\n",
        "       - The function begins by calculating the mean spend for each media channel over the historical period provided.\n",
        "       - This mean serves as the baseline for determining future spend bounds, ensuring that projections are grounded in actual\n",
        "         historical performance.\n",
        "\n",
        "    2. **Dynamic Bound Adjustment:**\n",
        "       - The lower and upper bounds are calculated by applying the `lower_pct` and `upper_pct` adjustments to the mean spend.\n",
        "       - `lower_pct` defines the percentage by which the spend can decrease from the mean, while `upper_pct` defines the\n",
        "         percentage by which it can increase.\n",
        "       - The bounds are scaled by the number of time periods (`n_time_periods`) to reflect the cumulative effect over the\n",
        "         optimization horizon.\n",
        "\n",
        "    3. **Constraints and Flexibility:**\n",
        "       - The lower bounds are capped at zero to prevent negative spend values, ensuring practical and realistic budget constraints.\n",
        "       - The resulting bounds provide flexibility in budget allocation, allowing for increased spending in high-performing\n",
        "         channels while capping potential overspend in others.\n",
        "\n",
        "    ### Parameters:\n",
        "    - `media` (pd.DataFrame):\n",
        "        - A DataFrame containing historical spending data for each media channel.\n",
        "        - Each column corresponds to a media channel, and each row represents a historical time period.\n",
        "    - `n_time_periods` (int):\n",
        "        - The number of future periods (e.g., weeks, months) for which the bounds should be calculated.\n",
        "        - This parameter scales the bounds to ensure they are applicable over the entire projection horizon.\n",
        "    - `lower_pct` (np.ndarray):\n",
        "        - An array of percentage values representing the allowable decrease from the mean spend for each media channel.\n",
        "        - Each value corresponds to a specific media channel and defines the lower bound as a percentage below the mean.\n",
        "    - `upper_pct` (np.ndarray):\n",
        "        - An array of percentage values representing the allowable increase from the mean spend for each media channel.\n",
        "        - Each value defines the upper bound as a percentage above the mean for its respective channel.\n",
        "\n",
        "    ### Returns:\n",
        "    - `Tuple[np.ndarray, np.ndarray]`:\n",
        "        - A tuple containing two numpy arrays: `lower_bounds` and `upper_bounds`.\n",
        "        - `lower_bounds` represents the calculated lower bounds for each media channel, scaled by `n_time_periods`.\n",
        "        - `upper_bounds` represents the calculated upper bounds for each media channel, also scaled by `n_time_periods`.\n",
        "\n",
        "    \"\"\"\n",
        "    mean_data = media.mean(axis=0)\n",
        "    lower_bounds = np.maximum(mean_data * (1 - lower_pct), 0)\n",
        "    upper_bounds = mean_data * (1 + upper_pct)\n",
        "\n",
        "    return (lower_bounds * n_time_periods, upper_bounds * n_time_periods)\n",
        "\n",
        "def calculate_total_budget(mean_costs, n_time_periods):\n",
        "    \"\"\"\n",
        "    Calculate the total marketing budget required for a specified number of future time periods.\n",
        "\n",
        "    This function computes the total budget necessary to sustain marketing activities across various channels over a defined\n",
        "    number of time periods (e.g., months, quarters). The budget is calculated based on the average historical spending for\n",
        "    each media channel, scaled by the number of time periods for which the budget needs to be projected.\n",
        "\n",
        "    Key Considerations:\n",
        "    1. **Mean Media Costs:**\n",
        "       - The `mean_costs` parameter represents the average historical spending per time period for each media channel.\n",
        "       - This array typically reflects the mean of past expenditures, providing a baseline for projecting future budget needs.\n",
        "\n",
        "    2. **Time Period Scaling:**\n",
        "       - The `n_time_periods` parameter determines how many future periods the total budget should cover.\n",
        "       - By multiplying the sum of the mean costs by the number of periods, the function scales the budget to ensure it supports\n",
        "         sustained marketing efforts over the desired time horizon.\n",
        "\n",
        "    3. **Budget Allocation Assumptions:**\n",
        "       - The calculated budget assumes a consistent spending pattern across the future periods, based on the historical averages.\n",
        "       - This approach is useful for planning purposes, especially when forecasting the financial requirements for maintaining\n",
        "         or scaling marketing activities over time.\n",
        "\n",
        "    ### Parameters:\n",
        "    - `mean_costs` (np.ndarray):\n",
        "        - An array containing the average historical costs for each media channel.\n",
        "        - Each element in the array corresponds to a specific channel and represents the mean cost over past time periods.\n",
        "    - `n_time_periods` (int):\n",
        "        - The number of future time periods for which the total budget is being calculated.\n",
        "        - This could be any unit of time, such as months or quarters, depending on the context of the optimization.\n",
        "\n",
        "    ### Returns:\n",
        "    - `float`:\n",
        "        - The total budget required to cover the specified number of time periods, calculated as the sum of mean costs\n",
        "          across all media channels, scaled by `n_time_periods`.\n",
        "        - This scalar value represents the overall financial commitment needed to sustain the marketing strategy over\n",
        "          the defined future periods.\n",
        "    \"\"\"\n",
        "    return np.sum(mean_costs) * n_time_periods\n",
        "\n",
        "\n",
        "def optimize_marketing_budget(model, data, config, results_dir,total_budget=None, frequency='M', n_time_periods=1):\n",
        "    \"\"\"\n",
        "    Optimize the allocation of a marketing budget across various channels using a fitted marketing mix model and historical data.\n",
        "\n",
        "    This function performs budget optimization by leveraging a calibrated marketing mix model to maximize the expected contribution\n",
        "    to the overall marketing objective (e.g., sales, conversions) given a specified total budget. The process involves aggregating\n",
        "    historical spending data at a chosen frequency (e.g., monthly, quarterly), defining dynamic budget bounds based on historical\n",
        "    spending patterns, and optimizing budget allocations using a non-linear optimization approach.\n",
        "\n",
        "    Key Steps:\n",
        "    1. **Data Aggregation:**\n",
        "       - Historical media spending data is aggregated according to the specified time frequency (e.g., 'M' for monthly, 'Q' for quarterly).\n",
        "       - This aggregation helps to smooth out fluctuations and focus on broader spending trends over time, which are more indicative\n",
        "         of strategic budget adjustments.\n",
        "\n",
        "    2. **Budget Bound Calculation:**\n",
        "       - For each media channel, dynamic lower and upper bounds for spending are calculated based on historical spending patterns.\n",
        "       - These bounds are defined as a percentage deviation from the historical averages, allowing the optimization to explore budget\n",
        "         allocations within realistic limits while considering potential scaling up or down.\n",
        "\n",
        "    3. **Sigmoid Function Optimization:**\n",
        "       - The function utilizes a sigmoid response curve to model the diminishing returns on spending, which is a common phenomenon in\n",
        "         marketing where additional spending leads to progressively smaller gains.\n",
        "       - The sigmoid parameters for each channel are estimated using the fitted model, capturing the relationship between spending and\n",
        "         the marketing objective.\n",
        "\n",
        "    4. **Optimization Process:**\n",
        "       - A constrained optimization algorithm is employed to maximize the expected contribution to the marketing objective under the\n",
        "         given budget constraints.\n",
        "       - The optimization considers both the total budget available and the channel-specific budget bounds, aiming to allocate the budget\n",
        "         where it is expected to yield the highest return.\n",
        "\n",
        "    5. **Scenario Analysis:**\n",
        "       - The function compares the optimized budget allocation against the initial scenario (i.e., the historical spending pattern).\n",
        "       - The comparison is visualized to highlight potential improvements in marketing performance due to the optimized allocation.\n",
        "\n",
        "    6. **Result Visualization and Saving:**\n",
        "       - The optimized budget scenario, along with the initial budget scenario, is plotted for easy comparison.\n",
        "       - The visualization is saved as an image file in the specified directory for reporting and further analysis.\n",
        "\n",
        "    Parameters\n",
        "    ----------\n",
        "    model : PyMC-Marketing model\n",
        "        The already fitted marketing mix model that will be used to optimize the budget.\n",
        "\n",
        "    data : pd.DataFrame\n",
        "        A DataFrame containing historical spending data. It must include a 'date' column and columns corresponding\n",
        "        to each media channel specified in the configuration.\n",
        "\n",
        "    config : dict\n",
        "        A dictionary containing configuration data for media channels. This should include the names of the columns\n",
        "        in the data that correspond to media spending.\n",
        "\n",
        "    results_dir : str\n",
        "        The directory where the optimization results, including plots, will be saved.\n",
        "\n",
        "    total_budget : float, optional\n",
        "        The total marketing budget to be allocated across the channels. If not provided, it will be calculated based\n",
        "        on the average historical spending and the number of periods to optimize.\n",
        "\n",
        "    frequency : str, optional\n",
        "        The frequency for aggregating the spending data. Typical values are 'M' for monthly, 'Q' for quarterly, and\n",
        "        'W' for weekly. Defaults to 'M' (monthly).\n",
        "\n",
        "    n_time_periods : int, optional\n",
        "        The number of future time periods (based on the specified frequency) for which the budget is to be optimized.\n",
        "        Defaults to 1.\n",
        "\n",
        "    Returns\n",
        "    -------\n",
        "    None\n",
        "        The function does not return any value. It saves a plot of the optimized budget scenario compared to the\n",
        "        initial scenario in the specified results directory.\n",
        "\n",
        "    Notes\n",
        "    -----\n",
        "    - The optimization is based on a sigmoid function fitted to each channel's response curve.\n",
        "    - Budget bounds are dynamically calculated as a percentage increase or decrease from historical averages.\n",
        "    - The resulting budget allocation is visualized and saved as a PNG file in the results directory.\n",
        "\n",
        "    Example\n",
        "    -------\n",
        "    >>> optimize_marketing_budget(model, data, config, 'results/', total_budget=1.0, frequency='M', n_time_periods=3)\n",
        "    \"\"\"\n",
        "    aggregated_data = data.groupby(pd.Grouper(key='date', freq=frequency)).sum()\n",
        "\n",
        "    media_columns = [entry['spend_col'] for entry in config.get('media', [])]\n",
        "    aggregated_media_data = aggregated_data[media_columns]\n",
        "    # Calculate total budget if not provided\n",
        "    if total_budget is None:\n",
        "        mean_media_costs = aggregated_media_data.mean()\n",
        "        total_budget = calculate_total_budget(mean_media_costs, n_time_periods)\n",
        "\n",
        "\n",
        "    # Set percentage increases and decreases for bounds\n",
        "    lower_pct = np.array([0.20] * len(media_columns))  # 20% decrease for lower bounds\n",
        "    upper_pct = np.array([0.20] * len(media_columns))  # 20% increase for upper bounds\n",
        "\n",
        "    # Calculate bounds directly from the aggregated media data\n",
        "    lower_bounds, upper_bounds = get_lower_and_upper_bounds(\n",
        "        aggregated_media_data, n_time_periods, lower_pct=lower_pct, upper_pct=upper_pct)\n",
        "\n",
        "    # Convert bounds arrays into dictionaries for each media channel\n",
        "    budget_bounds = {media_columns[i]: [lower_bounds[i], upper_bounds[i]] for i in range(len(media_columns))}\n",
        "\n",
        "    # Compute parameters for the sigmoid function\n",
        "    sigmoid_params = model.compute_channel_curve_optimization_parameters_original_scale(method='sigmoid')\n",
        "\n",
        "    # Optimize the channel budget using sigmoid function parameters\n",
        "    result_sigmoid = model.optimize_channel_budget_for_maximum_contribution(\n",
        "        method='sigmoid',\n",
        "        total_budget=total_budget,\n",
        "        parameters=sigmoid_params,\n",
        "        budget_bounds=budget_bounds\n",
        "    )\n",
        "    initial_budget_dict = {media_columns[i]: mean_media_costs[i] for i in range(len(media_columns))}\n",
        "\n",
        "\n",
        "    # Calculate expected contribution based on the initial budget\n",
        "    initial_contribution = calculate_expected_contribution(\n",
        "        method='sigmoid',\n",
        "        parameters=sigmoid_params,\n",
        "        budget=initial_budget_dict\n",
        "    )\n",
        "\n",
        "    # Setup the initial scenario for comparison\n",
        "    initial_scenario = {\n",
        "        'initial_contribution': initial_contribution,\n",
        "        'initial_budget': initial_budget_dict\n",
        "    }\n",
        "\n",
        "    # Plot and save the budget scenarios comparison\n",
        "    figure_ = model.plot_budget_scenarios(base_data=initial_scenario, method='sigmoid', scenarios_data=[result_sigmoid])\n",
        "    import os\n",
        "    import matplotlib.pyplot as plt\n",
        "    plt.savefig(os.path.join(results_dir, 'budget_optimisation.png'), bbox_inches=\"tight\")\n"
      ]
    },
    {
      "cell_type": "markdown",
      "metadata": {
        "id": "Tu8xiF99h5fL"
      },
      "source": [
        "### Run Optim Function"
      ]
    },
    {
      "cell_type": "code",
      "execution_count": null,
      "metadata": {
        "colab": {
          "base_uri": "https://localhost:8080/",
          "height": 749
        },
        "id": "fqwq2WRhWLBr",
        "outputId": "73e39b01-1c0b-483a-b7d5-5fb8f8ba9eec"
      },
      "outputs": [],
      "source": [
        "optimize_marketing_budget(driver.model, driver.processed_data, driver.config, driver.results_dir)"
      ]
    },
    {
      "cell_type": "markdown",
      "metadata": {
        "id": "dP1T9Y9we2Qi"
      },
      "source": [
        "## Zip and download files"
      ]
    },
    {
      "cell_type": "code",
      "execution_count": null,
      "metadata": {
        "id": "rzIhPw-3K_Ry"
      },
      "outputs": [],
      "source": [
        "# Define the list of files to exclude from the zip\n",
        "excluded_files = [\n",
        "    '.config',      # Exclude .config folder\n",
        "    '.ipynb_checkpoints',  # Exclude .ipynb_checkpoints folder\n",
        "    'data',         # Exclude data folder\n",
        "    'drive',        # Exclude Google Drive folder\n",
        "    'sample_data',  # Exclude sample data folder\n",
        "    #'results/model.nc',  # Exclude model file\n",
        "    #'holidays.xlsx',  # Exclude specific file\n",
        "    'results/trace.nc'  # Exclude trace file\n",
        "]\n",
        "\n",
        "from base_driver import utils as ut # This ut has create_downloadable_zip\n",
        "ut.create_downloadable_zip(excluded_files) # Now call the function to create and download the zip"
      ]
    }
  ],
  "metadata": {
    "accelerator": "GPU",
    "colab": {
      "gpuType": "T4",
      "machine_shape": "hm",
      "provenance": []
    },
    "kernelspec": {
      "display_name": "Python 3",
      "name": "python3"
    },
    "language_info": {
      "codemirror_mode": {
        "name": "ipython",
        "version": 3
      },
      "file_extension": ".py",
      "mimetype": "text/x-python",
      "name": "python",
      "nbconvert_exporter": "python",
      "pygments_lexer": "ipython3",
      "version": "3.12.2"
    },
    "widgets": {
      "application/vnd.jupyter.widget-state+json": {
        "01f284e146cf4ee19e888ca7e73e838b": {
          "model_module": "@jupyter-widgets/base",
          "model_module_version": "1.2.0",
          "model_name": "LayoutModel",
          "state": {
            "_model_module": "@jupyter-widgets/base",
            "_model_module_version": "1.2.0",
            "_model_name": "LayoutModel",
            "_view_count": null,
            "_view_module": "@jupyter-widgets/base",
            "_view_module_version": "1.2.0",
            "_view_name": "LayoutView",
            "align_content": null,
            "align_items": null,
            "align_self": null,
            "border": null,
            "bottom": null,
            "display": null,
            "flex": null,
            "flex_flow": null,
            "grid_area": null,
            "grid_auto_columns": null,
            "grid_auto_flow": null,
            "grid_auto_rows": null,
            "grid_column": null,
            "grid_gap": null,
            "grid_row": null,
            "grid_template_areas": null,
            "grid_template_columns": null,
            "grid_template_rows": null,
            "height": null,
            "justify_content": null,
            "justify_items": null,
            "left": null,
            "margin": null,
            "max_height": null,
            "max_width": null,
            "min_height": null,
            "min_width": null,
            "object_fit": null,
            "object_position": null,
            "order": null,
            "overflow": null,
            "overflow_x": null,
            "overflow_y": null,
            "padding": null,
            "right": null,
            "top": null,
            "visibility": null,
            "width": null
          }
        },
        "20848c9fd89140019b35bf0217f60b3a": {
          "model_module": "@jupyter-widgets/output",
          "model_module_version": "1.0.0",
          "model_name": "OutputModel",
          "state": {
            "_dom_classes": [],
            "_model_module": "@jupyter-widgets/output",
            "_model_module_version": "1.0.0",
            "_model_name": "OutputModel",
            "_view_count": null,
            "_view_module": "@jupyter-widgets/output",
            "_view_module_version": "1.0.0",
            "_view_name": "OutputView",
            "layout": "IPY_MODEL_6289f61446bf4eb78027dee36e727bf0",
            "msg_id": "",
            "outputs": [
              {
                "data": {
                  "text/html": "<pre style=\"white-space:pre;overflow-x:auto;line-height:normal;font-family:Menlo,'DejaVu Sans Mono',consolas,'Courier New',monospace\">Sampling chain 2, 18 divergences <span style=\"color: #008000; text-decoration-color: #008000\">━━━━━━━━━━━━━━━━━━━━━━━━━━━━━━━━━━━━━━━━</span> <span style=\"color: #800080; text-decoration-color: #800080\">100%</span> <span style=\"color: #008080; text-decoration-color: #008080\">0:00:00</span> / <span style=\"color: #808000; text-decoration-color: #808000\">0:05:19</span>\n</pre>\n",
                  "text/plain": "Sampling chain 2, 18 divergences \u001b[32m━━━━━━━━━━━━━━━━━━━━━━━━━━━━━━━━━━━━━━━━\u001b[0m \u001b[35m100%\u001b[0m \u001b[36m0:00:00\u001b[0m / \u001b[33m0:05:19\u001b[0m\n"
                },
                "metadata": {},
                "output_type": "display_data"
              }
            ]
          }
        },
        "3de37b2c51c7459497e73474384d6423": {
          "model_module": "@jupyter-widgets/output",
          "model_module_version": "1.0.0",
          "model_name": "OutputModel",
          "state": {
            "_dom_classes": [],
            "_model_module": "@jupyter-widgets/output",
            "_model_module_version": "1.0.0",
            "_model_name": "OutputModel",
            "_view_count": null,
            "_view_module": "@jupyter-widgets/output",
            "_view_module_version": "1.0.0",
            "_view_name": "OutputView",
            "layout": "IPY_MODEL_01f284e146cf4ee19e888ca7e73e838b",
            "msg_id": "",
            "outputs": [
              {
                "data": {
                  "text/html": "<pre style=\"white-space:pre;overflow-x:auto;line-height:normal;font-family:Menlo,'DejaVu Sans Mono',consolas,'Courier New',monospace\">Sampling chain 1, 14 divergences <span style=\"color: #008000; text-decoration-color: #008000\">━━━━━━━━━━━━━━━━━━━━━━━━━━━━━━━━━━━━━━━━</span> <span style=\"color: #800080; text-decoration-color: #800080\">100%</span> <span style=\"color: #008080; text-decoration-color: #008080\">0:00:00</span> / <span style=\"color: #808000; text-decoration-color: #808000\">0:04:53</span>\n</pre>\n",
                  "text/plain": "Sampling chain 1, 14 divergences \u001b[32m━━━━━━━━━━━━━━━━━━━━━━━━━━━━━━━━━━━━━━━━\u001b[0m \u001b[35m100%\u001b[0m \u001b[36m0:00:00\u001b[0m / \u001b[33m0:04:53\u001b[0m\n"
                },
                "metadata": {},
                "output_type": "display_data"
              }
            ]
          }
        },
        "5309ab60854c49c8ba5d5e38b3e61ef6": {
          "model_module": "@jupyter-widgets/base",
          "model_module_version": "1.2.0",
          "model_name": "LayoutModel",
          "state": {
            "_model_module": "@jupyter-widgets/base",
            "_model_module_version": "1.2.0",
            "_model_name": "LayoutModel",
            "_view_count": null,
            "_view_module": "@jupyter-widgets/base",
            "_view_module_version": "1.2.0",
            "_view_name": "LayoutView",
            "align_content": null,
            "align_items": null,
            "align_self": null,
            "border": null,
            "bottom": null,
            "display": null,
            "flex": null,
            "flex_flow": null,
            "grid_area": null,
            "grid_auto_columns": null,
            "grid_auto_flow": null,
            "grid_auto_rows": null,
            "grid_column": null,
            "grid_gap": null,
            "grid_row": null,
            "grid_template_areas": null,
            "grid_template_columns": null,
            "grid_template_rows": null,
            "height": null,
            "justify_content": null,
            "justify_items": null,
            "left": null,
            "margin": null,
            "max_height": null,
            "max_width": null,
            "min_height": null,
            "min_width": null,
            "object_fit": null,
            "object_position": null,
            "order": null,
            "overflow": null,
            "overflow_x": null,
            "overflow_y": null,
            "padding": null,
            "right": null,
            "top": null,
            "visibility": null,
            "width": null
          }
        },
        "6289f61446bf4eb78027dee36e727bf0": {
          "model_module": "@jupyter-widgets/base",
          "model_module_version": "1.2.0",
          "model_name": "LayoutModel",
          "state": {
            "_model_module": "@jupyter-widgets/base",
            "_model_module_version": "1.2.0",
            "_model_name": "LayoutModel",
            "_view_count": null,
            "_view_module": "@jupyter-widgets/base",
            "_view_module_version": "1.2.0",
            "_view_name": "LayoutView",
            "align_content": null,
            "align_items": null,
            "align_self": null,
            "border": null,
            "bottom": null,
            "display": null,
            "flex": null,
            "flex_flow": null,
            "grid_area": null,
            "grid_auto_columns": null,
            "grid_auto_flow": null,
            "grid_auto_rows": null,
            "grid_column": null,
            "grid_gap": null,
            "grid_row": null,
            "grid_template_areas": null,
            "grid_template_columns": null,
            "grid_template_rows": null,
            "height": null,
            "justify_content": null,
            "justify_items": null,
            "left": null,
            "margin": null,
            "max_height": null,
            "max_width": null,
            "min_height": null,
            "min_width": null,
            "object_fit": null,
            "object_position": null,
            "order": null,
            "overflow": null,
            "overflow_x": null,
            "overflow_y": null,
            "padding": null,
            "right": null,
            "top": null,
            "visibility": null,
            "width": null
          }
        },
        "771b9f5fc43a47189a5d1c0b2c42f3c8": {
          "model_module": "@jupyter-widgets/output",
          "model_module_version": "1.0.0",
          "model_name": "OutputModel",
          "state": {
            "_dom_classes": [],
            "_model_module": "@jupyter-widgets/output",
            "_model_module_version": "1.0.0",
            "_model_name": "OutputModel",
            "_view_count": null,
            "_view_module": "@jupyter-widgets/output",
            "_view_module_version": "1.0.0",
            "_view_name": "OutputView",
            "layout": "IPY_MODEL_5309ab60854c49c8ba5d5e38b3e61ef6",
            "msg_id": "",
            "outputs": [
              {
                "data": {
                  "text/html": "<pre style=\"white-space:pre;overflow-x:auto;line-height:normal;font-family:Menlo,'DejaVu Sans Mono',consolas,'Courier New',monospace\">Sampling ... <span style=\"color: #008000; text-decoration-color: #008000\">━━━━━━━━━━━━━━━━━━━━━━━━━━━━━━━━━━━━━━━━</span> <span style=\"color: #800080; text-decoration-color: #800080\">100%</span> <span style=\"color: #008080; text-decoration-color: #008080\">0:00:00</span> / <span style=\"color: #808000; text-decoration-color: #808000\">0:00:01</span>\n</pre>\n",
                  "text/plain": "Sampling ... \u001b[32m━━━━━━━━━━━━━━━━━━━━━━━━━━━━━━━━━━━━━━━━\u001b[0m \u001b[35m100%\u001b[0m \u001b[36m0:00:00\u001b[0m / \u001b[33m0:00:01\u001b[0m\n"
                },
                "metadata": {},
                "output_type": "display_data"
              }
            ]
          }
        },
        "7e727505573f4a89b35c2165e9a02391": {
          "model_module": "@jupyter-widgets/output",
          "model_module_version": "1.0.0",
          "model_name": "OutputModel",
          "state": {
            "_dom_classes": [],
            "_model_module": "@jupyter-widgets/output",
            "_model_module_version": "1.0.0",
            "_model_name": "OutputModel",
            "_view_count": null,
            "_view_module": "@jupyter-widgets/output",
            "_view_module_version": "1.0.0",
            "_view_name": "OutputView",
            "layout": "IPY_MODEL_b0c6de3e1e534f32a4c82fff440b4fd7",
            "msg_id": "",
            "outputs": [
              {
                "data": {
                  "text/html": "<pre style=\"white-space:pre;overflow-x:auto;line-height:normal;font-family:Menlo,'DejaVu Sans Mono',consolas,'Courier New',monospace\">Sampling chain 0, 7 divergences <span style=\"color: #008000; text-decoration-color: #008000\">━━━━━━━━━━━━━━━━━━━━━━━━━━━━━━━━━━━━━━━━</span> <span style=\"color: #800080; text-decoration-color: #800080\">100%</span> <span style=\"color: #008080; text-decoration-color: #008080\">0:00:00</span> / <span style=\"color: #808000; text-decoration-color: #808000\">0:04:29</span>\n</pre>\n",
                  "text/plain": "Sampling chain 0, 7 divergences \u001b[32m━━━━━━━━━━━━━━━━━━━━━━━━━━━━━━━━━━━━━━━━\u001b[0m \u001b[35m100%\u001b[0m \u001b[36m0:00:00\u001b[0m / \u001b[33m0:04:29\u001b[0m\n"
                },
                "metadata": {},
                "output_type": "display_data"
              }
            ]
          }
        },
        "823254e87e6741318780a9f2bf63646b": {
          "model_module": "@jupyter-widgets/output",
          "model_module_version": "1.0.0",
          "model_name": "OutputModel",
          "state": {
            "_dom_classes": [],
            "_model_module": "@jupyter-widgets/output",
            "_model_module_version": "1.0.0",
            "_model_name": "OutputModel",
            "_view_count": null,
            "_view_module": "@jupyter-widgets/output",
            "_view_module_version": "1.0.0",
            "_view_name": "OutputView",
            "layout": "IPY_MODEL_e74a973f4c6d4f1bb97cdf6f59e6baf8",
            "msg_id": "",
            "outputs": [
              {
                "data": {
                  "text/html": "<pre style=\"white-space:pre;overflow-x:auto;line-height:normal;font-family:Menlo,'DejaVu Sans Mono',consolas,'Courier New',monospace\">Sampling chain 3, 2 divergences <span style=\"color: #008000; text-decoration-color: #008000\">━━━━━━━━━━━━━━━━━━━━━━━━━━━━━━━━━━━━━━━━</span> <span style=\"color: #800080; text-decoration-color: #800080\">100%</span> <span style=\"color: #008080; text-decoration-color: #008080\">0:00:00</span> / <span style=\"color: #808000; text-decoration-color: #808000\">0:05:33</span>\n</pre>\n",
                  "text/plain": "Sampling chain 3, 2 divergences \u001b[32m━━━━━━━━━━━━━━━━━━━━━━━━━━━━━━━━━━━━━━━━\u001b[0m \u001b[35m100%\u001b[0m \u001b[36m0:00:00\u001b[0m / \u001b[33m0:05:33\u001b[0m\n"
                },
                "metadata": {},
                "output_type": "display_data"
              }
            ]
          }
        },
        "88d42a153b274cf3a89dc2181bdc3d3a": {
          "model_module": "@jupyter-widgets/base",
          "model_module_version": "1.2.0",
          "model_name": "LayoutModel",
          "state": {
            "_model_module": "@jupyter-widgets/base",
            "_model_module_version": "1.2.0",
            "_model_name": "LayoutModel",
            "_view_count": null,
            "_view_module": "@jupyter-widgets/base",
            "_view_module_version": "1.2.0",
            "_view_name": "LayoutView",
            "align_content": null,
            "align_items": null,
            "align_self": null,
            "border": null,
            "bottom": null,
            "display": null,
            "flex": null,
            "flex_flow": null,
            "grid_area": null,
            "grid_auto_columns": null,
            "grid_auto_flow": null,
            "grid_auto_rows": null,
            "grid_column": null,
            "grid_gap": null,
            "grid_row": null,
            "grid_template_areas": null,
            "grid_template_columns": null,
            "grid_template_rows": null,
            "height": null,
            "justify_content": null,
            "justify_items": null,
            "left": null,
            "margin": null,
            "max_height": null,
            "max_width": null,
            "min_height": null,
            "min_width": null,
            "object_fit": null,
            "object_position": null,
            "order": null,
            "overflow": null,
            "overflow_x": null,
            "overflow_y": null,
            "padding": null,
            "right": null,
            "top": null,
            "visibility": null,
            "width": null
          }
        },
        "a8bef8ab595843149dc6c2ca83664c2d": {
          "model_module": "@jupyter-widgets/output",
          "model_module_version": "1.0.0",
          "model_name": "OutputModel",
          "state": {
            "_dom_classes": [],
            "_model_module": "@jupyter-widgets/output",
            "_model_module_version": "1.0.0",
            "_model_name": "OutputModel",
            "_view_count": null,
            "_view_module": "@jupyter-widgets/output",
            "_view_module_version": "1.0.0",
            "_view_name": "OutputView",
            "layout": "IPY_MODEL_e798c6f8fda5424dbebfaa531c4ded63",
            "msg_id": "",
            "outputs": [
              {
                "data": {
                  "text/html": "<pre style=\"white-space:pre;overflow-x:auto;line-height:normal;font-family:Menlo,'DejaVu Sans Mono',consolas,'Courier New',monospace\">Sampling ... <span style=\"color: #008000; text-decoration-color: #008000\">━━━━━━━━━━━━━━━━━━━━━━━━━━━━━━━━━━━━━━━━</span> <span style=\"color: #800080; text-decoration-color: #800080\">100%</span> <span style=\"color: #008080; text-decoration-color: #008080\">0:00:00</span> / <span style=\"color: #808000; text-decoration-color: #808000\">0:00:02</span>\n</pre>\n",
                  "text/plain": "Sampling ... \u001b[32m━━━━━━━━━━━━━━━━━━━━━━━━━━━━━━━━━━━━━━━━\u001b[0m \u001b[35m100%\u001b[0m \u001b[36m0:00:00\u001b[0m / \u001b[33m0:00:02\u001b[0m\n"
                },
                "metadata": {},
                "output_type": "display_data"
              }
            ]
          }
        },
        "b0c6de3e1e534f32a4c82fff440b4fd7": {
          "model_module": "@jupyter-widgets/base",
          "model_module_version": "1.2.0",
          "model_name": "LayoutModel",
          "state": {
            "_model_module": "@jupyter-widgets/base",
            "_model_module_version": "1.2.0",
            "_model_name": "LayoutModel",
            "_view_count": null,
            "_view_module": "@jupyter-widgets/base",
            "_view_module_version": "1.2.0",
            "_view_name": "LayoutView",
            "align_content": null,
            "align_items": null,
            "align_self": null,
            "border": null,
            "bottom": null,
            "display": null,
            "flex": null,
            "flex_flow": null,
            "grid_area": null,
            "grid_auto_columns": null,
            "grid_auto_flow": null,
            "grid_auto_rows": null,
            "grid_column": null,
            "grid_gap": null,
            "grid_row": null,
            "grid_template_areas": null,
            "grid_template_columns": null,
            "grid_template_rows": null,
            "height": null,
            "justify_content": null,
            "justify_items": null,
            "left": null,
            "margin": null,
            "max_height": null,
            "max_width": null,
            "min_height": null,
            "min_width": null,
            "object_fit": null,
            "object_position": null,
            "order": null,
            "overflow": null,
            "overflow_x": null,
            "overflow_y": null,
            "padding": null,
            "right": null,
            "top": null,
            "visibility": null,
            "width": null
          }
        },
        "b74bd288eaa3489584b84d51ab001973": {
          "model_module": "@jupyter-widgets/output",
          "model_module_version": "1.0.0",
          "model_name": "OutputModel",
          "state": {
            "_dom_classes": [],
            "_model_module": "@jupyter-widgets/output",
            "_model_module_version": "1.0.0",
            "_model_name": "OutputModel",
            "_view_count": null,
            "_view_module": "@jupyter-widgets/output",
            "_view_module_version": "1.0.0",
            "_view_name": "OutputView",
            "layout": "IPY_MODEL_88d42a153b274cf3a89dc2181bdc3d3a",
            "msg_id": "",
            "outputs": [
              {
                "data": {
                  "text/html": "<pre style=\"white-space:pre;overflow-x:auto;line-height:normal;font-family:Menlo,'DejaVu Sans Mono',consolas,'Courier New',monospace\">Sampling ... <span style=\"color: #008000; text-decoration-color: #008000\">━━━━━━━━━━━━━━━━━━━━━━━━━━━━━━━━━━━━━━━━</span> <span style=\"color: #800080; text-decoration-color: #800080\">100%</span> <span style=\"color: #008080; text-decoration-color: #008080\">0:00:00</span> / <span style=\"color: #808000; text-decoration-color: #808000\">0:00:01</span>\n</pre>\n",
                  "text/plain": "Sampling ... \u001b[32m━━━━━━━━━━━━━━━━━━━━━━━━━━━━━━━━━━━━━━━━\u001b[0m \u001b[35m100%\u001b[0m \u001b[36m0:00:00\u001b[0m / \u001b[33m0:00:01\u001b[0m\n"
                },
                "metadata": {},
                "output_type": "display_data"
              }
            ]
          }
        },
        "e74a973f4c6d4f1bb97cdf6f59e6baf8": {
          "model_module": "@jupyter-widgets/base",
          "model_module_version": "1.2.0",
          "model_name": "LayoutModel",
          "state": {
            "_model_module": "@jupyter-widgets/base",
            "_model_module_version": "1.2.0",
            "_model_name": "LayoutModel",
            "_view_count": null,
            "_view_module": "@jupyter-widgets/base",
            "_view_module_version": "1.2.0",
            "_view_name": "LayoutView",
            "align_content": null,
            "align_items": null,
            "align_self": null,
            "border": null,
            "bottom": null,
            "display": null,
            "flex": null,
            "flex_flow": null,
            "grid_area": null,
            "grid_auto_columns": null,
            "grid_auto_flow": null,
            "grid_auto_rows": null,
            "grid_column": null,
            "grid_gap": null,
            "grid_row": null,
            "grid_template_areas": null,
            "grid_template_columns": null,
            "grid_template_rows": null,
            "height": null,
            "justify_content": null,
            "justify_items": null,
            "left": null,
            "margin": null,
            "max_height": null,
            "max_width": null,
            "min_height": null,
            "min_width": null,
            "object_fit": null,
            "object_position": null,
            "order": null,
            "overflow": null,
            "overflow_x": null,
            "overflow_y": null,
            "padding": null,
            "right": null,
            "top": null,
            "visibility": null,
            "width": null
          }
        },
        "e798c6f8fda5424dbebfaa531c4ded63": {
          "model_module": "@jupyter-widgets/base",
          "model_module_version": "1.2.0",
          "model_name": "LayoutModel",
          "state": {
            "_model_module": "@jupyter-widgets/base",
            "_model_module_version": "1.2.0",
            "_model_name": "LayoutModel",
            "_view_count": null,
            "_view_module": "@jupyter-widgets/base",
            "_view_module_version": "1.2.0",
            "_view_name": "LayoutView",
            "align_content": null,
            "align_items": null,
            "align_self": null,
            "border": null,
            "bottom": null,
            "display": null,
            "flex": null,
            "flex_flow": null,
            "grid_area": null,
            "grid_auto_columns": null,
            "grid_auto_flow": null,
            "grid_auto_rows": null,
            "grid_column": null,
            "grid_gap": null,
            "grid_row": null,
            "grid_template_areas": null,
            "grid_template_columns": null,
            "grid_template_rows": null,
            "height": null,
            "justify_content": null,
            "justify_items": null,
            "left": null,
            "margin": null,
            "max_height": null,
            "max_width": null,
            "min_height": null,
            "min_width": null,
            "object_fit": null,
            "object_position": null,
            "order": null,
            "overflow": null,
            "overflow_x": null,
            "overflow_y": null,
            "padding": null,
            "right": null,
            "top": null,
            "visibility": null,
            "width": null
          }
        }
      }
    }
  },
  "nbformat": 4,
  "nbformat_minor": 0
}
