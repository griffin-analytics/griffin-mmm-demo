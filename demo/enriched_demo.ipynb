{
 "cells": [
  {
   "cell_type": "markdown",
   "metadata": {},
   "source": [
    "## Welcom to Griffin"
   ]
  },
  {
   "cell_type": "markdown",
   "metadata": {},
   "source": [
    "### Introduction"
   ]
  },
  {
   "cell_type": "markdown",
   "metadata": {},
   "source": [
    "Griffin MMM is a Media Mix Modeling solution designed to empower marketers with advanced analytics and intelligent insights. As part of an evolving suite of tools, Griffin MMM stands at the forefront of marketing technology, enabling users to optimize their strategies across various channels effectively.\n",
    "\n",
    "At its core, Griffin MMM is a powerful analytical tool that helps navigate the complex marketing landscape. It provides a robust framework for analyzing the effectiveness of different marketing channels, allowing marketers to make data-driven decisions and maximize their return on investment (ROI).\n"
   ]
  },
  {
   "cell_type": "markdown",
   "metadata": {},
   "source": [
    "### What is MMM?"
   ]
  },
  {
   "cell_type": "markdown",
   "metadata": {},
   "source": [
    "Marketing mix modeling (MMM) is a privacy-friendly, highly resilient, data-driven statistical analysis that quantifies the incremental sales impact and ROI of marketing and non-marketing activities.\n",
    "\n",
    "MMM is an econometric model that aims to quantify the incremental impact of marketing and non-marketing activities on a pre-defined KPI (like sales or website visits). This is a holistic model used to understand how to allocate a marketing budget across marketing channels, products and regions and can help forecast the impact of future events or campaigns:"
   ]
  },
  {
   "cell_type": "markdown",
   "metadata": {},
   "source": [
    "<img src=\"https://facebookexperimental.github.io/Robyn/img/howMMMisBuilt.png\" width=\"600\"/>"
   ]
  },
  {
   "cell_type": "markdown",
   "metadata": {},
   "source": [
    "## Setup"
   ]
  },
  {
   "cell_type": "code",
   "execution_count": null,
   "metadata": {},
   "outputs": [],
   "source": [
    "# downloads docs/ folder from demo repo\n",
    "# downloads demo dataset/config/holidays\n",
    "# installs griffin-mmm-demo package.\n",
    "!pip install -q -U git+https://@github.com/griffin-analytics/griffin-mmm-demo.git\n",
    "!pip install ipywidgets\n"
   ]
  },
  {
   "cell_type": "markdown",
   "metadata": {},
   "source": [
    "Short description of files in docs/ folder (configuration guide, documentation pdf, quickstart, output guide, etc.)"
   ]
  },
  {
   "cell_type": "markdown",
   "metadata": {},
   "source": [
    "## Demo"
   ]
  },
  {
   "cell_type": "code",
   "execution_count": null,
   "metadata": {},
   "outputs": [],
   "source": [
    "from base_driver import MMMBaseDriver\n",
    "from base_driver import utils as ut\n",
    "from mmm import describe as dsc\n",
    "from mmm import plot as mplt"
   ]
  },
  {
   "cell_type": "markdown",
   "metadata": {},
   "source": [
    "### 1. Inputs"
   ]
  },
  {
   "cell_type": "markdown",
   "metadata": {},
   "source": [
    "#### Short description of input files\n",
    "\n",
    "config.yml<br>\n",
    "input_data.csv/xsls<br>\n",
    "(optional) holidays.xsls<br>"
   ]
  },
  {
   "cell_type": "markdown",
   "metadata": {},
   "source": [
    "Dataset Overview\n",
    "\n",
    "- Interactive data preview (NEW)\n",
    "- Sample dataset exploration\n",
    "- Data quality checks"
   ]
  },
  {
   "cell_type": "markdown",
   "metadata": {},
   "source": [
    "<hr>\n",
    "Configuration\n",
    "\n",
    "- Interactive config builder (Config file will be edited using GUI widgets (based on IPyWidgets)\n",
    "- Parameter explanation\n",
    "    - media variables\n",
    "    - extra variables\n",
    "    - number of iters/rounds/etc.\n",
    "- Best practices guide"
   ]
  },
  {
   "cell_type": "code",
   "execution_count": null,
   "metadata": {},
   "outputs": [],
   "source": [
    "import ipywidgets as widgets"
   ]
  },
  {
   "cell_type": "code",
   "execution_count": 1,
   "metadata": {},
   "outputs": [
    {
     "name": "stdout",
     "output_type": "stream",
     "text": [
      "test\n"
     ]
    }
   ],
   "source": [
    "print('test')"
   ]
  },
  {
   "cell_type": "code",
   "execution_count": 3,
   "metadata": {},
   "outputs": [
    {
     "data": {
      "application/vnd.jupyter.widget-view+json": {
       "model_id": "75a5db2988dc49d2a507cad29ff5f3db",
       "version_major": 2,
       "version_minor": 0
      },
      "text/plain": [
       "VBox(children=(HTML(value='<h3>Basic Settings</h3>'), GridspecLayout(children=(Dropdown(description='Frequency…"
      ]
     },
     "metadata": {},
     "output_type": "display_data"
    }
   ],
   "source": [
    "import ipywidgets as widgets\n",
    "from IPython.display import display, HTML\n",
    "import yaml\n",
    "\n",
    "class GridConfigWidget:\n",
    "    def __init__(self):\n",
    "        # Style\n",
    "        self.style = HTML(\"\"\"\n",
    "        <style>\n",
    "        .widget-label { font-size: 0.9em; }\n",
    "        .header { \n",
    "            font-weight: bold;\n",
    "            color: #2c3e50;\n",
    "            margin: 5px 0;\n",
    "        }\n",
    "        </style>\n",
    "        \"\"\")\n",
    "        \n",
    "        # Data Handling & Basic Settings\n",
    "        self.raw_data_granularity = widgets.Dropdown(\n",
    "            options=['daily', 'weekly'],\n",
    "            value='weekly',\n",
    "            description='Frequency:',\n",
    "            layout=widgets.Layout(width='200px')\n",
    "        )\n",
    "        \n",
    "        self.train_test_ratio = widgets.BoundedFloatText(\n",
    "            value=1.0, min=0.5, max=1.0,\n",
    "            description='Train Ratio:',\n",
    "            layout=widgets.Layout(width='200px')\n",
    "        )\n",
    "        \n",
    "        self.date_col = widgets.Text(\n",
    "            value='date',\n",
    "            description='Date Col:',\n",
    "            layout=widgets.Layout(width='200px')\n",
    "        )\n",
    "        \n",
    "        self.target_col = widgets.Text(\n",
    "            value='subscribers',\n",
    "            description='Target Col:',\n",
    "            layout=widgets.Layout(width='200px')\n",
    "        )\n",
    "        \n",
    "        # Model Parameters\n",
    "        self.tune = widgets.IntText(\n",
    "            value=1000,\n",
    "            description='Tune:',\n",
    "            layout=widgets.Layout(width='200px')\n",
    "        )\n",
    "        \n",
    "        self.draws = widgets.IntText(\n",
    "            value=2000,\n",
    "            description='Draws:',\n",
    "            layout=widgets.Layout(width='200px')\n",
    "        )\n",
    "        \n",
    "        self.chains = widgets.IntText(\n",
    "            value=4,\n",
    "            description='Chains:',\n",
    "            layout=widgets.Layout(width='200px')\n",
    "        )\n",
    "        \n",
    "        self.ad_stock_max_lag = widgets.IntText(\n",
    "            value=8,\n",
    "            description='Max Lag:',\n",
    "            layout=widgets.Layout(width='200px')\n",
    "        )\n",
    "\n",
    "        # Media Channels (in grid)\n",
    "        self.media_channels = widgets.GridspecLayout(4, 3, width='650px')\n",
    "        for i in range(4):\n",
    "            self.media_channels[i, 0] = widgets.Text(\n",
    "                value=f'Media Channel {i+1}',\n",
    "                description=f'Ch {i+1}:',\n",
    "                layout=widgets.Layout(width='200px')\n",
    "            )\n",
    "            self.media_channels[i, 1] = widgets.Text(\n",
    "                value=f'media_imp_{i+1}',\n",
    "                description='Imp:',\n",
    "                layout=widgets.Layout(width='200px')\n",
    "            )\n",
    "            self.media_channels[i, 2] = widgets.Text(\n",
    "                value=f'media_cost_{i+1}',\n",
    "                description='Cost:',\n",
    "                layout=widgets.Layout(width='200px')\n",
    "            )\n",
    "\n",
    "        # Prophet Settings (as checkboxes in a row)\n",
    "        self.prophet_settings = widgets.GridspecLayout(1, 5, width='650px')\n",
    "        self.prophet_settings[0, 0] = widgets.Checkbox(value=True, description='Holidays')\n",
    "        self.prophet_settings[0, 1] = widgets.Checkbox(value=True, description='Yearly')\n",
    "        self.prophet_settings[0, 2] = widgets.Checkbox(value=True, description='Weekly')\n",
    "        self.prophet_settings[0, 3] = widgets.Checkbox(value=True, description='Trend')\n",
    "        self.prophet_settings[0, 4] = widgets.Text(\n",
    "            value='US',\n",
    "            description='Country:',\n",
    "            layout=widgets.Layout(width='120px')\n",
    "        )\n",
    "\n",
    "        # Features in a single line\n",
    "        self.features = widgets.Text(\n",
    "            value='covid_index,competitor_spend,promo_events',\n",
    "            description='Features:',\n",
    "            layout=widgets.Layout(width='650px')\n",
    "        )\n",
    "        \n",
    "        self.ignore_cols = widgets.Text(\n",
    "            value='price,other_events',\n",
    "            description='Ignore:',\n",
    "            layout=widgets.Layout(width='650px')\n",
    "        )\n",
    "\n",
    "        # Save Button and Output\n",
    "        self.save_button = widgets.Button(\n",
    "            description='Save Config',\n",
    "            button_style='success',\n",
    "            layout=widgets.Layout(width='100px')\n",
    "        )\n",
    "        self.save_button.on_click(self.save_config)\n",
    "        self.output = widgets.Output()\n",
    "\n",
    "    def save_config(self, b):\n",
    "        with self.output:\n",
    "            self.output.clear_output()\n",
    "            config = {\n",
    "                'raw_data_granularity': self.raw_data_granularity.value,\n",
    "                'train_test_ratio': self.train_test_ratio.value,\n",
    "                'ignore_cols': [x.strip() for x in self.ignore_cols.value.split(',')],\n",
    "                'date_col': self.date_col.value,\n",
    "                'target_col': self.target_col.value,\n",
    "                'extra_features_cols': [x.strip() for x in self.features.value.split(',')],\n",
    "                'extra_features_impact': {'competitor_spend': 'negative'},\n",
    "                'media': [\n",
    "                    {\n",
    "                        'display_name': self.media_channels[i, 0].value,\n",
    "                        'impressions_col': self.media_channels[i, 1].value,\n",
    "                        'spend_col': self.media_channels[i, 2].value\n",
    "                    }\n",
    "                    for i in range(4)\n",
    "                ],\n",
    "                'tune': self.tune.value,\n",
    "                'draws': self.draws.value,\n",
    "                'chains': self.chains.value,\n",
    "                'ad_stock_max_lag': self.ad_stock_max_lag.value,\n",
    "                'prophet': {\n",
    "                    'include_holidays': self.prophet_settings[0, 0].value,\n",
    "                    'yearly_seasonality': self.prophet_settings[0, 1].value,\n",
    "                    'weekly_seasonality': self.prophet_settings[0, 2].value,\n",
    "                    'trend': self.prophet_settings[0, 3].value,\n",
    "                    'holiday_country': self.prophet_settings[0, 4].value\n",
    "                }\n",
    "            }\n",
    "            \n",
    "            with open('config.yaml', 'w') as f:\n",
    "                yaml.dump(config, f, default_flow_style=False)\n",
    "            print(\"Saved to config.yaml\")\n",
    "\n",
    "    def display(self):\n",
    "        basic_settings = widgets.GridspecLayout(2, 4, width='850px')\n",
    "        basic_settings[0, 0] = self.raw_data_granularity\n",
    "        basic_settings[0, 1] = self.train_test_ratio\n",
    "        basic_settings[0, 2] = self.date_col\n",
    "        basic_settings[0, 3] = self.target_col\n",
    "        basic_settings[1, 0] = self.tune\n",
    "        basic_settings[1, 1] = self.draws\n",
    "        basic_settings[1, 2] = self.chains\n",
    "        basic_settings[1, 3] = self.ad_stock_max_lag\n",
    "\n",
    "        display(widgets.VBox([\n",
    "            widgets.HTML('<h3>Basic Settings</h3>'),\n",
    "            basic_settings,\n",
    "            widgets.HTML('<h3>Features</h3>'),\n",
    "            self.features,\n",
    "            self.ignore_cols,\n",
    "            widgets.HTML('<h3>Media Channels</h3>'),\n",
    "            self.media_channels,\n",
    "            widgets.HTML('<h3>Prophet Settings</h3>'),\n",
    "            self.prophet_settings,\n",
    "            self.save_button,\n",
    "            self.output\n",
    "        ]))\n",
    "\n",
    "# Create and display widget\n",
    "config_widget = GridConfigWidget()\n",
    "config_widget.display()"
   ]
  },
  {
   "cell_type": "markdown",
   "metadata": {},
   "source": [
    "Pro vs Demo Comparison\n",
    "\n",
    "- Feature comparison matrix\n",
    "- Upgrade benefits"
   ]
  },
  {
   "cell_type": "code",
   "execution_count": null,
   "metadata": {},
   "outputs": [],
   "source": [
    "from base_driver import MMMBaseDriver\n",
    "from base_driver import utils as ut\n",
    "from mmm import describe as dsc\n",
    "from mmm import plot as mplt\n",
    "\n",
    "driver = MMMBaseDriver(\n",
    "    \"demo_config.yml\",\n",
    "    \"demo_data.xlsx\",\n",
    "    \"holidays.xlsx\")"
   ]
  },
  {
   "cell_type": "markdown",
   "metadata": {},
   "source": [
    "### 2. Preprocessing"
   ]
  },
  {
   "cell_type": "markdown",
   "metadata": {},
   "source": [
    "Interactive Data Validation (NEW)\n",
    "\n",
    "- Automated data quality checks\n",
    "- Missing value analysis\n",
    "- Outlier detection"
   ]
  },
  {
   "cell_type": "code",
   "execution_count": null,
   "metadata": {},
   "outputs": [],
   "source": [
    "ut.setup_logger()\n",
    "ut.set_style()"
   ]
  },
  {
   "cell_type": "code",
   "execution_count": null,
   "metadata": {},
   "outputs": [],
   "source": [
    "driver.check_quality()"
   ]
  },
  {
   "cell_type": "markdown",
   "metadata": {},
   "source": [
    "Output Interpretation\n",
    "\n",
    "- Interactive visualization dashboard (NEW)\n",
    "- Key metrics explanation\n",
    "- Benchmark comparisons"
   ]
  },
  {
   "cell_type": "code",
   "execution_count": null,
   "metadata": {},
   "outputs": [],
   "source": [
    "high_var = driver.highlight_variances()\n",
    "high_inf = driver.highlight_high_vif_values()\n",
    "high_spf = driver.highlight_low_spend_fractions()\n",
    "fig, corr_df = driver.plot_correlation()\n",
    "all_mds_fig = driver.plot_all_media_spend()"
   ]
  },
  {
   "cell_type": "markdown",
   "metadata": {},
   "source": [
    "### 3. Run model"
   ]
  },
  {
   "cell_type": "markdown",
   "metadata": {},
   "source": [
    "Execution Monitor\n",
    "\n",
    "- Progress tracking\n",
    "- Resource usage monitoring\n",
    "- Error handling and recovery"
   ]
  },
  {
   "cell_type": "code",
   "execution_count": null,
   "metadata": {},
   "outputs": [],
   "source": [
    "driver.main()"
   ]
  },
  {
   "cell_type": "markdown",
   "metadata": {},
   "source": [
    "Results Dashboard (NEW)\n",
    "\n",
    "- Real-time performance metrics\n",
    "- Comparative analysis\n",
    "- Export capabilities"
   ]
  },
  {
   "cell_type": "code",
   "execution_count": null,
   "metadata": {},
   "outputs": [],
   "source": [
    "driver.compute_elpd(model_name=driver.run_id, results_dir=\"/content/results\")"
   ]
  },
  {
   "cell_type": "markdown",
   "metadata": {},
   "source": [
    "Let's save posterior samples into the results folder"
   ]
  },
  {
   "cell_type": "code",
   "execution_count": null,
   "metadata": {},
   "outputs": [],
   "source": [
    "driver.save_posterior_samples(results_dir='/content/results')"
   ]
  },
  {
   "cell_type": "markdown",
   "metadata": {},
   "source": [
    "Plot the posterior distributions. How to interpret the plot? What conclusions you can make? Based on what?"
   ]
  },
  {
   "cell_type": "code",
   "execution_count": null,
   "metadata": {},
   "outputs": [],
   "source": [
    "driver.plot_posterior_distributions(results_dir='/content/results')"
   ]
  },
  {
   "cell_type": "markdown",
   "metadata": {},
   "source": [
    "Maybe make each each plot on a separate cell?<br>\n",
    "Add plot descriptions and give some best practices:\n",
    "- Model structure plot\n",
    "- Model trace plot\n",
    "- R^2 score\n",
    "- Posterior predictive plot\n",
    "- Components contributions plot\n",
    "- Waterfall plot"
   ]
  },
  {
   "cell_type": "code",
   "execution_count": null,
   "metadata": {},
   "outputs": [],
   "source": [
    "mdl_st = driver.plot_model_structure()\n",
    "model_trace = driver.plot_model_trace()\n",
    "r2_score = driver.calculate_train_r_squared()\n",
    "posterior_predictive = driver.plot_posterior_predictive()\n",
    "components_contribution = driver.plot_components_contributions()\n",
    "waterfall_plot = driver.plot_waterfall_components_decomposition()"
   ]
  },
  {
   "cell_type": "markdown",
   "metadata": {},
   "source": [
    "### 4. Check results. Diagnostics."
   ]
  },
  {
   "cell_type": "markdown",
   "metadata": {},
   "source": [
    "Interactive Diagnostic Dashboard (NEW)\n",
    "\n",
    "- Key performance indicators\n",
    "- Model health metrics\n",
    "- Warning indicators\n",
    "\n",
    "\n",
    "Visualization Suite\n",
    "\n",
    "- Interactive plots with tooltips\n",
    "- Customizable views\n",
    "- Export options\n",
    "\n",
    "\n",
    "Interpretation Guide\n",
    "\n",
    "- Common patterns explanation\n",
    "- Troubleshooting suggestions\n",
    "- Best practices"
   ]
  },
  {
   "cell_type": "code",
   "execution_count": null,
   "metadata": {},
   "outputs": [],
   "source": [
    "quick_stats = dsc.quick_stats(driver.model)"
   ]
  },
  {
   "cell_type": "code",
   "execution_count": null,
   "metadata": {},
   "outputs": [],
   "source": [
    "waterfall_plot"
   ]
  },
  {
   "cell_type": "code",
   "execution_count": null,
   "metadata": {},
   "outputs": [],
   "source": [
    "weekly_spend_curve = mplt.weekly_spend_by_channel(driver.model)"
   ]
  },
  {
   "cell_type": "code",
   "execution_count": null,
   "metadata": {},
   "outputs": [],
   "source": [
    "high_var"
   ]
  },
  {
   "cell_type": "code",
   "execution_count": null,
   "metadata": {},
   "outputs": [],
   "source": [
    "high_inf"
   ]
  },
  {
   "cell_type": "code",
   "execution_count": null,
   "metadata": {},
   "outputs": [],
   "source": [
    "high_spf"
   ]
  },
  {
   "cell_type": "code",
   "execution_count": null,
   "metadata": {},
   "outputs": [],
   "source": [
    "fig"
   ]
  },
  {
   "cell_type": "code",
   "execution_count": null,
   "metadata": {},
   "outputs": [],
   "source": [
    "corr_df"
   ]
  },
  {
   "cell_type": "code",
   "execution_count": null,
   "metadata": {},
   "outputs": [],
   "source": [
    "all_mds_fig"
   ]
  },
  {
   "cell_type": "code",
   "execution_count": null,
   "metadata": {},
   "outputs": [],
   "source": [
    "mdl_st"
   ]
  },
  {
   "cell_type": "code",
   "execution_count": null,
   "metadata": {},
   "outputs": [],
   "source": [
    "model_trace"
   ]
  },
  {
   "cell_type": "code",
   "execution_count": null,
   "metadata": {},
   "outputs": [],
   "source": [
    "driver.display_image(\"weekly_media_and_baseline_contribution.png\")"
   ]
  },
  {
   "cell_type": "code",
   "execution_count": null,
   "metadata": {},
   "outputs": [],
   "source": [
    "driver.display_image(\"weekly_media_contribution.png\")"
   ]
  },
  {
   "cell_type": "code",
   "execution_count": null,
   "metadata": {},
   "outputs": [],
   "source": [
    "r2_score"
   ]
  },
  {
   "cell_type": "code",
   "execution_count": null,
   "metadata": {},
   "outputs": [],
   "source": [
    "driver.per_observation_df"
   ]
  },
  {
   "cell_type": "code",
   "execution_count": null,
   "metadata": {},
   "outputs": [],
   "source": [
    "posterior_predictive"
   ]
  },
  {
   "cell_type": "code",
   "execution_count": null,
   "metadata": {},
   "outputs": [],
   "source": [
    "components_contribution"
   ]
  },
  {
   "cell_type": "code",
   "execution_count": null,
   "metadata": {},
   "outputs": [],
   "source": [
    "driver.data_to_fit.to_data_frame()"
   ]
  },
  {
   "cell_type": "code",
   "execution_count": null,
   "metadata": {},
   "outputs": [],
   "source": [
    "quick_stats"
   ]
  },
  {
   "cell_type": "code",
   "execution_count": null,
   "metadata": {},
   "outputs": [],
   "source": [
    "weekly_spend_curve"
   ]
  },
  {
   "cell_type": "code",
   "execution_count": null,
   "metadata": {},
   "outputs": [],
   "source": [
    "model = driver.model\n",
    "model.plot_direct_contribution_curves(\n",
    "    show_fit=True,\n",
    "    method=\"sigmoid\",\n",
    "    export_curves=True,  # save curves as numerical outputs\n",
    "    results_dir='./results'\n",
    ")"
   ]
  },
  {
   "cell_type": "code",
   "execution_count": null,
   "metadata": {},
   "outputs": [],
   "source": [
    "driver.display_image(\"weekly_media_and_baseline_contribution.png\")"
   ]
  },
  {
   "cell_type": "code",
   "execution_count": null,
   "metadata": {},
   "outputs": [],
   "source": []
  },
  {
   "cell_type": "code",
   "execution_count": null,
   "metadata": {},
   "outputs": [],
   "source": []
  },
  {
   "cell_type": "markdown",
   "metadata": {},
   "source": [
    "## Budget Optimization."
   ]
  },
  {
   "cell_type": "markdown",
   "metadata": {},
   "source": [
    "What is Budget Optimization? \n",
    "<br>\n",
    "<br>\n",
    "How we do it?"
   ]
  },
  {
   "cell_type": "markdown",
   "metadata": {},
   "source": [
    "Optimization Setup\n",
    "\n",
    "- Parameter selection interface\n",
    "- Constraint definition\n",
    "- Goal setting"
   ]
  },
  {
   "cell_type": "code",
   "execution_count": null,
   "metadata": {},
   "outputs": [],
   "source": [
    "from optimization_file_py import optimize_marketing_budget"
   ]
  },
  {
   "cell_type": "markdown",
   "metadata": {},
   "source": [
    "Results Analysis\n",
    "\n",
    "- Performance comparison\n",
    "- ROI calculation (NEW)\n",
    "- Recommendation engine"
   ]
  },
  {
   "cell_type": "code",
   "execution_count": null,
   "metadata": {},
   "outputs": [],
   "source": [
    "optimize_marketing_budget(driver.model, driver.processed_data, driver.config, driver.results_dir)"
   ]
  },
  {
   "cell_type": "markdown",
   "metadata": {},
   "source": [
    "## Export resutls"
   ]
  },
  {
   "cell_type": "markdown",
   "metadata": {},
   "source": [
    "One-Click Export Options (NEW)\n",
    "\n",
    "- Results download\n",
    "- Configuration export\n",
    "- Report generation"
   ]
  },
  {
   "cell_type": "code",
   "execution_count": null,
   "metadata": {},
   "outputs": [],
   "source": [
    "# Define the list of files to exclude from the zip\n",
    "excluded_files = [\n",
    "    '.config',      # Exclude .config folder\n",
    "    '.ipynb_checkpoints',  # Exclude .ipynb_checkpoints folder\n",
    "    'data',         # Exclude data folder\n",
    "    'drive',        # Exclude Google Drive folder\n",
    "    'sample_data',  # Exclude sample data folder\n",
    "    #'results/model.nc',  # Exclude model file\n",
    "    #'holidays.xlsx',  # Exclude specific file\n",
    "    'results/trace.nc'  # Exclude trace file\n",
    "]\n",
    "\n",
    "from base_driver import utils as ut # This ut has create_downloadable_zip\n",
    "ut.create_downloadable_zip(excluded_files) # Now call the function to create and download the zip"
   ]
  },
  {
   "cell_type": "markdown",
   "metadata": {},
   "source": [
    "## Next steps"
   ]
  },
  {
   "cell_type": "markdown",
   "metadata": {},
   "source": [
    "Pro Version Benefits\n",
    "\n",
    "- Feature comparison\n",
    "- ROI calculator\n",
    "- Upgrade path"
   ]
  },
  {
   "cell_type": "markdown",
   "metadata": {},
   "source": [
    "## Support & Resources"
   ]
  },
  {
   "cell_type": "markdown",
   "metadata": {},
   "source": [
    "Help Center\n",
    "\n",
    "- FAQ\n",
    "- Troubleshooting guide\n",
    "- Video tutorials\n",
    "<hr>"
   ]
  },
  {
   "cell_type": "markdown",
   "metadata": {},
   "source": [
    "Contact Information\n",
    "\n",
    "- Support channels\n",
    "- Sales inquiry\n",
    "- Documentation resources\n",
    "<hr>"
   ]
  },
  {
   "cell_type": "markdown",
   "metadata": {},
   "source": [
    "Legal Information\n",
    "\n",
    "- Copyright notice\n",
    "- Terms of use\n",
    "- Privacy policy"
   ]
  }
 ],
 "metadata": {
  "kernelspec": {
   "display_name": "env_py3_11",
   "language": "python",
   "name": "python3"
  },
  "language_info": {
   "codemirror_mode": {
    "name": "ipython",
    "version": 3
   },
   "file_extension": ".py",
   "mimetype": "text/x-python",
   "name": "python",
   "nbconvert_exporter": "python",
   "pygments_lexer": "ipython3",
   "version": "3.11.11"
  }
 },
 "nbformat": 4,
 "nbformat_minor": 2
}
