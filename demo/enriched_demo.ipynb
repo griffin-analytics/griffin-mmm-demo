{
 "cells": [
  {
   "cell_type": "markdown",
   "metadata": {},
   "source": [
    "## Welcom to Griffin"
   ]
  },
  {
   "cell_type": "markdown",
   "metadata": {},
   "source": [
    "### Introduction"
   ]
  },
  {
   "cell_type": "markdown",
   "metadata": {},
   "source": [
    "Griffin MMM is a Media Mix Modeling solution designed to empower marketers with advanced analytics and intelligent insights. As part of an evolving suite of tools, Griffin MMM stands at the forefront of marketing technology, enabling users to optimize their strategies across various channels effectively.\n",
    "\n",
    "At its core, Griffin MMM is a powerful analytical tool that helps navigate the complex marketing landscape. It provides a robust framework for analyzing the effectiveness of different marketing channels, allowing marketers to make data-driven decisions and maximize their return on investment (ROI).\n",
    "\n",
    "> 💡 Info: Download docs and demo files in the next section of this notebook.\n",
    "\n",
    "> 📖 See: `docs/Griffin_documentation.pdf` and `docs/Griffin_Quickstart.md` for detailed information about Griffin."
   ]
  },
  {
   "cell_type": "markdown",
   "metadata": {},
   "source": [
    "### What is MMM?"
   ]
  },
  {
   "cell_type": "markdown",
   "metadata": {},
   "source": [
    "Marketing mix modeling (MMM) is a privacy-friendly, highly resilient, data-driven statistical analysis that quantifies the incremental sales impact and ROI of marketing and non-marketing activities.\n",
    "\n",
    "MMM is an econometric model that aims to quantify the incremental impact of marketing and non-marketing activities on a pre-defined KPI (like sales or subscriptions)."
   ]
  },
  {
   "cell_type": "markdown",
   "metadata": {},
   "source": [
    "## Setup\n",
    "\n",
    "Install necessary packages"
   ]
  },
  {
   "cell_type": "code",
   "execution_count": 3,
   "metadata": {},
   "outputs": [],
   "source": [
    "!pip install -q \"ipywidgets>=7,<8\" # Required for the widgets to work in Colab. Other versions doesn't work in Colab.\n",
    "!pip install -q requests\n",
    "!pip install -q -U git+https://@github.com/griffin-analytics/griffin-mmm-demo.git"
   ]
  },
  {
   "cell_type": "markdown",
   "metadata": {},
   "source": [
    "## Download demo files"
   ]
  },
  {
   "cell_type": "code",
   "execution_count": null,
   "metadata": {},
   "outputs": [],
   "source": [
    "import requests\n",
    "import time\n",
    "import os\n",
    "\n",
    "def get_raw_github_url(url):\n",
    "    \"\"\"\n",
    "    Convert GitHub URL to raw content URL\n",
    "    \"\"\"\n",
    "    raw_url = url.replace('github.com', 'raw.githubusercontent.com')\n",
    "    raw_url = raw_url.replace('/blob/', '/')\n",
    "    return raw_url\n",
    "\n",
    "def download_github_file(url, save_path):\n",
    "    \"\"\"\n",
    "    Download a file from GitHub repository.\n",
    "    Parameters:\n",
    "    -----------\n",
    "    url : str\n",
    "        GitHub URL of the file\n",
    "    save_path : str\n",
    "        Local path where the file should be saved\n",
    "    \"\"\"\n",
    "    try:\n",
    "        # Ensure the directory exists\n",
    "        directory = os.path.dirname(save_path)\n",
    "        if directory and not os.path.exists(directory):\n",
    "            os.makedirs(directory)\n",
    "            print(f\"Created directory: {directory}\")\n",
    "\n",
    "        # Convert to raw content URL\n",
    "        raw_url = get_raw_github_url(url)\n",
    "        print(f\"Downloading from: {raw_url}\")\n",
    "\n",
    "        # Add retry mechanism\n",
    "        max_retries = 3\n",
    "        retry_delay = 1  # seconds\n",
    "        \n",
    "        for attempt in range(max_retries):\n",
    "            try:\n",
    "                response = requests.get(raw_url, timeout=10)\n",
    "                response.raise_for_status()\n",
    "                \n",
    "                # Save the file\n",
    "                with open(save_path, 'wb') as f:\n",
    "                    f.write(response.content)\n",
    "                print(f\"Successfully downloaded: {save_path}\")\n",
    "                return True\n",
    "                \n",
    "            except requests.RequestException as e:\n",
    "                if attempt < max_retries - 1:\n",
    "                    print(f\"Attempt {attempt + 1} failed. Retrying in {retry_delay} seconds...\")\n",
    "                    time.sleep(retry_delay)\n",
    "                    retry_delay *= 2  # Exponential backoff\n",
    "                else:\n",
    "                    raise e\n",
    "                    \n",
    "    except Exception as e:\n",
    "        print(f\"Error downloading {url}: {str(e)}\")\n",
    "        return False\n",
    "\n",
    "files_to_download = [\n",
    "    (\"https://github.com/griffin-analytics/griffin-mmm-demo/blob/main/demo/demo_config.yml\", \"demo_config.yml\"),\n",
    "    (\"https://github.com/griffin-analytics/griffin-mmm-demo/blob/main/demo/demo_data.xlsx\", \"demo_data.xlsx\"),\n",
    "    (\"https://github.com/griffin-analytics/griffin-mmm-demo/blob/main/demo/holidays.xlsx\", \"holidays.xlsx\"),\n",
    "    (\"https://github.com/griffin-analytics/griffin-mmm-demo/blob/main/demo/demo_utils.py\", \"demo_utils.py\"),\n",
    "    (\"https://github.com/griffin-analytics/griffin-mmm-demo/blob/main/demo/budget_optimizer.py\", \"budget_optimizer.py\"),\n",
    "    (\"https://github.com/griffin-analytics/griffin-mmm-demo/blob/main/docs/Configuration_Guide.md\", \"docs/Configuration_Guide.md\"),\n",
    "    (\"https://github.com/griffin-analytics/griffin-mmm-demo/blob/main/docs/ELPD_Explainer.md\", \"docs/ELPD_Explainer.md\"),\n",
    "    (\"https://github.com/griffin-analytics/griffin-mmm-demo/blob/main/docs/Griffin_Quickstart.md\", \"docs/Griffin_Quickstart.md\"),\n",
    "    (\"https://github.com/griffin-analytics/griffin-mmm-demo/blob/main/docs/Griffin_documentation.pdf\", \"docs/Griffin_documentation.pdf\"),\n",
    "    (\"https://github.com/griffin-analytics/griffin-mmm-demo/blob/main/docs/MODEL_COMPARISON.md\", \"docs/MODEL_COMPARISON.md\"),\n",
    "    (\"https://github.com/griffin-analytics/griffin-mmm-demo/blob/main/docs/Output_Guide.md\", \"docs/Output_Guide.md\"),\n",
    "]\n",
    "\n",
    "print(\"Starting downloads...\")\n",
    "for url, save_path in files_to_download:\n",
    "    download_github_file(url, save_path)\n",
    "print(\"Download process completed!\")"
   ]
  },
  {
   "cell_type": "markdown",
   "metadata": {},
   "source": [
    "## Demo"
   ]
  },
  {
   "cell_type": "markdown",
   "metadata": {},
   "source": [
    "### 1. Inputs"
   ]
  },
  {
   "cell_type": "markdown",
   "metadata": {},
   "source": [
    "#### What are the input files?\n",
    "\n",
    "#### Marketing data - `demo_data.xlsx`\n",
    "This is an Excel file containing sample marketing data for demonstrating the MMM analysis. It includes:\n",
    "* Sales and conversion metrics (dependent variables), the number of \"Subscribres\" in this demo\n",
    "* Marketing spend across different channels, masked as media_cost_X\n",
    "* Impressions (response) for each channel, masked as media_imp_X\n",
    "* Other relevant marketing KPIs\n",
    "\n",
    "#### Config - `demo_config.yml`\n",
    "This is a configuration file in YAML format that contains settings for the Marketing Mix Model (MMM) demo. It includes:\n",
    "* Model settings\n",
    "* Data transformation rules\n",
    "* Analysis configurations for running the MMM analysis\n",
    "\n",
    "> 📖 See: \"docs/Configuration_Guide.md\" file for detailed configuration parameters.\n",
    "\n",
    "#### Holidays data - `holidays.xlsx`\n",
    "This Excel file contains holiday data that's used to account for seasonal effects."
   ]
  },
  {
   "cell_type": "markdown",
   "metadata": {},
   "source": [
    "<hr>\n",
    "\n",
    "#### Model configuration guide\n",
    "\n",
    "Griffin MMM uses a configuration file config.yaml to specify key settings such as model structure, data\n",
    "paths, and hyperparameters. The configuration file provides a highly customisable setup, allowing users to\n",
    "control how the model processes input data, applies Bayesian inference, and optimises the use of available\n",
    "marketing data.\n",
    "\n",
    "📖 See: For detailed explanations of config parameters, please refer to the \"docs/Griffin_documentation.pdf\" file, page 11.\n",
    "\n",
    "\n",
    "💡 Info: You can edit the demo_config.yml file manually or using UI widgets. Run the next cell to customize the model configuration for your needs. Don't forget to save your changes by clicking the \"Save\" button at the bottom of the widget.\n",
    "\n",
    "🚨  Warning: Make sure you have downloaded `demo_utils.py` and placed it at the same level as the sample_data folder."
   ]
  },
  {
   "cell_type": "code",
   "execution_count": null,
   "metadata": {},
   "outputs": [],
   "source": [
    "# If running in Colab, enable custom widget manager\n",
    "try:\n",
    "    from google.colab import output\n",
    "    output.enable_custom_widget_manager()\n",
    "except:\n",
    "    pass\n",
    "\n",
    "from demo_utils import config_widget\n",
    "\n",
    "display(config_widget)"
   ]
  },
  {
   "cell_type": "markdown",
   "metadata": {},
   "source": [
    "<div style=\"border-top: 3px solid #16a085; margin-top: 30px; margin-bottom: 30px\"></div>"
   ]
  },
  {
   "cell_type": "markdown",
   "metadata": {},
   "source": [
    "### Demo vs Pro version\n",
    "\n",
    "| Demo Version (Free) | Pro Version (Yearly Subscription) |\n",
    "|--------------------|------------------------------------|\n",
    "| ✓ Unlimited access to the demo version | ✓ Full access to all features |\n",
    "| ✓ Support for up to 4 media channels | ✓ Support for unlimited media channels |\n",
    "| ✓ All features and visualizations | ✓ Advanced analytics and visualizations |\n",
    "| ✓ Basic / Community support | ✓ Priority email support |\n",
    "| | ✓ Quarterly strategy consultation |\n",
    "| | ✓ Regular software updates |\n",
    "| **Best for:** Businesses or marketers looking to explore MMM capabilities | **Best for:** Agencies of all sizes and mid-size to large businesses serious about optimizing their marketing mix |"
   ]
  },
  {
   "cell_type": "markdown",
   "metadata": {},
   "source": [
    "<hr><br>"
   ]
  },
  {
   "cell_type": "markdown",
   "metadata": {},
   "source": [
    "### 2. Preprocessing"
   ]
  },
  {
   "cell_type": "markdown",
   "metadata": {},
   "source": [
    "Run next cell to input the data to model driver. This class is used to train and create Griffin model.\n",
    "\n",
    "📝 Note: If you created your own config.yml file, please specify its name correctly."
   ]
  },
  {
   "cell_type": "code",
   "execution_count": null,
   "metadata": {},
   "outputs": [],
   "source": [
    "from base_driver import MMMBaseDriver\n",
    "\n",
    "driver = MMMBaseDriver(\n",
    "    \"demo_config.yml\",\n",
    "    \"demo_data.xlsx\",\n",
    "    \"holidays.xlsx\")"
   ]
  },
  {
   "cell_type": "markdown",
   "metadata": {},
   "source": [
    "Setup a separate logger to avoid seeing debug messages in during the demo."
   ]
  },
  {
   "cell_type": "code",
   "execution_count": 2,
   "metadata": {},
   "outputs": [],
   "source": [
    "from base_driver import utils as ut\n",
    "\n",
    "ut.setup_logger()\n",
    "ut.set_style()"
   ]
  },
  {
   "cell_type": "markdown",
   "metadata": {},
   "source": [
    "### 3. Run model"
   ]
  },
  {
   "cell_type": "markdown",
   "metadata": {},
   "source": [
    "Run next cell to start training. Driver performs all variable transformations, Adstock, value stardardization, etc.\n",
    "\n",
    "Please note that depending on the number of iteration in model config this may take long time."
   ]
  },
  {
   "cell_type": "code",
   "execution_count": null,
   "metadata": {},
   "outputs": [],
   "source": [
    "driver.main()"
   ]
  },
  {
   "cell_type": "markdown",
   "metadata": {},
   "source": [
    "Now we have the model created. The driver saves all the outputs into results/ folder. Please take a look at the files inside the results folder"
   ]
  },
  {
   "cell_type": "markdown",
   "metadata": {},
   "source": [
    "### Understanding Model Evaluation Metrics in Griffin MMM\n",
    "\n",
    "### ELPD (Expected Log Pointwise Predictive Density)\n",
    "The ELPD is model selection criteria for Bayesian models. Higher is better.\n",
    "\n",
    "> 📖 See: `\"docs/ELPD_Explainer.md\"` for \"Warning signs\" when evaluating models and Best practices."
   ]
  },
  {
   "cell_type": "code",
   "execution_count": null,
   "metadata": {},
   "outputs": [],
   "source": [
    "driver.compute_elpd(model_name=driver.run_id, results_dir=\"/results\")"
   ]
  },
  {
   "cell_type": "markdown",
   "metadata": {},
   "source": [
    "Save posterior samples into the .nc file. It creates \"trace.nc\" file in the results folder, "
   ]
  },
  {
   "cell_type": "code",
   "execution_count": null,
   "metadata": {},
   "outputs": [],
   "source": [
    "driver.save_posterior_samples(results_dir='/results')"
   ]
  },
  {
   "cell_type": "markdown",
   "metadata": {},
   "source": [
    "Plot the posterior distributions for all media channels. It creates \"media_spend_posterior.png\" file. You can specify different name in `filename_prefix` parameter of function.\n",
    "\n",
    "The plot helps to understand both the estimated impact of each channel and the confidence level in those estimates. Wider distributions indicate more uncertainty, while narrower ones suggest more precise estimates. This visualization is particularly useful for comparing the relative effectiveness and reliability of different marketing channels' performance."
   ]
  },
  {
   "cell_type": "code",
   "execution_count": null,
   "metadata": {},
   "outputs": [],
   "source": [
    "# driver.plot_posterior_distributions(results_dir='/content/results', filename_prefix='media_spend_posterior'):\n",
    "\n",
    "driver.plot_posterior_distributions(results_dir='/content/results')"
   ]
  },
  {
   "cell_type": "markdown",
   "metadata": {},
   "source": [
    "Visualize the MCMC sampling traces for key model parameters to assess model convergence and parameter distributions.\n",
    "\n",
    "Key Parameters Shown:\n",
    "- intercept: Base level of the target variable\n",
    "- likelihood_sigma: Model's uncertainty parameter\n",
    "- beta_channel: Channel-specific coefficient strengths\n",
    "- alpha: Shape parameter for saturation curves\n",
    "- lam: Decay rate parameter\n",
    "- gamma_control: Coefficients for control variables\n",
    "\n",
    "You can use the plots to evaluate:\n",
    "1. Convergence: The trace should show good mixing and no obvious trends or patterns\n",
    "2. Parameter Distributions: The shape and spread of posterior distributions\n",
    "3. Chain Agreement: Multiple chains should explore similar regions"
   ]
  },
  {
   "cell_type": "code",
   "execution_count": null,
   "metadata": {},
   "outputs": [],
   "source": [
    "model_trace = driver.plot_model_trace()"
   ]
  },
  {
   "cell_type": "markdown",
   "metadata": {},
   "source": [
    "Calculate the R^2 score for the model and Visualize posterior predictive samples from the model.\n",
    "\n",
    "Check how well the model retrodicts the training data by sampling the posterior predictive.        "
   ]
  },
  {
   "cell_type": "code",
   "execution_count": null,
   "metadata": {},
   "outputs": [],
   "source": [
    "r2_score = driver.calculate_train_r_squared()\n",
    "posterior_predictive = driver.plot_posterior_predictive()"
   ]
  },
  {
   "cell_type": "markdown",
   "metadata": {},
   "source": [
    "Visualize the model’s predictions against the observed data. The observed data is plotted as a black line.\n",
    "\n",
    "HDI - Highest Density Intervals"
   ]
  },
  {
   "cell_type": "code",
   "execution_count": null,
   "metadata": {},
   "outputs": [],
   "source": [
    "components_contribution = driver.plot_components_contributions()"
   ]
  },
  {
   "cell_type": "markdown",
   "metadata": {},
   "source": [
    "A waterfall plot visualizes how different channels and other factors contribute to the total KPI (target). The plot starts with the baseline performance and shows the incremental impact of each channel, allowing you to understand which chanels drove positive or negative changes in the final outcome.\n",
    "\n",
    "Waterfall plot helps to identify which channels are most and least effective. It makes it easy to explain ROI to stakeholders and to validate marketing spend decisions."
   ]
  },
  {
   "cell_type": "code",
   "execution_count": null,
   "metadata": {},
   "outputs": [],
   "source": [
    "waterfall_plot = driver.plot_waterfall_components_decomposition()"
   ]
  },
  {
   "cell_type": "markdown",
   "metadata": {},
   "source": [
    "### 4. Check results. Diagnostics."
   ]
  },
  {
   "cell_type": "markdown",
   "metadata": {},
   "source": [
    "📖 See: `\"docs/Output_Guide.ms\"` contains detaled explanations of files in the results folder. "
   ]
  },
  {
   "cell_type": "markdown",
   "metadata": {},
   "source": [
    "Run the next cell to see a summary of the model's fit result.\n",
    "\n",
    "The Table show the model's fit result, including the intercept, likelihood sigma, beta channel, alpha, and lam variables, along with their median values and highest density interval (HDI) with a probability of 0.90."
   ]
  },
  {
   "cell_type": "code",
   "execution_count": null,
   "metadata": {},
   "outputs": [],
   "source": [
    "from mmm import describe as dsc\n",
    "\n",
    "quick_stats = dsc.quick_stats(driver.model)\n",
    "quick_stats"
   ]
  },
  {
   "cell_type": "markdown",
   "metadata": {},
   "source": [
    "### Saturation curves.\n",
    "\n",
    "You can see where every week's spend falls on each channel's saturation curve."
   ]
  },
  {
   "cell_type": "code",
   "execution_count": null,
   "metadata": {},
   "outputs": [],
   "source": [
    "from mmm import plot as mplt\n",
    "weekly_spend_curve = mplt.weekly_spend_by_channel(driver.model)"
   ]
  },
  {
   "cell_type": "markdown",
   "metadata": {},
   "source": [
    "Print the variance over time for each feature. \n",
    "\n",
    "Variances below low variance threshold or above high variance threshold are highlighted in red. \n",
    "If this happens, consider possible transformations to your data (such as combining channels).\n",
    "\n",
    "For the national-level data the dataframe contains just one column, and for geo-level data the list contains one column for each geo.\n",
    "\n",
    "The \"`feature_x`\" rows refer to the media channels. Spends must be positive.\n",
    "\n",
    "Default thresholds used in Griffin:\n",
    "\n",
    "| Parameter | Value |\n",
    "|-----------|-------|\n",
    "| Low Variance Threshold | 0.001 |\n",
    "| High Variance Threshold | 3.0 |\n",
    "| Low Spend Threshold | 0.01 |\n",
    "| High VIF Threshold | 7.0 |"
   ]
  },
  {
   "cell_type": "code",
   "execution_count": null,
   "metadata": {},
   "outputs": [],
   "source": [
    "driver.check_quality()\n",
    "\n",
    "high_var = driver.highlight_variances()\n",
    "high_var\n",
    "\n",
    "# default thresholds are 0.001 and 3.0, for low and high variances respectively."
   ]
  },
  {
   "cell_type": "markdown",
   "metadata": {},
   "source": [
    "VIF: If the variance inflation factor (VIF) is at or above high VIF threshold, consider merging or dropping features."
   ]
  },
  {
   "cell_type": "code",
   "execution_count": null,
   "metadata": {},
   "outputs": [],
   "source": [
    "high_inf = driver.highlight_high_vif_values()\n",
    "high_inf\n",
    "\n",
    "# default threshold is 7.0"
   ]
  },
  {
   "cell_type": "markdown",
   "metadata": {},
   "source": [
    "The fraction of the total spend in each channel."
   ]
  },
  {
   "cell_type": "code",
   "execution_count": null,
   "metadata": {},
   "outputs": [],
   "source": [
    "high_spf = driver.highlight_low_spend_fractions()\n",
    "high_spf"
   ]
  },
  {
   "cell_type": "markdown",
   "metadata": {},
   "source": [
    "Plot **correlation** between media spends"
   ]
  },
  {
   "cell_type": "code",
   "execution_count": null,
   "metadata": {},
   "outputs": [],
   "source": [
    "fig, corr_df = driver.plot_correlation()\n",
    "fig"
   ]
  },
  {
   "cell_type": "code",
   "execution_count": null,
   "metadata": {},
   "outputs": [],
   "source": [
    "corr_df"
   ]
  },
  {
   "cell_type": "markdown",
   "metadata": {},
   "source": [
    "Plot *the media spend* over time.\n",
    "\n",
    "Take a close look at the changes in the output metric over time. \n",
    "Think about whether things outside of marketing may account for big swings, and be mindful of this going into the analysis."
   ]
  },
  {
   "cell_type": "code",
   "execution_count": null,
   "metadata": {},
   "outputs": [],
   "source": [
    "all_mds_fig = driver.plot_all_media_spend()\n",
    "all_mds_fig"
   ]
  },
  {
   "cell_type": "markdown",
   "metadata": {},
   "source": [
    "### Model Structure Visualization\n",
    "\n",
    "Understanding the structure of your Media Mix Model is crucial for interpreting results and ensuring that all components are correctly mapped. The `plot_model_structure()` function generates a visual representation of the model, showing how media channels, external factors, and transformations (e.g., adstock, saturation) contribute to the target metric. This diagram helps validate the setup and provides an intuitive overview of the model's architecture.\n",
    "\n",
    "\n"
   ]
  },
  {
   "cell_type": "code",
   "execution_count": null,
   "metadata": {},
   "outputs": [],
   "source": [
    "mdl_st = driver.plot_model_structure()\n",
    "mdl_st"
   ]
  },
  {
   "cell_type": "markdown",
   "metadata": {},
   "source": [
    "<br>\n",
    "A \"Weekly Media and Baseline contribution\" plot visualizes how different marketing activities and baseline factors contribute to business performance (like sales or conversions) over time.\n",
    "\n",
    "This plot helps to understand:\n",
    "\n",
    "- The relative contribution of each channel week by week\n",
    "- Seasonal patterns in baseline and media performance\n",
    "- How marketing activities stack up against organic performance\n",
    "- Periods of high/low marketing effectiveness\n",
    "- The overall composition of business drivers"
   ]
  },
  {
   "cell_type": "code",
   "execution_count": null,
   "metadata": {},
   "outputs": [],
   "source": [
    "driver.display_image(\"weekly_media_and_baseline_contribution.png\")"
   ]
  },
  {
   "cell_type": "markdown",
   "metadata": {},
   "source": [
    "A \"Weekly media contribution\" plot displays how different marketing channels contribute to business performance over time, excluding the baseline effects. "
   ]
  },
  {
   "cell_type": "code",
   "execution_count": null,
   "metadata": {},
   "outputs": [],
   "source": [
    "driver.display_image(\"weekly_media_contribution.png\")"
   ]
  },
  {
   "cell_type": "markdown",
   "metadata": {},
   "source": [
    "<br>\n",
    "Examine the processed dataset used for modeling after data validation and preprocessing steps."
   ]
  },
  {
   "cell_type": "code",
   "execution_count": null,
   "metadata": {},
   "outputs": [],
   "source": [
    "driver.per_observation_df"
   ]
  },
  {
   "cell_type": "code",
   "execution_count": null,
   "metadata": {},
   "outputs": [],
   "source": [
    "driver.data_to_fit.to_data_frame()"
   ]
  },
  {
   "cell_type": "code",
   "execution_count": null,
   "metadata": {},
   "outputs": [],
   "source": [
    "model = driver.model\n",
    "model.plot_direct_contribution_curves(\n",
    "    show_fit=True,\n",
    "    method=\"sigmoid\",\n",
    "    export_curves=True,  # save curves as numerical outputs\n",
    "    results_dir='./results'\n",
    ")"
   ]
  },
  {
   "cell_type": "code",
   "execution_count": null,
   "metadata": {},
   "outputs": [],
   "source": []
  },
  {
   "cell_type": "markdown",
   "metadata": {},
   "source": [
    "## Budget Optimization."
   ]
  },
  {
   "cell_type": "markdown",
   "metadata": {},
   "source": [
    "### What is Budget Optimization? \n",
    "\n",
    "MMM budget optimization is the allocation of a marketing budget across various channels using a fitted marketing mix model and historical data.\n",
    "\n",
    "<br>\n",
    "\n",
    "**Griffin budget optimization**  performs budget optimization by leveraging a calibrated marketing mix model to maximize the expected contribution to the overall marketing objective (e.g., sales, conversions) given a specified total budget. The process involves aggregating historical spending data at a chosen frequency (e.g., monthly, quarterly), defining dynamic budget bounds based on historical spending patterns, and optimizing budget allocations using a non-linear optimization approach.\n",
    "\n",
    "> 📝 Notes:\n",
    "> - The optimization is based on a sigmoid function fitted to each channel's response curve.\n",
    "> - Budget bounds are dynamically calculated as a percentage increase or decrease from historical averages.\n",
    "> - The resulting budget allocation is visualized and saved as a PNG file in the results directory."
   ]
  },
  {
   "cell_type": "markdown",
   "metadata": {},
   "source": [
    "\n",
    "🚨  Warning: Make sure you have downloaded `budget_optimizer.py` and placed it at the same level as the sample_data folder.\n",
    "\n",
    "\n",
    "💡 Info: Griffin's budget optimizer code is located in the budget_optimizer.py file. Feel free to examine it to understand its functionality.\n",
    "\n",
    "<br>\n",
    "\n",
    "Run next cell to import optimizer method."
   ]
  },
  {
   "cell_type": "code",
   "execution_count": 6,
   "metadata": {},
   "outputs": [],
   "source": [
    "from budget_optimizer import optimize_marketing_budget"
   ]
  },
  {
   "cell_type": "markdown",
   "metadata": {},
   "source": [
    "### Run optimization function\n",
    "\n",
    "This plot compares the initial and optimized budget allocations (left panel) and their corresponding contributions to the target metric (right panel) across media channels. The optimized scenario reallocates resources to maximize efficiency and ROI, highlighting channels with higher potential returns and reducing spend on less effective ones. Use this visualization to guide budget adjustments and improve overall campaign performance."
   ]
  },
  {
   "cell_type": "code",
   "execution_count": null,
   "metadata": {},
   "outputs": [],
   "source": [
    "optimize_marketing_budget(driver.model, driver.processed_data, driver.config, driver.results_dir)"
   ]
  },
  {
   "cell_type": "markdown",
   "metadata": {},
   "source": [
    "## Export resutls"
   ]
  },
  {
   "cell_type": "markdown",
   "metadata": {},
   "source": [
    "Run this cell to download all the resulted files into your local machine."
   ]
  },
  {
   "cell_type": "code",
   "execution_count": null,
   "metadata": {},
   "outputs": [],
   "source": [
    "import os\n",
    "from google.colab import files\n",
    "\n",
    "def create_downloadable_zip(target_folder, included_files=None, excluded_files=None, zip_name='model_files.zip'):\n",
    "    \"\"\"\n",
    "    Creates a downloadable zip file of specified content.\n",
    "\n",
    "    Args:\n",
    "        target_folder (str): The folder containing the files to zip.\n",
    "        included_files (list): Specific files or folders to include. If None, includes all.\n",
    "        excluded_files (list): Specific files or folders to exclude.\n",
    "        zip_name (str): Name of the output zip file.\n",
    "    \"\"\"\n",
    "    command = f\"zip -r {zip_name} {target_folder}\"\n",
    "\n",
    "    # Include specific files if provided\n",
    "    if included_files:\n",
    "        for file in included_files:\n",
    "            command += f\" {file}\"\n",
    "\n",
    "    # Exclude specific files if provided\n",
    "    if excluded_files:\n",
    "        for file in excluded_files:\n",
    "            command += f\" -x \\\"*/{file}*\\\"\"\n",
    "    os.system(command)\n",
    "\n",
    "    files.download(zip_name)"
   ]
  },
  {
   "cell_type": "code",
   "execution_count": null,
   "metadata": {},
   "outputs": [],
   "source": [
    "# Define the folder and files to include/exclude\n",
    "target_folder = \"/content/results\"\n",
    "excluded_files = [\"trace.nc\", \"other_folder\", \"unnecessary_file\"]\n",
    "zip_name = \"model_files.zip\"\n",
    "\n",
    "# Create and download the zip file\n",
    "create_downloadable_zip(target_folder, excluded_files=excluded_files, zip_name=zip_name)"
   ]
  },
  {
   "cell_type": "markdown",
   "metadata": {},
   "source": [
    "## Next steps"
   ]
  },
  {
   "cell_type": "markdown",
   "metadata": {},
   "source": [
    "### This Demo shows just the basic features of what Griffin provides. In the Pro version, you can use Griffin to model an unconstrained number of media channels.\n",
    "\n",
    "| Demo Version (Free) | Pro Version (Yearly Subscription) |\n",
    "|--------------------|------------------------------------|\n",
    "| ✓ Unlimited access to the demo version | ✓ Full access to all features |\n",
    "| ✓ Support for up to 4 media channels | ✓ Support for unlimited media channels |\n",
    "| ✓ All features and visualizations | ✓ Advanced analytics and visualizations |\n",
    "| ✓ Basic / Community support | ✓ Priority email support |\n",
    "| | ✓ Quarterly strategy consultation |\n",
    "| | ✓ Regular software updates |\n",
    "| **Best for:** Businesses or marketers looking to explore MMM capabilities | **Best for:** Agencies of all sizes and mid-size to large businesses serious about optimizing their marketing mix |"
   ]
  },
  {
   "cell_type": "markdown",
   "metadata": {},
   "source": [
    "## Support & Resources"
   ]
  },
  {
   "cell_type": "markdown",
   "metadata": {},
   "source": [
    "Contact\n",
    "\n",
    "- info@griffin-analytics.com - for any questions.\n",
    "\n",
    "<hr>"
   ]
  },
  {
   "cell_type": "markdown",
   "metadata": {},
   "source": [
    "Copyright © 2024 FIXEDPOINT IO LTD, incorporated and registered in England and Wales with company number 13288661 whose registered office is at 20-22 Wenlock Road, London, England, N1 7GU."
   ]
  }
 ],
 "metadata": {
  "kernelspec": {
   "display_name": "demo_env_py311",
   "language": "python",
   "name": "python3"
  },
  "language_info": {
   "codemirror_mode": {
    "name": "ipython",
    "version": 3
   },
   "file_extension": ".py",
   "mimetype": "text/x-python",
   "name": "python",
   "nbconvert_exporter": "python",
   "pygments_lexer": "ipython3",
   "version": "3.11.11"
  }
 },
 "nbformat": 4,
 "nbformat_minor": 2
}
