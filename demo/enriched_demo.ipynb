{
 "cells": [
  {
   "cell_type": "markdown",
   "metadata": {},
   "source": [
    "## Welcome to Griffin"
   ]
  },
  {
   "cell_type": "markdown",
   "metadata": {},
   "source": [
    "### Introduction"
   ]
  },
  {
   "cell_type": "markdown",
   "metadata": {},
   "source": [
    "Griffin MMM is a Media Mix Modeling solution designed to empower marketers with advanced analytics and intelligent insights. As part of an evolving suite of tools, Griffin MMM stands at the forefront of marketing technology, enabling users to optimize their strategies across various channels effectively.\n",
    "\n",
    "At its core, Griffin MMM is a powerful analytical tool that helps navigate the complex marketing landscape. It provides a robust framework for analyzing the effectiveness of different marketing channels, allowing marketers to make data-driven decisions and maximize their return on investment (ROI).\n",
    "\n",
    "> 💡 Info: Download docs and demo files in the next section of this notebook.\n",
    "\n",
    "> 📖 See: `docs/Griffin_documentation.pdf` and `docs/Griffin_Quickstart.md` for detailed information about Griffin."
   ]
  },
  {
   "cell_type": "markdown",
   "metadata": {},
   "source": [
    "### What is MMM?"
   ]
  },
  {
   "cell_type": "markdown",
   "metadata": {},
   "source": [
    "Marketing mix modeling (MMM) is a privacy-friendly, highly resilient, data-driven statistical analysis that quantifies the incremental sales impact and ROI of marketing and non-marketing activities.\n",
    "\n",
    "MMM is an econometric model that aims, under certain marketing assumptions, to quantify the incremental impact of marketing and non-marketing activities on a pre-defined KPI (like sales or subscriptions)."
   ]
  },
  {
   "cell_type": "markdown",
   "metadata": {},
   "source": [
    "## Setup\n",
    "\n",
    "Install necessary packages"
   ]
  },
  {
   "cell_type": "code",
   "execution_count": 3,
   "metadata": {},
   "outputs": [
    {
     "name": "stdout",
     "output_type": "stream",
     "text": [
      "\u001b[33mWARNING: There was an error checking the latest version of pip.\u001b[0m\u001b[33m\n",
      "\u001b[0m\u001b[33mWARNING: There was an error checking the latest version of pip.\u001b[0m\u001b[33m\n",
      "\u001b[0m"
     ]
    }
   ],
   "source": [
    "!pip install -q \"ipywidgets>=7,<8\" # Required for the widgets to work in Colab. Other versions doesn't work in Colab.\n",
    "!pip install -q requests\n",
    "!pip install -q -U git+https://@github.com/griffin-analytics/griffin-mmm-demo.git"
   ]
  },
  {
   "cell_type": "markdown",
   "metadata": {},
   "source": [
    "## Download demo files"
   ]
  },
  {
   "cell_type": "code",
   "execution_count": null,
   "metadata": {},
   "outputs": [],
   "source": [
    "import requests\n",
    "import time\n",
    "import os\n",
    "\n",
    "def get_raw_github_url(url):\n",
    "    \"\"\"\n",
    "    Convert GitHub URL to raw content URL\n",
    "    \"\"\"\n",
    "    raw_url = url.replace('github.com', 'raw.githubusercontent.com')\n",
    "    raw_url = raw_url.replace('/blob/', '/')\n",
    "    return raw_url\n",
    "\n",
    "def download_github_file(url, save_path):\n",
    "    \"\"\"\n",
    "    Download a file from GitHub repository.\n",
    "    Parameters:\n",
    "    -----------\n",
    "    url : str\n",
    "        GitHub URL of the file\n",
    "    save_path : str\n",
    "        Local path where the file should be saved\n",
    "    \"\"\"\n",
    "    try:\n",
    "        # Ensure the directory exists\n",
    "        directory = os.path.dirname(save_path)\n",
    "        if directory and not os.path.exists(directory):\n",
    "            os.makedirs(directory)\n",
    "            print(f\"Created directory: {directory}\")\n",
    "\n",
    "        # Convert to raw content URL\n",
    "        raw_url = get_raw_github_url(url)\n",
    "        print(f\"Downloading from: {raw_url}\")\n",
    "\n",
    "        # Add retry mechanism\n",
    "        max_retries = 3\n",
    "        retry_delay = 1  # seconds\n",
    "        \n",
    "        for attempt in range(max_retries):\n",
    "            try:\n",
    "                response = requests.get(raw_url, timeout=10)\n",
    "                response.raise_for_status()\n",
    "                \n",
    "                # Save the file\n",
    "                with open(save_path, 'wb') as f:\n",
    "                    f.write(response.content)\n",
    "                print(f\"Successfully downloaded: {save_path}\")\n",
    "                return True\n",
    "                \n",
    "            except requests.RequestException as e:\n",
    "                if attempt < max_retries - 1:\n",
    "                    print(f\"Attempt {attempt + 1} failed. Retrying in {retry_delay} seconds...\")\n",
    "                    time.sleep(retry_delay)\n",
    "                    retry_delay *= 2  # Exponential backoff\n",
    "                else:\n",
    "                    raise e\n",
    "                    \n",
    "    except Exception as e:\n",
    "        print(f\"Error downloading {url}: {str(e)}\")\n",
    "        return False\n",
    "\n",
    "files_to_download = [\n",
    "    (\"https://github.com/griffin-analytics/griffin-mmm-demo/blob/main/demo/demo_config.yml\", \"demo_config.yml\"),\n",
    "    (\"https://github.com/griffin-analytics/griffin-mmm-demo/blob/main/demo/demo_data.xlsx\", \"demo_data.xlsx\"),\n",
    "    (\"https://github.com/griffin-analytics/griffin-mmm-demo/blob/main/demo/holidays.xlsx\", \"holidays.xlsx\"),\n",
    "    (\"https://github.com/griffin-analytics/griffin-mmm-demo/blob/main/docs/Configuration_Guide.md\", \"docs/Configuration_Guide.md\"),\n",
    "    (\"https://github.com/griffin-analytics/griffin-mmm-demo/blob/main/docs/ELPD_Explainer.md\", \"docs/ELPD_Explainer.md\"),\n",
    "    (\"https://github.com/griffin-analytics/griffin-mmm-demo/blob/main/docs/Griffin_Quickstart.md\", \"docs/Griffin_Quickstart.md\"),\n",
    "    (\"https://github.com/griffin-analytics/griffin-mmm-demo/blob/main/docs/Griffin_documentation.pdf\", \"docs/Griffin_documentation.pdf\"),\n",
    "    (\"https://github.com/griffin-analytics/griffin-mmm-demo/blob/main/docs/MODEL_COMPARISON.md\", \"docs/MODEL_COMPARISON.md\"),\n",
    "    (\"https://github.com/griffin-analytics/griffin-mmm-demo/blob/main/docs/Output_Guide.md\", \"docs/Output_Guide.md\"),\n",
    "]\n",
    "\n",
    "print(\"Starting downloads...\")\n",
    "for url, save_path in files_to_download:\n",
    "    download_github_file(url, save_path)\n",
    "print(\"Download process completed!\")"
   ]
  },
  {
   "cell_type": "markdown",
   "metadata": {},
   "source": [
    "## Demo"
   ]
  },
  {
   "cell_type": "markdown",
   "metadata": {},
   "source": [
    "### 1. Inputs"
   ]
  },
  {
   "cell_type": "markdown",
   "metadata": {},
   "source": [
    "#### What are the input files?\n",
    "\n",
    "#### Marketing data - `demo_data.xlsx`\n",
    "This is an Excel file containing sample marketing data for demonstrating the MMM analysis. It includes:\n",
    "* Sales and conversion metrics (dependent variables), the number of \"Subscribres\" in this demo\n",
    "* Marketing spend across different channels, masked as media_cost_X\n",
    "* Impressions (response) for each channel, masked as media_imp_X\n",
    "* Other relevant marketing KPIs\n",
    "\n",
    "#### Config - `demo_config.yml`\n",
    "This is a configuration file in YAML format that contains settings for the Marketing Mix Model (MMM) demo. It includes:\n",
    "* Model settings\n",
    "* Data transformation rules\n",
    "* Analysis configurations for running the MMM analysis\n",
    "\n",
    "> 📖 See: \"docs/Configuration_Guide.md\" file for detailed configuration parameters.\n",
    "\n",
    "#### Holidays data - `holidays.xlsx`\n",
    "This Excel file contains holiday data that's used to account for holiday effects."
   ]
  },
  {
   "cell_type": "markdown",
   "metadata": {},
   "source": [
    "<hr>\n",
    "\n",
    "#### Model configuration guide\n",
    "\n",
    "Griffin MMM uses a configuration file config.yaml to specify key settings such as model structure, data\n",
    "paths, and hyperparameters. The configuration file provides a highly customisable setup, allowing users to\n",
    "control how the model processes input data, applies Bayesian inference, and optimises the use of available\n",
    "marketing data.\n",
    "\n",
    "📖 See: For detailed explanations of config parameters, please refer to the \"docs/Griffin_documentation.pdf\" file, page 11.\n",
    "\n",
    "\n",
    "💡 Info: You can edit the demo_config.yml file manually or using UI widgets. Run the next cell to customize the model configuration for your needs. Don't forget to save your changes by clicking the \"Save\" button at the bottom of the widget."
   ]
  },
  {
   "cell_type": "code",
   "execution_count": 1,
   "metadata": {},
   "outputs": [
    {
     "data": {
      "application/vnd.jupyter.widget-view+json": {
       "model_id": "215a5e20216e485393725149789b1b08",
       "version_major": 2,
       "version_minor": 0
      },
      "text/plain": [
       "HBox(children=(VBox(children=(HTML(value='<h3 style=\"margin-top:20px\">MMM Options</h3>'), Text(value='MMM', de…"
      ]
     },
     "metadata": {},
     "output_type": "display_data"
    }
   ],
   "source": [
    "# If running in Colab, enable custom widget manager\n",
    "try:\n",
    "    from google.colab import output\n",
    "    output.enable_custom_widget_manager()\n",
    "except:\n",
    "    pass\n",
    "\n",
    "from demo_utils.widgets import config_widget\n",
    "\n",
    "display(config_widget)"
   ]
  },
  {
   "cell_type": "markdown",
   "metadata": {},
   "source": [
    "<div style=\"border-top: 3px solid #16a085; margin-top: 30px; margin-bottom: 30px\"></div>"
   ]
  },
  {
   "cell_type": "markdown",
   "metadata": {},
   "source": [
    "### Demo vs Pro version\n",
    "\n",
    "| Demo Version (Free) | Pro Version (Yearly Subscription) |\n",
    "|--------------------|------------------------------------|\n",
    "| ✓ Unlimited access to the demo version | ✓ Full access to all features |\n",
    "| ✓ Support for up to 4 media channels | ✓ Support for unlimited media channels |\n",
    "| ✓ All features and visualizations | ✓ Advanced analytics and visualizations |\n",
    "| ✓ Basic / Community support | ✓ Priority email support |\n",
    "| | ✓ Quarterly strategy consultation |\n",
    "| | ✓ Regular software updates |\n",
    "| **Best for:** Businesses or marketers looking to explore MMM capabilities | **Best for:** Agencies of all sizes and mid-size to large businesses serious about optimizing their marketing mix |"
   ]
  },
  {
   "cell_type": "markdown",
   "metadata": {},
   "source": [
    "<hr><br>"
   ]
  },
  {
   "cell_type": "markdown",
   "metadata": {},
   "source": [
    "### 2. Preprocessing"
   ]
  },
  {
   "cell_type": "markdown",
   "metadata": {},
   "source": [
    "Run next cell to input the data to model driver. This class is used to train and create Griffin model.\n",
    "\n",
    "📝 Note: If you created your own config.yml file, please specify its name correctly."
   ]
  },
  {
   "cell_type": "code",
   "execution_count": 3,
   "metadata": {},
   "outputs": [
    {
     "name": "stdout",
     "output_type": "stream",
     "text": [
      "Google Colab not detected. Some functions may not work.\n"
     ]
    },
    {
     "name": "stderr",
     "output_type": "stream",
     "text": [
      "19:26:23 - cmdstanpy - INFO - Chain [1] start processing\n",
      "19:26:23 - cmdstanpy - INFO - Chain [1] done processing\n"
     ]
    },
    {
     "name": "stdout",
     "output_type": "stream",
     "text": [
      "Processing feature: competitor_spend, impact: negative\n"
     ]
    },
    {
     "name": "stderr",
     "output_type": "stream",
     "text": [
      "19:26:26 - cmdstanpy - INFO - Chain [1] start processing\n",
      "19:26:26 - cmdstanpy - INFO - Chain [1] done processing\n",
      "DEBUG:2025-01-07 19:26:26,418:jax._src.dispatch:182: Finished tracing + transforming greater for pjit in 0.000503302 sec\n",
      "DEBUG:2025-01-07 19:26:26,422:jax._src.xla_bridge:602: No jax_plugins namespace packages available\n",
      "DEBUG:2025-01-07 19:26:26,429:jax._src.xla_bridge:1002: Initializing backend 'cpu'\n",
      "DEBUG:2025-01-07 19:26:26,431:jax._src.xla_bridge:1014: Backend 'cpu' initialized\n",
      "DEBUG:2025-01-07 19:26:26,432:jax._src.xla_bridge:1002: Initializing backend 'cuda'\n",
      "INFO:2025-01-07 19:26:26,432:jax._src.xla_bridge:927: Unable to initialize backend 'cuda': \n",
      "DEBUG:2025-01-07 19:26:26,433:jax._src.xla_bridge:1002: Initializing backend 'rocm'\n",
      "INFO:2025-01-07 19:26:26,433:jax._src.xla_bridge:927: Unable to initialize backend 'rocm': module 'jaxlib.xla_extension' has no attribute 'GpuAllocatorConfig'\n",
      "DEBUG:2025-01-07 19:26:26,434:jax._src.xla_bridge:1002: Initializing backend 'tpu'\n",
      "INFO:2025-01-07 19:26:26,435:jax._src.xla_bridge:927: Unable to initialize backend 'tpu': INTERNAL: Failed to open libtpu.so: libtpu.so: cannot open shared object file: No such file or directory\n",
      "WARNING:2025-01-07 19:26:26,436:jax._src.xla_bridge:969: An NVIDIA GPU may be present on this machine, but a CUDA-enabled jaxlib is not installed. Falling back to cpu.\n",
      "DEBUG:2025-01-07 19:26:26,436:jax._src.interpreters.pxla:1906: Compiling greater with global shapes and types [ShapedArray(float32[171,4]), ShapedArray(int32[], weak_type=True)]. Argument mapping: (UnspecifiedValue, UnspecifiedValue).\n",
      "DEBUG:2025-01-07 19:26:26,446:jax._src.dispatch:182: Finished jaxpr to MLIR module conversion jit(greater) in 0.008644342 sec\n",
      "DEBUG:2025-01-07 19:26:26,447:jax._src.compiler:167: get_compile_options: num_replicas=1 num_partitions=1 device_assignment=[[CpuDevice(id=0)]]\n",
      "DEBUG:2025-01-07 19:26:26,448:jax._src.compiler:239: get_compile_options XLA-AutoFDO profile: using XLA-AutoFDO profile version -1\n",
      "DEBUG:2025-01-07 19:26:26,448:jax._src.cache_key:152: get_cache_key hash of serialized computation: efbfc9053383639bef91faa8eb360e1f8c1787a4cce9f04fd4cab85bd3fafbc0\n",
      "DEBUG:2025-01-07 19:26:26,449:jax._src.cache_key:158: get_cache_key hash after serializing computation: efbfc9053383639bef91faa8eb360e1f8c1787a4cce9f04fd4cab85bd3fafbc0\n",
      "DEBUG:2025-01-07 19:26:26,449:jax._src.cache_key:152: get_cache_key hash of serialized jax_lib version: c8601d1831072872293c1f9c58282e40273dd0289eaea98e369c2037dc4231ae\n",
      "DEBUG:2025-01-07 19:26:26,451:jax._src.cache_key:158: get_cache_key hash after serializing jax_lib version: eda6b68fae710dafd7198c3503f3dc39e0fa31dd9835136df3a1eead948788b7\n",
      "DEBUG:2025-01-07 19:26:26,451:jax._src.cache_key:152: get_cache_key hash of serialized XLA flags: e3b0c44298fc1c149afbf4c8996fb92427ae41e4649b934ca495991b7852b855\n",
      "DEBUG:2025-01-07 19:26:26,452:jax._src.cache_key:158: get_cache_key hash after serializing XLA flags: eda6b68fae710dafd7198c3503f3dc39e0fa31dd9835136df3a1eead948788b7\n",
      "DEBUG:2025-01-07 19:26:26,452:jax._src.cache_key:152: get_cache_key hash of serialized compile_options: 2a589923d1622726e70feec5d7c01445d31216f10935bd44445a5b7e54325073\n",
      "DEBUG:2025-01-07 19:26:26,453:jax._src.cache_key:158: get_cache_key hash after serializing compile_options: 8cfb123548c11ffb06e7fcb646b105afe0bd23c8c503d25a1125b9c41d6dc5e6\n",
      "DEBUG:2025-01-07 19:26:26,453:jax._src.cache_key:152: get_cache_key hash of serialized accelerator_config: 68c6efbdebb80efe282e44bc6f25994b02bc71eeea9bc20e84f06a82fc1b590a\n",
      "DEBUG:2025-01-07 19:26:26,455:jax._src.cache_key:158: get_cache_key hash after serializing accelerator_config: 70c929d3cfd96334985a70f7829f713b7d47c81d9a7cfb9513ae4ee99ce2de28\n",
      "DEBUG:2025-01-07 19:26:26,458:jax._src.cache_key:152: get_cache_key hash of serialized compression: 0ea55c28f8014d8886b6248fe3da5d588f55c0823847a6b4579f1131b051b5e2\n",
      "DEBUG:2025-01-07 19:26:26,459:jax._src.cache_key:158: get_cache_key hash after serializing compression: d6f41fe956508d8c310ed00f00b8b17139e6b49fcc12f86e340a37cd906cb977\n",
      "DEBUG:2025-01-07 19:26:26,460:jax._src.cache_key:152: get_cache_key hash of serialized custom_hook: e3b0c44298fc1c149afbf4c8996fb92427ae41e4649b934ca495991b7852b855\n",
      "DEBUG:2025-01-07 19:26:26,460:jax._src.cache_key:158: get_cache_key hash after serializing custom_hook: d6f41fe956508d8c310ed00f00b8b17139e6b49fcc12f86e340a37cd906cb977\n",
      "DEBUG:2025-01-07 19:26:26,461:jax._src.compilation_cache:215: get_executable_and_time: cache is disabled/not initialized\n",
      "DEBUG:2025-01-07 19:26:26,462:jax._src.compiler:108: PERSISTENT COMPILATION CACHE MISS for 'jit_greater' with key 'jit_greater-d6f41fe956508d8c310ed00f00b8b17139e6b49fcc12f86e340a37cd906cb977'\n",
      "DEBUG:2025-01-07 19:26:26,477:jax._src.compiler:723: Not writing persistent cache entry for 'jit_greater' because it took < 1.00 seconds to compile (0.01s)\n",
      "DEBUG:2025-01-07 19:26:26,478:jax._src.dispatch:182: Finished XLA compilation of jit(greater) in 0.030265331 sec\n",
      "DEBUG:2025-01-07 19:26:26,481:jax._src.dispatch:182: Finished tracing + transforming _reduce_sum for pjit in 0.000772715 sec\n",
      "DEBUG:2025-01-07 19:26:26,482:jax._src.interpreters.pxla:1906: Compiling _reduce_sum with global shapes and types [ShapedArray(bool[171,4])]. Argument mapping: (UnspecifiedValue,).\n",
      "DEBUG:2025-01-07 19:26:26,486:jax._src.dispatch:182: Finished jaxpr to MLIR module conversion jit(_reduce_sum) in 0.002637625 sec\n",
      "DEBUG:2025-01-07 19:26:26,487:jax._src.compiler:167: get_compile_options: num_replicas=1 num_partitions=1 device_assignment=[[CpuDevice(id=0)]]\n",
      "DEBUG:2025-01-07 19:26:26,487:jax._src.compiler:239: get_compile_options XLA-AutoFDO profile: using XLA-AutoFDO profile version -1\n",
      "DEBUG:2025-01-07 19:26:26,488:jax._src.cache_key:152: get_cache_key hash of serialized computation: c49e4fa1cdbaeb3c66862658e1c7b0730e3fceae397543d8aba020e9d8423cbb\n",
      "DEBUG:2025-01-07 19:26:26,489:jax._src.cache_key:158: get_cache_key hash after serializing computation: c49e4fa1cdbaeb3c66862658e1c7b0730e3fceae397543d8aba020e9d8423cbb\n",
      "DEBUG:2025-01-07 19:26:26,489:jax._src.cache_key:152: get_cache_key hash of serialized jax_lib version: c8601d1831072872293c1f9c58282e40273dd0289eaea98e369c2037dc4231ae\n",
      "DEBUG:2025-01-07 19:26:26,490:jax._src.cache_key:158: get_cache_key hash after serializing jax_lib version: 5dc7b6651b0670ba0b6d6a5d5d703267af90ff05f8e2f34aad0df6278706ec8b\n",
      "DEBUG:2025-01-07 19:26:26,491:jax._src.cache_key:152: get_cache_key hash of serialized XLA flags: e3b0c44298fc1c149afbf4c8996fb92427ae41e4649b934ca495991b7852b855\n",
      "DEBUG:2025-01-07 19:26:26,492:jax._src.cache_key:158: get_cache_key hash after serializing XLA flags: 5dc7b6651b0670ba0b6d6a5d5d703267af90ff05f8e2f34aad0df6278706ec8b\n",
      "DEBUG:2025-01-07 19:26:26,493:jax._src.cache_key:152: get_cache_key hash of serialized compile_options: b0cd5c86c63a84b88cb9078fbf173335e4e4596dbf5952fdcc2e59ed5266dd57\n",
      "DEBUG:2025-01-07 19:26:26,493:jax._src.cache_key:158: get_cache_key hash after serializing compile_options: f067efa5cad15325d60b0e62ea2cb2d4961fe52b5a18bbcec93d3b8db98b09e5\n",
      "DEBUG:2025-01-07 19:26:26,494:jax._src.cache_key:152: get_cache_key hash of serialized accelerator_config: 68c6efbdebb80efe282e44bc6f25994b02bc71eeea9bc20e84f06a82fc1b590a\n",
      "DEBUG:2025-01-07 19:26:26,494:jax._src.cache_key:158: get_cache_key hash after serializing accelerator_config: 7f236dff6a5713286519a9b924a97bd5e41139a305e2ff722bde84c35cd5fc05\n",
      "DEBUG:2025-01-07 19:26:26,495:jax._src.cache_key:152: get_cache_key hash of serialized compression: 0ea55c28f8014d8886b6248fe3da5d588f55c0823847a6b4579f1131b051b5e2\n",
      "DEBUG:2025-01-07 19:26:26,496:jax._src.cache_key:158: get_cache_key hash after serializing compression: bfbc611cb8795325460d9bf6ce130d9d13851ffc380dbd10a630f421fc5a38c6\n",
      "DEBUG:2025-01-07 19:26:26,496:jax._src.cache_key:152: get_cache_key hash of serialized custom_hook: e3b0c44298fc1c149afbf4c8996fb92427ae41e4649b934ca495991b7852b855\n",
      "DEBUG:2025-01-07 19:26:26,497:jax._src.cache_key:158: get_cache_key hash after serializing custom_hook: bfbc611cb8795325460d9bf6ce130d9d13851ffc380dbd10a630f421fc5a38c6\n",
      "DEBUG:2025-01-07 19:26:26,497:jax._src.compilation_cache:215: get_executable_and_time: cache is disabled/not initialized\n",
      "DEBUG:2025-01-07 19:26:26,498:jax._src.compiler:108: PERSISTENT COMPILATION CACHE MISS for 'jit__reduce_sum' with key 'jit__reduce_sum-bfbc611cb8795325460d9bf6ce130d9d13851ffc380dbd10a630f421fc5a38c6'\n",
      "DEBUG:2025-01-07 19:26:26,529:jax._src.compiler:723: Not writing persistent cache entry for 'jit__reduce_sum' because it took < 1.00 seconds to compile (0.03s)\n",
      "DEBUG:2025-01-07 19:26:26,529:jax._src.dispatch:182: Finished XLA compilation of jit(_reduce_sum) in 0.041495800 sec\n",
      "DEBUG:2025-01-07 19:26:26,531:jax._src.dispatch:182: Finished tracing + transforming greater for pjit in 0.000457287 sec\n",
      "DEBUG:2025-01-07 19:26:26,533:jax._src.interpreters.pxla:1906: Compiling greater with global shapes and types [ShapedArray(int32[4]), ShapedArray(int32[], weak_type=True)]. Argument mapping: (UnspecifiedValue, UnspecifiedValue).\n",
      "DEBUG:2025-01-07 19:26:26,536:jax._src.dispatch:182: Finished jaxpr to MLIR module conversion jit(greater) in 0.002865314 sec\n",
      "DEBUG:2025-01-07 19:26:26,537:jax._src.compiler:167: get_compile_options: num_replicas=1 num_partitions=1 device_assignment=[[CpuDevice(id=0)]]\n",
      "DEBUG:2025-01-07 19:26:26,538:jax._src.compiler:239: get_compile_options XLA-AutoFDO profile: using XLA-AutoFDO profile version -1\n",
      "DEBUG:2025-01-07 19:26:26,539:jax._src.cache_key:152: get_cache_key hash of serialized computation: 3898a36c204051415d6394f51c299bcda8b396b38972c0c53fc3b221ac31546a\n",
      "DEBUG:2025-01-07 19:26:26,540:jax._src.cache_key:158: get_cache_key hash after serializing computation: 3898a36c204051415d6394f51c299bcda8b396b38972c0c53fc3b221ac31546a\n",
      "DEBUG:2025-01-07 19:26:26,541:jax._src.cache_key:152: get_cache_key hash of serialized jax_lib version: c8601d1831072872293c1f9c58282e40273dd0289eaea98e369c2037dc4231ae\n",
      "DEBUG:2025-01-07 19:26:26,542:jax._src.cache_key:158: get_cache_key hash after serializing jax_lib version: 300db274998eec43fed74388cb53f90e0cfc281baba57e8c39ab2e2c7b875f6f\n",
      "DEBUG:2025-01-07 19:26:26,542:jax._src.cache_key:152: get_cache_key hash of serialized XLA flags: e3b0c44298fc1c149afbf4c8996fb92427ae41e4649b934ca495991b7852b855\n",
      "DEBUG:2025-01-07 19:26:26,543:jax._src.cache_key:158: get_cache_key hash after serializing XLA flags: 300db274998eec43fed74388cb53f90e0cfc281baba57e8c39ab2e2c7b875f6f\n",
      "DEBUG:2025-01-07 19:26:26,543:jax._src.cache_key:152: get_cache_key hash of serialized compile_options: 2a589923d1622726e70feec5d7c01445d31216f10935bd44445a5b7e54325073\n",
      "DEBUG:2025-01-07 19:26:26,544:jax._src.cache_key:158: get_cache_key hash after serializing compile_options: de5e73823da0d943300e4398957c4a54453e33ae606041451cb1cf81d81031f8\n",
      "DEBUG:2025-01-07 19:26:26,545:jax._src.cache_key:152: get_cache_key hash of serialized accelerator_config: 68c6efbdebb80efe282e44bc6f25994b02bc71eeea9bc20e84f06a82fc1b590a\n",
      "DEBUG:2025-01-07 19:26:26,545:jax._src.cache_key:158: get_cache_key hash after serializing accelerator_config: d52cf8b82c94495a494bcfbe80b76d1a68a433102bfe6a898eb056e7e2ea171b\n",
      "DEBUG:2025-01-07 19:26:26,546:jax._src.cache_key:152: get_cache_key hash of serialized compression: 0ea55c28f8014d8886b6248fe3da5d588f55c0823847a6b4579f1131b051b5e2\n",
      "DEBUG:2025-01-07 19:26:26,546:jax._src.cache_key:158: get_cache_key hash after serializing compression: e84ac4017455ffce19ba3c560afd691f26f4b269579ae46ff0659043672f17fa\n",
      "DEBUG:2025-01-07 19:26:26,547:jax._src.cache_key:152: get_cache_key hash of serialized custom_hook: e3b0c44298fc1c149afbf4c8996fb92427ae41e4649b934ca495991b7852b855\n",
      "DEBUG:2025-01-07 19:26:26,547:jax._src.cache_key:158: get_cache_key hash after serializing custom_hook: e84ac4017455ffce19ba3c560afd691f26f4b269579ae46ff0659043672f17fa\n",
      "DEBUG:2025-01-07 19:26:26,548:jax._src.compilation_cache:215: get_executable_and_time: cache is disabled/not initialized\n",
      "DEBUG:2025-01-07 19:26:26,548:jax._src.compiler:108: PERSISTENT COMPILATION CACHE MISS for 'jit_greater' with key 'jit_greater-e84ac4017455ffce19ba3c560afd691f26f4b269579ae46ff0659043672f17fa'\n",
      "DEBUG:2025-01-07 19:26:26,557:jax._src.compiler:723: Not writing persistent cache entry for 'jit_greater' because it took < 1.00 seconds to compile (0.01s)\n",
      "DEBUG:2025-01-07 19:26:26,558:jax._src.dispatch:182: Finished XLA compilation of jit(greater) in 0.019318104 sec\n",
      "DEBUG:2025-01-07 19:26:26,560:jax._src.dispatch:182: Finished tracing + transforming _reduce_sum for pjit in 0.000461102 sec\n",
      "DEBUG:2025-01-07 19:26:26,561:jax._src.interpreters.pxla:1906: Compiling _reduce_sum with global shapes and types [ShapedArray(float32[171,4])]. Argument mapping: (UnspecifiedValue,).\n",
      "DEBUG:2025-01-07 19:26:26,564:jax._src.dispatch:182: Finished jaxpr to MLIR module conversion jit(_reduce_sum) in 0.002456903 sec\n",
      "DEBUG:2025-01-07 19:26:26,565:jax._src.compiler:167: get_compile_options: num_replicas=1 num_partitions=1 device_assignment=[[CpuDevice(id=0)]]\n",
      "DEBUG:2025-01-07 19:26:26,566:jax._src.compiler:239: get_compile_options XLA-AutoFDO profile: using XLA-AutoFDO profile version -1\n",
      "DEBUG:2025-01-07 19:26:26,566:jax._src.cache_key:152: get_cache_key hash of serialized computation: 6775d49357f102d28997fe02abf6ab6082094a7e5ed5f7b9021146cf388b87eb\n",
      "DEBUG:2025-01-07 19:26:26,567:jax._src.cache_key:158: get_cache_key hash after serializing computation: 6775d49357f102d28997fe02abf6ab6082094a7e5ed5f7b9021146cf388b87eb\n",
      "DEBUG:2025-01-07 19:26:26,568:jax._src.cache_key:152: get_cache_key hash of serialized jax_lib version: c8601d1831072872293c1f9c58282e40273dd0289eaea98e369c2037dc4231ae\n",
      "DEBUG:2025-01-07 19:26:26,568:jax._src.cache_key:158: get_cache_key hash after serializing jax_lib version: 33eca44141c1537921555433c9fa2cb988bd61ed4ce07b28ee024191bd3b2481\n",
      "DEBUG:2025-01-07 19:26:26,569:jax._src.cache_key:152: get_cache_key hash of serialized XLA flags: e3b0c44298fc1c149afbf4c8996fb92427ae41e4649b934ca495991b7852b855\n",
      "DEBUG:2025-01-07 19:26:26,569:jax._src.cache_key:158: get_cache_key hash after serializing XLA flags: 33eca44141c1537921555433c9fa2cb988bd61ed4ce07b28ee024191bd3b2481\n",
      "DEBUG:2025-01-07 19:26:26,569:jax._src.cache_key:152: get_cache_key hash of serialized compile_options: b0cd5c86c63a84b88cb9078fbf173335e4e4596dbf5952fdcc2e59ed5266dd57\n",
      "DEBUG:2025-01-07 19:26:26,570:jax._src.cache_key:158: get_cache_key hash after serializing compile_options: aece1c48ecac0c3d6918e4259bb65e5033f0230c48aad73ae19e91f71bb5efb9\n",
      "DEBUG:2025-01-07 19:26:26,570:jax._src.cache_key:152: get_cache_key hash of serialized accelerator_config: 68c6efbdebb80efe282e44bc6f25994b02bc71eeea9bc20e84f06a82fc1b590a\n",
      "DEBUG:2025-01-07 19:26:26,571:jax._src.cache_key:158: get_cache_key hash after serializing accelerator_config: a873b5b36342420e1ec7f7c236c8d50d5ed27767e2ea417b0ab919b8cae3cbf5\n",
      "DEBUG:2025-01-07 19:26:26,571:jax._src.cache_key:152: get_cache_key hash of serialized compression: 0ea55c28f8014d8886b6248fe3da5d588f55c0823847a6b4579f1131b051b5e2\n",
      "DEBUG:2025-01-07 19:26:26,571:jax._src.cache_key:158: get_cache_key hash after serializing compression: ae4b14e04801eb3872ca7fe3cffd6d51ce68475d1aa72f0d96a77ea52905ab6e\n",
      "DEBUG:2025-01-07 19:26:26,572:jax._src.cache_key:152: get_cache_key hash of serialized custom_hook: e3b0c44298fc1c149afbf4c8996fb92427ae41e4649b934ca495991b7852b855\n",
      "DEBUG:2025-01-07 19:26:26,573:jax._src.cache_key:158: get_cache_key hash after serializing custom_hook: ae4b14e04801eb3872ca7fe3cffd6d51ce68475d1aa72f0d96a77ea52905ab6e\n",
      "DEBUG:2025-01-07 19:26:26,573:jax._src.compilation_cache:215: get_executable_and_time: cache is disabled/not initialized\n",
      "DEBUG:2025-01-07 19:26:26,573:jax._src.compiler:108: PERSISTENT COMPILATION CACHE MISS for 'jit__reduce_sum' with key 'jit__reduce_sum-ae4b14e04801eb3872ca7fe3cffd6d51ce68475d1aa72f0d96a77ea52905ab6e'\n",
      "DEBUG:2025-01-07 19:26:26,594:jax._src.compiler:723: Not writing persistent cache entry for 'jit__reduce_sum' because it took < 1.00 seconds to compile (0.02s)\n",
      "DEBUG:2025-01-07 19:26:26,595:jax._src.dispatch:182: Finished XLA compilation of jit(_reduce_sum) in 0.029001713 sec\n",
      "DEBUG:2025-01-07 19:26:26,597:jax._src.dispatch:182: Finished tracing + transforming true_divide for pjit in 0.000398159 sec\n",
      "DEBUG:2025-01-07 19:26:26,598:jax._src.interpreters.pxla:1906: Compiling true_divide with global shapes and types [ShapedArray(float32[4]), ShapedArray(int32[4])]. Argument mapping: (UnspecifiedValue, UnspecifiedValue).\n",
      "DEBUG:2025-01-07 19:26:26,601:jax._src.dispatch:182: Finished jaxpr to MLIR module conversion jit(true_divide) in 0.002315998 sec\n",
      "DEBUG:2025-01-07 19:26:26,602:jax._src.compiler:167: get_compile_options: num_replicas=1 num_partitions=1 device_assignment=[[CpuDevice(id=0)]]\n",
      "DEBUG:2025-01-07 19:26:26,603:jax._src.compiler:239: get_compile_options XLA-AutoFDO profile: using XLA-AutoFDO profile version -1\n",
      "DEBUG:2025-01-07 19:26:26,604:jax._src.cache_key:152: get_cache_key hash of serialized computation: 22d4c257ee963bd9afa2ddb436bc171636be2d48fe425c1dafd65112da460886\n",
      "DEBUG:2025-01-07 19:26:26,604:jax._src.cache_key:158: get_cache_key hash after serializing computation: 22d4c257ee963bd9afa2ddb436bc171636be2d48fe425c1dafd65112da460886\n",
      "DEBUG:2025-01-07 19:26:26,605:jax._src.cache_key:152: get_cache_key hash of serialized jax_lib version: c8601d1831072872293c1f9c58282e40273dd0289eaea98e369c2037dc4231ae\n",
      "DEBUG:2025-01-07 19:26:26,605:jax._src.cache_key:158: get_cache_key hash after serializing jax_lib version: 3424f962446ed1fbe3e55e93df84bdd2f1159c87757602eacc6ccb1c1ba1aa6e\n",
      "DEBUG:2025-01-07 19:26:26,606:jax._src.cache_key:152: get_cache_key hash of serialized XLA flags: e3b0c44298fc1c149afbf4c8996fb92427ae41e4649b934ca495991b7852b855\n",
      "DEBUG:2025-01-07 19:26:26,607:jax._src.cache_key:158: get_cache_key hash after serializing XLA flags: 3424f962446ed1fbe3e55e93df84bdd2f1159c87757602eacc6ccb1c1ba1aa6e\n",
      "DEBUG:2025-01-07 19:26:26,607:jax._src.cache_key:152: get_cache_key hash of serialized compile_options: 2a589923d1622726e70feec5d7c01445d31216f10935bd44445a5b7e54325073\n",
      "DEBUG:2025-01-07 19:26:26,608:jax._src.cache_key:158: get_cache_key hash after serializing compile_options: 4edfd03d1ad66567b0058a200cd4b0eb4a22015897ac76a10d089bc757fb0e6b\n",
      "DEBUG:2025-01-07 19:26:26,608:jax._src.cache_key:152: get_cache_key hash of serialized accelerator_config: 68c6efbdebb80efe282e44bc6f25994b02bc71eeea9bc20e84f06a82fc1b590a\n",
      "DEBUG:2025-01-07 19:26:26,609:jax._src.cache_key:158: get_cache_key hash after serializing accelerator_config: f1f58f3923b275b6e20e03af6054bcd662f52c5f5a3c38af7cd141493158acd0\n",
      "DEBUG:2025-01-07 19:26:26,609:jax._src.cache_key:152: get_cache_key hash of serialized compression: 0ea55c28f8014d8886b6248fe3da5d588f55c0823847a6b4579f1131b051b5e2\n",
      "DEBUG:2025-01-07 19:26:26,609:jax._src.cache_key:158: get_cache_key hash after serializing compression: ce93998bdd6d5e86be10922a9191a5e32739f66472d1a5030b2156e4cbb8cd1f\n",
      "DEBUG:2025-01-07 19:26:26,610:jax._src.cache_key:152: get_cache_key hash of serialized custom_hook: e3b0c44298fc1c149afbf4c8996fb92427ae41e4649b934ca495991b7852b855\n",
      "DEBUG:2025-01-07 19:26:26,610:jax._src.cache_key:158: get_cache_key hash after serializing custom_hook: ce93998bdd6d5e86be10922a9191a5e32739f66472d1a5030b2156e4cbb8cd1f\n",
      "DEBUG:2025-01-07 19:26:26,611:jax._src.compilation_cache:215: get_executable_and_time: cache is disabled/not initialized\n",
      "DEBUG:2025-01-07 19:26:26,611:jax._src.compiler:108: PERSISTENT COMPILATION CACHE MISS for 'jit_true_divide' with key 'jit_true_divide-ce93998bdd6d5e86be10922a9191a5e32739f66472d1a5030b2156e4cbb8cd1f'\n"
     ]
    },
    {
     "name": "stdout",
     "output_type": "stream",
     "text": [
      "Processing feature: competitor_spend, impact: negative\n"
     ]
    },
    {
     "name": "stderr",
     "output_type": "stream",
     "text": [
      "DEBUG:2025-01-07 19:26:26,620:jax._src.compiler:723: Not writing persistent cache entry for 'jit_true_divide' because it took < 1.00 seconds to compile (0.01s)\n",
      "DEBUG:2025-01-07 19:26:26,621:jax._src.dispatch:182: Finished XLA compilation of jit(true_divide) in 0.017405033 sec\n",
      "DEBUG:2025-01-07 19:26:26,623:jax._src.dispatch:182: Finished tracing + transforming _broadcast_arrays for pjit in 0.000135183 sec\n",
      "DEBUG:2025-01-07 19:26:26,624:jax._src.dispatch:182: Finished tracing + transforming _where for pjit in 0.001505375 sec\n",
      "DEBUG:2025-01-07 19:26:26,625:jax._src.interpreters.pxla:1906: Compiling _where with global shapes and types [ShapedArray(bool[4]), ShapedArray(float32[4]), ShapedArray(int32[], weak_type=True)]. Argument mapping: (UnspecifiedValue, UnspecifiedValue, UnspecifiedValue).\n",
      "DEBUG:2025-01-07 19:26:26,628:jax._src.dispatch:182: Finished jaxpr to MLIR module conversion jit(_where) in 0.002485275 sec\n",
      "DEBUG:2025-01-07 19:26:26,629:jax._src.compiler:167: get_compile_options: num_replicas=1 num_partitions=1 device_assignment=[[CpuDevice(id=0)]]\n",
      "DEBUG:2025-01-07 19:26:26,630:jax._src.compiler:239: get_compile_options XLA-AutoFDO profile: using XLA-AutoFDO profile version -1\n",
      "DEBUG:2025-01-07 19:26:26,631:jax._src.cache_key:152: get_cache_key hash of serialized computation: b99c3bcf1fa617239abc538e5330cdcce474ef12d3388b2e943f1e1ad59bb5c7\n",
      "DEBUG:2025-01-07 19:26:26,631:jax._src.cache_key:158: get_cache_key hash after serializing computation: b99c3bcf1fa617239abc538e5330cdcce474ef12d3388b2e943f1e1ad59bb5c7\n",
      "DEBUG:2025-01-07 19:26:26,632:jax._src.cache_key:152: get_cache_key hash of serialized jax_lib version: c8601d1831072872293c1f9c58282e40273dd0289eaea98e369c2037dc4231ae\n",
      "DEBUG:2025-01-07 19:26:26,632:jax._src.cache_key:158: get_cache_key hash after serializing jax_lib version: 81ee72da0981d4940e2f5678ab972c259a9e6801050a7fa15a8ffc5a738511ee\n",
      "DEBUG:2025-01-07 19:26:26,633:jax._src.cache_key:152: get_cache_key hash of serialized XLA flags: e3b0c44298fc1c149afbf4c8996fb92427ae41e4649b934ca495991b7852b855\n",
      "DEBUG:2025-01-07 19:26:26,634:jax._src.cache_key:158: get_cache_key hash after serializing XLA flags: 81ee72da0981d4940e2f5678ab972c259a9e6801050a7fa15a8ffc5a738511ee\n",
      "DEBUG:2025-01-07 19:26:26,634:jax._src.cache_key:152: get_cache_key hash of serialized compile_options: 3d02bb95d7db09523d74c7982f59c6df22fe45867c7974fc5e1f57c3ec90be5b\n",
      "DEBUG:2025-01-07 19:26:26,635:jax._src.cache_key:158: get_cache_key hash after serializing compile_options: 84dee5a0c375755eddee68cb1d6a01ecc4d37ef95674b2307c2899f61661ecbc\n",
      "DEBUG:2025-01-07 19:26:26,635:jax._src.cache_key:152: get_cache_key hash of serialized accelerator_config: 68c6efbdebb80efe282e44bc6f25994b02bc71eeea9bc20e84f06a82fc1b590a\n",
      "DEBUG:2025-01-07 19:26:26,636:jax._src.cache_key:158: get_cache_key hash after serializing accelerator_config: 709eeb986d33995bbb089c19d3c085b97eb3490a37e0e23e2f30f8b385184853\n",
      "DEBUG:2025-01-07 19:26:26,637:jax._src.cache_key:152: get_cache_key hash of serialized compression: 0ea55c28f8014d8886b6248fe3da5d588f55c0823847a6b4579f1131b051b5e2\n",
      "DEBUG:2025-01-07 19:26:26,637:jax._src.cache_key:158: get_cache_key hash after serializing compression: 68183bae743a07357fcd46c585684f0d265aaa103f31fd55a18cec22dcb90e38\n",
      "DEBUG:2025-01-07 19:26:26,637:jax._src.cache_key:152: get_cache_key hash of serialized custom_hook: e3b0c44298fc1c149afbf4c8996fb92427ae41e4649b934ca495991b7852b855\n",
      "DEBUG:2025-01-07 19:26:26,638:jax._src.cache_key:158: get_cache_key hash after serializing custom_hook: 68183bae743a07357fcd46c585684f0d265aaa103f31fd55a18cec22dcb90e38\n",
      "DEBUG:2025-01-07 19:26:26,638:jax._src.compilation_cache:215: get_executable_and_time: cache is disabled/not initialized\n",
      "DEBUG:2025-01-07 19:26:26,638:jax._src.compiler:108: PERSISTENT COMPILATION CACHE MISS for 'jit__where' with key 'jit__where-68183bae743a07357fcd46c585684f0d265aaa103f31fd55a18cec22dcb90e38'\n",
      "DEBUG:2025-01-07 19:26:26,651:jax._src.compiler:723: Not writing persistent cache entry for 'jit__where' because it took < 1.00 seconds to compile (0.01s)\n",
      "DEBUG:2025-01-07 19:26:26,652:jax._src.dispatch:182: Finished XLA compilation of jit(_where) in 0.021231890 sec\n",
      "DEBUG:2025-01-07 19:26:26,654:jax._src.dispatch:182: Finished tracing + transforming convert_element_type for pjit in 0.000384569 sec\n",
      "DEBUG:2025-01-07 19:26:26,656:jax._src.interpreters.pxla:1906: Compiling convert_element_type with global shapes and types [ShapedArray(float32[])]. Argument mapping: (UnspecifiedValue,).\n",
      "DEBUG:2025-01-07 19:26:26,659:jax._src.dispatch:182: Finished jaxpr to MLIR module conversion jit(convert_element_type) in 0.002781391 sec\n",
      "DEBUG:2025-01-07 19:26:26,660:jax._src.compiler:167: get_compile_options: num_replicas=1 num_partitions=1 device_assignment=[[CpuDevice(id=0)]]\n",
      "DEBUG:2025-01-07 19:26:26,662:jax._src.compiler:239: get_compile_options XLA-AutoFDO profile: using XLA-AutoFDO profile version -1\n",
      "DEBUG:2025-01-07 19:26:26,663:jax._src.cache_key:152: get_cache_key hash of serialized computation: 55a5114c85f199414812bc91d412eac25a79dacfa9eae4bf499a61e298db4b66\n",
      "DEBUG:2025-01-07 19:26:26,664:jax._src.cache_key:158: get_cache_key hash after serializing computation: 55a5114c85f199414812bc91d412eac25a79dacfa9eae4bf499a61e298db4b66\n",
      "DEBUG:2025-01-07 19:26:26,665:jax._src.cache_key:152: get_cache_key hash of serialized jax_lib version: c8601d1831072872293c1f9c58282e40273dd0289eaea98e369c2037dc4231ae\n",
      "DEBUG:2025-01-07 19:26:26,665:jax._src.cache_key:158: get_cache_key hash after serializing jax_lib version: a9cafc054eeab35301b55612dd3c4f8079a18ce3f3255fa9d767d48958403bc1\n",
      "DEBUG:2025-01-07 19:26:26,666:jax._src.cache_key:152: get_cache_key hash of serialized XLA flags: e3b0c44298fc1c149afbf4c8996fb92427ae41e4649b934ca495991b7852b855\n",
      "DEBUG:2025-01-07 19:26:26,667:jax._src.cache_key:158: get_cache_key hash after serializing XLA flags: a9cafc054eeab35301b55612dd3c4f8079a18ce3f3255fa9d767d48958403bc1\n",
      "DEBUG:2025-01-07 19:26:26,668:jax._src.cache_key:152: get_cache_key hash of serialized compile_options: b0cd5c86c63a84b88cb9078fbf173335e4e4596dbf5952fdcc2e59ed5266dd57\n",
      "DEBUG:2025-01-07 19:26:26,669:jax._src.cache_key:158: get_cache_key hash after serializing compile_options: 42ecc2f5f2eaa7145fa3d899685dd9e05ab3c0eae7c828aed8c064d662523efd\n",
      "DEBUG:2025-01-07 19:26:26,670:jax._src.cache_key:152: get_cache_key hash of serialized accelerator_config: 68c6efbdebb80efe282e44bc6f25994b02bc71eeea9bc20e84f06a82fc1b590a\n",
      "DEBUG:2025-01-07 19:26:26,671:jax._src.cache_key:158: get_cache_key hash after serializing accelerator_config: 979f58ec63d12477c4801c916f642296ef38c978725ba70b8dc6149104109ca8\n",
      "DEBUG:2025-01-07 19:26:26,672:jax._src.cache_key:152: get_cache_key hash of serialized compression: 0ea55c28f8014d8886b6248fe3da5d588f55c0823847a6b4579f1131b051b5e2\n",
      "DEBUG:2025-01-07 19:26:26,673:jax._src.cache_key:158: get_cache_key hash after serializing compression: 15c421348c402a22a6d7190d0a37fad70bc0e3db98614a924ed03f00fb01ee1c\n",
      "DEBUG:2025-01-07 19:26:26,676:jax._src.cache_key:152: get_cache_key hash of serialized custom_hook: e3b0c44298fc1c149afbf4c8996fb92427ae41e4649b934ca495991b7852b855\n",
      "DEBUG:2025-01-07 19:26:26,677:jax._src.cache_key:158: get_cache_key hash after serializing custom_hook: 15c421348c402a22a6d7190d0a37fad70bc0e3db98614a924ed03f00fb01ee1c\n",
      "DEBUG:2025-01-07 19:26:26,677:jax._src.compilation_cache:215: get_executable_and_time: cache is disabled/not initialized\n",
      "DEBUG:2025-01-07 19:26:26,679:jax._src.compiler:108: PERSISTENT COMPILATION CACHE MISS for 'jit_convert_element_type' with key 'jit_convert_element_type-15c421348c402a22a6d7190d0a37fad70bc0e3db98614a924ed03f00fb01ee1c'\n",
      "DEBUG:2025-01-07 19:26:26,684:jax._src.compiler:723: Not writing persistent cache entry for 'jit_convert_element_type' because it took < 1.00 seconds to compile (0.00s)\n",
      "DEBUG:2025-01-07 19:26:26,685:jax._src.dispatch:182: Finished XLA compilation of jit(convert_element_type) in 0.022367001 sec\n",
      "DEBUG:2025-01-07 19:26:26,687:jax._src.dispatch:182: Finished tracing + transforming broadcast_in_dim for pjit in 0.000394106 sec\n",
      "DEBUG:2025-01-07 19:26:26,688:jax._src.interpreters.pxla:1906: Compiling broadcast_in_dim with global shapes and types [ShapedArray(float32[])]. Argument mapping: (UnspecifiedValue,).\n",
      "DEBUG:2025-01-07 19:26:26,691:jax._src.dispatch:182: Finished jaxpr to MLIR module conversion jit(broadcast_in_dim) in 0.002562523 sec\n",
      "DEBUG:2025-01-07 19:26:26,693:jax._src.compiler:167: get_compile_options: num_replicas=1 num_partitions=1 device_assignment=[[CpuDevice(id=0)]]\n",
      "DEBUG:2025-01-07 19:26:26,694:jax._src.compiler:239: get_compile_options XLA-AutoFDO profile: using XLA-AutoFDO profile version -1\n",
      "DEBUG:2025-01-07 19:26:26,695:jax._src.cache_key:152: get_cache_key hash of serialized computation: de957e5baf401cfdf9860b0abde2a59514f9513d51c4527ba01eccdaac9bc7e3\n",
      "DEBUG:2025-01-07 19:26:26,696:jax._src.cache_key:158: get_cache_key hash after serializing computation: de957e5baf401cfdf9860b0abde2a59514f9513d51c4527ba01eccdaac9bc7e3\n",
      "DEBUG:2025-01-07 19:26:26,697:jax._src.cache_key:152: get_cache_key hash of serialized jax_lib version: c8601d1831072872293c1f9c58282e40273dd0289eaea98e369c2037dc4231ae\n",
      "DEBUG:2025-01-07 19:26:26,698:jax._src.cache_key:158: get_cache_key hash after serializing jax_lib version: 03134fd18ce1a954344a31e74a9ccacf8f2940521065cfe135fa35f6dd2b4010\n",
      "DEBUG:2025-01-07 19:26:26,698:jax._src.cache_key:152: get_cache_key hash of serialized XLA flags: e3b0c44298fc1c149afbf4c8996fb92427ae41e4649b934ca495991b7852b855\n",
      "DEBUG:2025-01-07 19:26:26,698:jax._src.cache_key:158: get_cache_key hash after serializing XLA flags: 03134fd18ce1a954344a31e74a9ccacf8f2940521065cfe135fa35f6dd2b4010\n",
      "DEBUG:2025-01-07 19:26:26,699:jax._src.cache_key:152: get_cache_key hash of serialized compile_options: b0cd5c86c63a84b88cb9078fbf173335e4e4596dbf5952fdcc2e59ed5266dd57\n",
      "DEBUG:2025-01-07 19:26:26,699:jax._src.cache_key:158: get_cache_key hash after serializing compile_options: c73cc0af18441d898ad749e880b87f0cff89806ce87b18baab45889c6a1a7a62\n",
      "DEBUG:2025-01-07 19:26:26,700:jax._src.cache_key:152: get_cache_key hash of serialized accelerator_config: 68c6efbdebb80efe282e44bc6f25994b02bc71eeea9bc20e84f06a82fc1b590a\n",
      "DEBUG:2025-01-07 19:26:26,700:jax._src.cache_key:158: get_cache_key hash after serializing accelerator_config: ba388d3ba862f18f97702d71ff6cc947d06a522bcf639cbd03981ce86b36cd08\n",
      "DEBUG:2025-01-07 19:26:26,701:jax._src.cache_key:152: get_cache_key hash of serialized compression: 0ea55c28f8014d8886b6248fe3da5d588f55c0823847a6b4579f1131b051b5e2\n",
      "DEBUG:2025-01-07 19:26:26,702:jax._src.cache_key:158: get_cache_key hash after serializing compression: 636c60bb318ec18f4a27f6fbecdfc6a9193c4d9c8182c437d0f969f8d3f94f7d\n",
      "DEBUG:2025-01-07 19:26:26,703:jax._src.cache_key:152: get_cache_key hash of serialized custom_hook: e3b0c44298fc1c149afbf4c8996fb92427ae41e4649b934ca495991b7852b855\n",
      "DEBUG:2025-01-07 19:26:26,703:jax._src.cache_key:158: get_cache_key hash after serializing custom_hook: 636c60bb318ec18f4a27f6fbecdfc6a9193c4d9c8182c437d0f969f8d3f94f7d\n",
      "DEBUG:2025-01-07 19:26:26,704:jax._src.compilation_cache:215: get_executable_and_time: cache is disabled/not initialized\n",
      "DEBUG:2025-01-07 19:26:26,704:jax._src.compiler:108: PERSISTENT COMPILATION CACHE MISS for 'jit_broadcast_in_dim' with key 'jit_broadcast_in_dim-636c60bb318ec18f4a27f6fbecdfc6a9193c4d9c8182c437d0f969f8d3f94f7d'\n",
      "DEBUG:2025-01-07 19:26:26,712:jax._src.compiler:723: Not writing persistent cache entry for 'jit_broadcast_in_dim' because it took < 1.00 seconds to compile (0.01s)\n",
      "DEBUG:2025-01-07 19:26:26,713:jax._src.dispatch:182: Finished XLA compilation of jit(broadcast_in_dim) in 0.018474817 sec\n",
      "DEBUG:2025-01-07 19:26:26,715:jax._src.dispatch:182: Finished tracing + transforming multiply for pjit in 0.000400066 sec\n",
      "DEBUG:2025-01-07 19:26:26,716:jax._src.interpreters.pxla:1906: Compiling multiply with global shapes and types [ShapedArray(float32[], weak_type=True), ShapedArray(float32[4])]. Argument mapping: (UnspecifiedValue, UnspecifiedValue).\n",
      "DEBUG:2025-01-07 19:26:26,719:jax._src.dispatch:182: Finished jaxpr to MLIR module conversion jit(multiply) in 0.002465248 sec\n",
      "DEBUG:2025-01-07 19:26:26,720:jax._src.compiler:167: get_compile_options: num_replicas=1 num_partitions=1 device_assignment=[[CpuDevice(id=0)]]\n",
      "DEBUG:2025-01-07 19:26:26,721:jax._src.compiler:239: get_compile_options XLA-AutoFDO profile: using XLA-AutoFDO profile version -1\n",
      "DEBUG:2025-01-07 19:26:26,722:jax._src.cache_key:152: get_cache_key hash of serialized computation: 497abd93692412546101163216176a67ad7bf488d7c88b560e8426981092eb2d\n",
      "DEBUG:2025-01-07 19:26:26,722:jax._src.cache_key:158: get_cache_key hash after serializing computation: 497abd93692412546101163216176a67ad7bf488d7c88b560e8426981092eb2d\n",
      "DEBUG:2025-01-07 19:26:26,722:jax._src.cache_key:152: get_cache_key hash of serialized jax_lib version: c8601d1831072872293c1f9c58282e40273dd0289eaea98e369c2037dc4231ae\n",
      "DEBUG:2025-01-07 19:26:26,723:jax._src.cache_key:158: get_cache_key hash after serializing jax_lib version: e7d6b5e1aea782c2c211af28c6eeb820b29cbce46c21a4d225a9a934e91896ae\n",
      "DEBUG:2025-01-07 19:26:26,724:jax._src.cache_key:152: get_cache_key hash of serialized XLA flags: e3b0c44298fc1c149afbf4c8996fb92427ae41e4649b934ca495991b7852b855\n",
      "DEBUG:2025-01-07 19:26:26,724:jax._src.cache_key:158: get_cache_key hash after serializing XLA flags: e7d6b5e1aea782c2c211af28c6eeb820b29cbce46c21a4d225a9a934e91896ae\n",
      "DEBUG:2025-01-07 19:26:26,725:jax._src.cache_key:152: get_cache_key hash of serialized compile_options: 2a589923d1622726e70feec5d7c01445d31216f10935bd44445a5b7e54325073\n",
      "DEBUG:2025-01-07 19:26:26,726:jax._src.cache_key:158: get_cache_key hash after serializing compile_options: 3dfae42a247b566b7346a399e3869f5cc5789d96196e39fcf347ff307c7280d1\n",
      "DEBUG:2025-01-07 19:26:26,726:jax._src.cache_key:152: get_cache_key hash of serialized accelerator_config: 68c6efbdebb80efe282e44bc6f25994b02bc71eeea9bc20e84f06a82fc1b590a\n",
      "DEBUG:2025-01-07 19:26:26,727:jax._src.cache_key:158: get_cache_key hash after serializing accelerator_config: 6473d118001e7206e467b82c8446083522a65e6b3968757d93df943dc7bb834e\n",
      "DEBUG:2025-01-07 19:26:26,728:jax._src.cache_key:152: get_cache_key hash of serialized compression: 0ea55c28f8014d8886b6248fe3da5d588f55c0823847a6b4579f1131b051b5e2\n",
      "DEBUG:2025-01-07 19:26:26,728:jax._src.cache_key:158: get_cache_key hash after serializing compression: 32fd6d8b053e47f139515b91bfefa388563e8a75cebba86875121b739b945663\n",
      "DEBUG:2025-01-07 19:26:26,729:jax._src.cache_key:152: get_cache_key hash of serialized custom_hook: e3b0c44298fc1c149afbf4c8996fb92427ae41e4649b934ca495991b7852b855\n",
      "DEBUG:2025-01-07 19:26:26,730:jax._src.cache_key:158: get_cache_key hash after serializing custom_hook: 32fd6d8b053e47f139515b91bfefa388563e8a75cebba86875121b739b945663\n",
      "DEBUG:2025-01-07 19:26:26,730:jax._src.compilation_cache:215: get_executable_and_time: cache is disabled/not initialized\n",
      "DEBUG:2025-01-07 19:26:26,731:jax._src.compiler:108: PERSISTENT COMPILATION CACHE MISS for 'jit_multiply' with key 'jit_multiply-32fd6d8b053e47f139515b91bfefa388563e8a75cebba86875121b739b945663'\n",
      "DEBUG:2025-01-07 19:26:26,741:jax._src.compiler:723: Not writing persistent cache entry for 'jit_multiply' because it took < 1.00 seconds to compile (0.01s)\n",
      "DEBUG:2025-01-07 19:26:26,741:jax._src.dispatch:182: Finished XLA compilation of jit(multiply) in 0.020134211 sec\n",
      "DEBUG:2025-01-07 19:26:26,744:jax._src.interpreters.pxla:1906: Compiling greater with global shapes and types [ShapedArray(float32[171,7]), ShapedArray(int32[], weak_type=True)]. Argument mapping: (UnspecifiedValue, UnspecifiedValue).\n",
      "DEBUG:2025-01-07 19:26:26,747:jax._src.dispatch:182: Finished jaxpr to MLIR module conversion jit(greater) in 0.002358675 sec\n",
      "DEBUG:2025-01-07 19:26:26,748:jax._src.compiler:167: get_compile_options: num_replicas=1 num_partitions=1 device_assignment=[[CpuDevice(id=0)]]\n",
      "DEBUG:2025-01-07 19:26:26,748:jax._src.compiler:239: get_compile_options XLA-AutoFDO profile: using XLA-AutoFDO profile version -1\n",
      "DEBUG:2025-01-07 19:26:26,749:jax._src.cache_key:152: get_cache_key hash of serialized computation: f6ea4765e6d9ede63f8ac78455109760c42cc0ab917a7c2fa0c33a242e605a3e\n",
      "DEBUG:2025-01-07 19:26:26,750:jax._src.cache_key:158: get_cache_key hash after serializing computation: f6ea4765e6d9ede63f8ac78455109760c42cc0ab917a7c2fa0c33a242e605a3e\n",
      "DEBUG:2025-01-07 19:26:26,750:jax._src.cache_key:152: get_cache_key hash of serialized jax_lib version: c8601d1831072872293c1f9c58282e40273dd0289eaea98e369c2037dc4231ae\n",
      "DEBUG:2025-01-07 19:26:26,751:jax._src.cache_key:158: get_cache_key hash after serializing jax_lib version: 497d535dae0cb56d9f1095b8bab58012d588fa347aeac011a75a7b6d7d3ab3f9\n",
      "DEBUG:2025-01-07 19:26:26,751:jax._src.cache_key:152: get_cache_key hash of serialized XLA flags: e3b0c44298fc1c149afbf4c8996fb92427ae41e4649b934ca495991b7852b855\n",
      "DEBUG:2025-01-07 19:26:26,752:jax._src.cache_key:158: get_cache_key hash after serializing XLA flags: 497d535dae0cb56d9f1095b8bab58012d588fa347aeac011a75a7b6d7d3ab3f9\n",
      "DEBUG:2025-01-07 19:26:26,753:jax._src.cache_key:152: get_cache_key hash of serialized compile_options: 2a589923d1622726e70feec5d7c01445d31216f10935bd44445a5b7e54325073\n",
      "DEBUG:2025-01-07 19:26:26,753:jax._src.cache_key:158: get_cache_key hash after serializing compile_options: ab505a3a9ba198ee3b1cbcabbf8909813764fd5852571a56233da83c326c5f55\n",
      "DEBUG:2025-01-07 19:26:26,754:jax._src.cache_key:152: get_cache_key hash of serialized accelerator_config: 68c6efbdebb80efe282e44bc6f25994b02bc71eeea9bc20e84f06a82fc1b590a\n",
      "DEBUG:2025-01-07 19:26:26,754:jax._src.cache_key:158: get_cache_key hash after serializing accelerator_config: 94704e5a3cc960eb4e56fde5eac0bea7673a1caa34c7a58ac0a43a847f1fc24c\n",
      "DEBUG:2025-01-07 19:26:26,754:jax._src.cache_key:152: get_cache_key hash of serialized compression: 0ea55c28f8014d8886b6248fe3da5d588f55c0823847a6b4579f1131b051b5e2\n",
      "DEBUG:2025-01-07 19:26:26,755:jax._src.cache_key:158: get_cache_key hash after serializing compression: 66e9ed6e53b208326d842e166b1a4036760c980d4d684e93979d58fa83f82c3f\n",
      "DEBUG:2025-01-07 19:26:26,755:jax._src.cache_key:152: get_cache_key hash of serialized custom_hook: e3b0c44298fc1c149afbf4c8996fb92427ae41e4649b934ca495991b7852b855\n",
      "DEBUG:2025-01-07 19:26:26,756:jax._src.cache_key:158: get_cache_key hash after serializing custom_hook: 66e9ed6e53b208326d842e166b1a4036760c980d4d684e93979d58fa83f82c3f\n",
      "DEBUG:2025-01-07 19:26:26,756:jax._src.compilation_cache:215: get_executable_and_time: cache is disabled/not initialized\n",
      "DEBUG:2025-01-07 19:26:26,757:jax._src.compiler:108: PERSISTENT COMPILATION CACHE MISS for 'jit_greater' with key 'jit_greater-66e9ed6e53b208326d842e166b1a4036760c980d4d684e93979d58fa83f82c3f'\n",
      "DEBUG:2025-01-07 19:26:26,768:jax._src.compiler:723: Not writing persistent cache entry for 'jit_greater' because it took < 1.00 seconds to compile (0.01s)\n",
      "DEBUG:2025-01-07 19:26:26,769:jax._src.dispatch:182: Finished XLA compilation of jit(greater) in 0.019569159 sec\n",
      "DEBUG:2025-01-07 19:26:26,770:jax._src.interpreters.pxla:1906: Compiling _reduce_sum with global shapes and types [ShapedArray(bool[171,7])]. Argument mapping: (UnspecifiedValue,).\n",
      "DEBUG:2025-01-07 19:26:26,774:jax._src.dispatch:182: Finished jaxpr to MLIR module conversion jit(_reduce_sum) in 0.002758741 sec\n",
      "DEBUG:2025-01-07 19:26:26,775:jax._src.compiler:167: get_compile_options: num_replicas=1 num_partitions=1 device_assignment=[[CpuDevice(id=0)]]\n",
      "DEBUG:2025-01-07 19:26:26,776:jax._src.compiler:239: get_compile_options XLA-AutoFDO profile: using XLA-AutoFDO profile version -1\n",
      "DEBUG:2025-01-07 19:26:26,776:jax._src.cache_key:152: get_cache_key hash of serialized computation: e94e22a42f44f41d5991a745e219939f6538a160ebeade60b806ede3627161d8\n",
      "DEBUG:2025-01-07 19:26:26,777:jax._src.cache_key:158: get_cache_key hash after serializing computation: e94e22a42f44f41d5991a745e219939f6538a160ebeade60b806ede3627161d8\n",
      "DEBUG:2025-01-07 19:26:26,778:jax._src.cache_key:152: get_cache_key hash of serialized jax_lib version: c8601d1831072872293c1f9c58282e40273dd0289eaea98e369c2037dc4231ae\n",
      "DEBUG:2025-01-07 19:26:26,778:jax._src.cache_key:158: get_cache_key hash after serializing jax_lib version: 6d260ee6139f044ca187aceb7a2286a4f13d8b067f096bace32b8c7b4b0143d4\n",
      "DEBUG:2025-01-07 19:26:26,779:jax._src.cache_key:152: get_cache_key hash of serialized XLA flags: e3b0c44298fc1c149afbf4c8996fb92427ae41e4649b934ca495991b7852b855\n",
      "DEBUG:2025-01-07 19:26:26,779:jax._src.cache_key:158: get_cache_key hash after serializing XLA flags: 6d260ee6139f044ca187aceb7a2286a4f13d8b067f096bace32b8c7b4b0143d4\n",
      "DEBUG:2025-01-07 19:26:26,780:jax._src.cache_key:152: get_cache_key hash of serialized compile_options: b0cd5c86c63a84b88cb9078fbf173335e4e4596dbf5952fdcc2e59ed5266dd57\n",
      "DEBUG:2025-01-07 19:26:26,780:jax._src.cache_key:158: get_cache_key hash after serializing compile_options: eaf319e7a45d0393eec52aaf239665e4f5fdcc22c5093ea37556f6ab79954144\n",
      "DEBUG:2025-01-07 19:26:26,781:jax._src.cache_key:152: get_cache_key hash of serialized accelerator_config: 68c6efbdebb80efe282e44bc6f25994b02bc71eeea9bc20e84f06a82fc1b590a\n",
      "DEBUG:2025-01-07 19:26:26,781:jax._src.cache_key:158: get_cache_key hash after serializing accelerator_config: a9bd01f670577edd26e4dcfe01b398ac4f33440f34aacac371991ce152336b1b\n",
      "DEBUG:2025-01-07 19:26:26,782:jax._src.cache_key:152: get_cache_key hash of serialized compression: 0ea55c28f8014d8886b6248fe3da5d588f55c0823847a6b4579f1131b051b5e2\n",
      "DEBUG:2025-01-07 19:26:26,782:jax._src.cache_key:158: get_cache_key hash after serializing compression: 43fb937195ff64241a8a614bb352ca75bd1a58aedeede35c987bb1b6e60849cf\n",
      "DEBUG:2025-01-07 19:26:26,783:jax._src.cache_key:152: get_cache_key hash of serialized custom_hook: e3b0c44298fc1c149afbf4c8996fb92427ae41e4649b934ca495991b7852b855\n",
      "DEBUG:2025-01-07 19:26:26,783:jax._src.cache_key:158: get_cache_key hash after serializing custom_hook: 43fb937195ff64241a8a614bb352ca75bd1a58aedeede35c987bb1b6e60849cf\n",
      "DEBUG:2025-01-07 19:26:26,783:jax._src.compilation_cache:215: get_executable_and_time: cache is disabled/not initialized\n",
      "DEBUG:2025-01-07 19:26:26,784:jax._src.compiler:108: PERSISTENT COMPILATION CACHE MISS for 'jit__reduce_sum' with key 'jit__reduce_sum-43fb937195ff64241a8a614bb352ca75bd1a58aedeede35c987bb1b6e60849cf'\n",
      "DEBUG:2025-01-07 19:26:26,814:jax._src.compiler:723: Not writing persistent cache entry for 'jit__reduce_sum' because it took < 1.00 seconds to compile (0.03s)\n",
      "DEBUG:2025-01-07 19:26:26,815:jax._src.dispatch:182: Finished XLA compilation of jit(_reduce_sum) in 0.038849354 sec\n",
      "DEBUG:2025-01-07 19:26:26,818:jax._src.interpreters.pxla:1906: Compiling greater with global shapes and types [ShapedArray(int32[7]), ShapedArray(int32[], weak_type=True)]. Argument mapping: (UnspecifiedValue, UnspecifiedValue).\n",
      "DEBUG:2025-01-07 19:26:26,821:jax._src.dispatch:182: Finished jaxpr to MLIR module conversion jit(greater) in 0.002452135 sec\n",
      "DEBUG:2025-01-07 19:26:26,822:jax._src.compiler:167: get_compile_options: num_replicas=1 num_partitions=1 device_assignment=[[CpuDevice(id=0)]]\n",
      "DEBUG:2025-01-07 19:26:26,822:jax._src.compiler:239: get_compile_options XLA-AutoFDO profile: using XLA-AutoFDO profile version -1\n",
      "DEBUG:2025-01-07 19:26:26,824:jax._src.cache_key:152: get_cache_key hash of serialized computation: 9c63e528b9cee14b685b0e17997e2b05d431615aac7e2fdeb146fbd7280d8480\n",
      "DEBUG:2025-01-07 19:26:26,824:jax._src.cache_key:158: get_cache_key hash after serializing computation: 9c63e528b9cee14b685b0e17997e2b05d431615aac7e2fdeb146fbd7280d8480\n",
      "DEBUG:2025-01-07 19:26:26,825:jax._src.cache_key:152: get_cache_key hash of serialized jax_lib version: c8601d1831072872293c1f9c58282e40273dd0289eaea98e369c2037dc4231ae\n",
      "DEBUG:2025-01-07 19:26:26,825:jax._src.cache_key:158: get_cache_key hash after serializing jax_lib version: f62a4a9912d38b5aaaa78a4370284cfbf5c2d014bb383a23d05a5856d930cc09\n",
      "DEBUG:2025-01-07 19:26:26,826:jax._src.cache_key:152: get_cache_key hash of serialized XLA flags: e3b0c44298fc1c149afbf4c8996fb92427ae41e4649b934ca495991b7852b855\n",
      "DEBUG:2025-01-07 19:26:26,827:jax._src.cache_key:158: get_cache_key hash after serializing XLA flags: f62a4a9912d38b5aaaa78a4370284cfbf5c2d014bb383a23d05a5856d930cc09\n",
      "DEBUG:2025-01-07 19:26:26,828:jax._src.cache_key:152: get_cache_key hash of serialized compile_options: 2a589923d1622726e70feec5d7c01445d31216f10935bd44445a5b7e54325073\n",
      "DEBUG:2025-01-07 19:26:26,828:jax._src.cache_key:158: get_cache_key hash after serializing compile_options: b8d5cbacd7e3eff806a11f7d23fe9ea29a6ac399a15846b10743885d36902c00\n",
      "DEBUG:2025-01-07 19:26:26,829:jax._src.cache_key:152: get_cache_key hash of serialized accelerator_config: 68c6efbdebb80efe282e44bc6f25994b02bc71eeea9bc20e84f06a82fc1b590a\n",
      "DEBUG:2025-01-07 19:26:26,830:jax._src.cache_key:158: get_cache_key hash after serializing accelerator_config: 713ae3eacd37489d832f5eddb3059b70de9c1b295526d01d7ec8c413a9ff9ddc\n",
      "DEBUG:2025-01-07 19:26:26,830:jax._src.cache_key:152: get_cache_key hash of serialized compression: 0ea55c28f8014d8886b6248fe3da5d588f55c0823847a6b4579f1131b051b5e2\n",
      "DEBUG:2025-01-07 19:26:26,831:jax._src.cache_key:158: get_cache_key hash after serializing compression: ad40d54358c337f772ca5b6e6d6713a5a28f2295e2221802a31ee6dcf005ac7b\n",
      "DEBUG:2025-01-07 19:26:26,831:jax._src.cache_key:152: get_cache_key hash of serialized custom_hook: e3b0c44298fc1c149afbf4c8996fb92427ae41e4649b934ca495991b7852b855\n",
      "DEBUG:2025-01-07 19:26:26,832:jax._src.cache_key:158: get_cache_key hash after serializing custom_hook: ad40d54358c337f772ca5b6e6d6713a5a28f2295e2221802a31ee6dcf005ac7b\n",
      "DEBUG:2025-01-07 19:26:26,832:jax._src.compilation_cache:215: get_executable_and_time: cache is disabled/not initialized\n",
      "DEBUG:2025-01-07 19:26:26,833:jax._src.compiler:108: PERSISTENT COMPILATION CACHE MISS for 'jit_greater' with key 'jit_greater-ad40d54358c337f772ca5b6e6d6713a5a28f2295e2221802a31ee6dcf005ac7b'\n",
      "DEBUG:2025-01-07 19:26:26,844:jax._src.compiler:723: Not writing persistent cache entry for 'jit_greater' because it took < 1.00 seconds to compile (0.01s)\n",
      "DEBUG:2025-01-07 19:26:26,844:jax._src.dispatch:182: Finished XLA compilation of jit(greater) in 0.021115541 sec\n",
      "DEBUG:2025-01-07 19:26:26,846:jax._src.interpreters.pxla:1906: Compiling _reduce_sum with global shapes and types [ShapedArray(float32[171,7])]. Argument mapping: (UnspecifiedValue,).\n",
      "DEBUG:2025-01-07 19:26:26,849:jax._src.dispatch:182: Finished jaxpr to MLIR module conversion jit(_reduce_sum) in 0.002507925 sec\n",
      "DEBUG:2025-01-07 19:26:26,850:jax._src.compiler:167: get_compile_options: num_replicas=1 num_partitions=1 device_assignment=[[CpuDevice(id=0)]]\n",
      "DEBUG:2025-01-07 19:26:26,851:jax._src.compiler:239: get_compile_options XLA-AutoFDO profile: using XLA-AutoFDO profile version -1\n",
      "DEBUG:2025-01-07 19:26:26,851:jax._src.cache_key:152: get_cache_key hash of serialized computation: 94c846cd8e45887c0719e10adfcbc855d91b5f37f4c41c154d6635c1c4709a1a\n",
      "DEBUG:2025-01-07 19:26:26,852:jax._src.cache_key:158: get_cache_key hash after serializing computation: 94c846cd8e45887c0719e10adfcbc855d91b5f37f4c41c154d6635c1c4709a1a\n",
      "DEBUG:2025-01-07 19:26:26,852:jax._src.cache_key:152: get_cache_key hash of serialized jax_lib version: c8601d1831072872293c1f9c58282e40273dd0289eaea98e369c2037dc4231ae\n",
      "DEBUG:2025-01-07 19:26:26,853:jax._src.cache_key:158: get_cache_key hash after serializing jax_lib version: f3087d25b17494403e2eb0d71e72575d2222924aafc9c3055233094dee9a8263\n",
      "DEBUG:2025-01-07 19:26:26,853:jax._src.cache_key:152: get_cache_key hash of serialized XLA flags: e3b0c44298fc1c149afbf4c8996fb92427ae41e4649b934ca495991b7852b855\n",
      "DEBUG:2025-01-07 19:26:26,854:jax._src.cache_key:158: get_cache_key hash after serializing XLA flags: f3087d25b17494403e2eb0d71e72575d2222924aafc9c3055233094dee9a8263\n",
      "DEBUG:2025-01-07 19:26:26,854:jax._src.cache_key:152: get_cache_key hash of serialized compile_options: b0cd5c86c63a84b88cb9078fbf173335e4e4596dbf5952fdcc2e59ed5266dd57\n",
      "DEBUG:2025-01-07 19:26:26,855:jax._src.cache_key:158: get_cache_key hash after serializing compile_options: 80be5e60bd32b7ba47ae54e278a8d0ff0567147c2c9a92b25bc5c41ef4883782\n",
      "DEBUG:2025-01-07 19:26:26,856:jax._src.cache_key:152: get_cache_key hash of serialized accelerator_config: 68c6efbdebb80efe282e44bc6f25994b02bc71eeea9bc20e84f06a82fc1b590a\n",
      "DEBUG:2025-01-07 19:26:26,856:jax._src.cache_key:158: get_cache_key hash after serializing accelerator_config: 5234d26bf99754ceac1d56a95c089a2dab38704f2b0110a5e5c3b9b7873eba0a\n",
      "DEBUG:2025-01-07 19:26:26,857:jax._src.cache_key:152: get_cache_key hash of serialized compression: 0ea55c28f8014d8886b6248fe3da5d588f55c0823847a6b4579f1131b051b5e2\n",
      "DEBUG:2025-01-07 19:26:26,857:jax._src.cache_key:158: get_cache_key hash after serializing compression: e292c08908395abf839447ad31bb663958e16db9be58346e244ed8fd99673d49\n",
      "DEBUG:2025-01-07 19:26:26,858:jax._src.cache_key:152: get_cache_key hash of serialized custom_hook: e3b0c44298fc1c149afbf4c8996fb92427ae41e4649b934ca495991b7852b855\n",
      "DEBUG:2025-01-07 19:26:26,859:jax._src.cache_key:158: get_cache_key hash after serializing custom_hook: e292c08908395abf839447ad31bb663958e16db9be58346e244ed8fd99673d49\n",
      "DEBUG:2025-01-07 19:26:26,859:jax._src.compilation_cache:215: get_executable_and_time: cache is disabled/not initialized\n",
      "DEBUG:2025-01-07 19:26:26,860:jax._src.compiler:108: PERSISTENT COMPILATION CACHE MISS for 'jit__reduce_sum' with key 'jit__reduce_sum-e292c08908395abf839447ad31bb663958e16db9be58346e244ed8fd99673d49'\n",
      "DEBUG:2025-01-07 19:26:26,879:jax._src.compiler:723: Not writing persistent cache entry for 'jit__reduce_sum' because it took < 1.00 seconds to compile (0.02s)\n",
      "DEBUG:2025-01-07 19:26:26,880:jax._src.dispatch:182: Finished XLA compilation of jit(_reduce_sum) in 0.028911114 sec\n",
      "DEBUG:2025-01-07 19:26:26,882:jax._src.interpreters.pxla:1906: Compiling true_divide with global shapes and types [ShapedArray(float32[7]), ShapedArray(int32[7])]. Argument mapping: (UnspecifiedValue, UnspecifiedValue).\n",
      "DEBUG:2025-01-07 19:26:26,885:jax._src.dispatch:182: Finished jaxpr to MLIR module conversion jit(true_divide) in 0.002179384 sec\n",
      "DEBUG:2025-01-07 19:26:26,886:jax._src.compiler:167: get_compile_options: num_replicas=1 num_partitions=1 device_assignment=[[CpuDevice(id=0)]]\n",
      "DEBUG:2025-01-07 19:26:26,886:jax._src.compiler:239: get_compile_options XLA-AutoFDO profile: using XLA-AutoFDO profile version -1\n",
      "DEBUG:2025-01-07 19:26:26,887:jax._src.cache_key:152: get_cache_key hash of serialized computation: 79a19454177ec801a9927eae474938348196d878840abddaa5cf4f9ab79e8689\n",
      "DEBUG:2025-01-07 19:26:26,887:jax._src.cache_key:158: get_cache_key hash after serializing computation: 79a19454177ec801a9927eae474938348196d878840abddaa5cf4f9ab79e8689\n",
      "DEBUG:2025-01-07 19:26:26,888:jax._src.cache_key:152: get_cache_key hash of serialized jax_lib version: c8601d1831072872293c1f9c58282e40273dd0289eaea98e369c2037dc4231ae\n",
      "DEBUG:2025-01-07 19:26:26,889:jax._src.cache_key:158: get_cache_key hash after serializing jax_lib version: 0f18dca30af474f66544ac0e2f1b3bcd47bac90abbdb77c0b00157ba6fd7733b\n",
      "DEBUG:2025-01-07 19:26:26,890:jax._src.cache_key:152: get_cache_key hash of serialized XLA flags: e3b0c44298fc1c149afbf4c8996fb92427ae41e4649b934ca495991b7852b855\n",
      "DEBUG:2025-01-07 19:26:26,890:jax._src.cache_key:158: get_cache_key hash after serializing XLA flags: 0f18dca30af474f66544ac0e2f1b3bcd47bac90abbdb77c0b00157ba6fd7733b\n",
      "DEBUG:2025-01-07 19:26:26,891:jax._src.cache_key:152: get_cache_key hash of serialized compile_options: 2a589923d1622726e70feec5d7c01445d31216f10935bd44445a5b7e54325073\n",
      "DEBUG:2025-01-07 19:26:26,891:jax._src.cache_key:158: get_cache_key hash after serializing compile_options: 277ce1837449f61410ce487713560f13739f49aeb6055a91699eacc8eddd9e5a\n",
      "DEBUG:2025-01-07 19:26:26,892:jax._src.cache_key:152: get_cache_key hash of serialized accelerator_config: 68c6efbdebb80efe282e44bc6f25994b02bc71eeea9bc20e84f06a82fc1b590a\n",
      "DEBUG:2025-01-07 19:26:26,892:jax._src.cache_key:158: get_cache_key hash after serializing accelerator_config: eb1fb96873f489038ee4e967917ae3ca654897aefe850ec83eac4cac3c1dfd32\n",
      "DEBUG:2025-01-07 19:26:26,892:jax._src.cache_key:152: get_cache_key hash of serialized compression: 0ea55c28f8014d8886b6248fe3da5d588f55c0823847a6b4579f1131b051b5e2\n",
      "DEBUG:2025-01-07 19:26:26,893:jax._src.cache_key:158: get_cache_key hash after serializing compression: 214700cd03ae3263932f12d4c456d125370c0a5cade76a0e593be5bb9e14d781\n",
      "DEBUG:2025-01-07 19:26:26,893:jax._src.cache_key:152: get_cache_key hash of serialized custom_hook: e3b0c44298fc1c149afbf4c8996fb92427ae41e4649b934ca495991b7852b855\n",
      "DEBUG:2025-01-07 19:26:26,894:jax._src.cache_key:158: get_cache_key hash after serializing custom_hook: 214700cd03ae3263932f12d4c456d125370c0a5cade76a0e593be5bb9e14d781\n",
      "DEBUG:2025-01-07 19:26:26,894:jax._src.compilation_cache:215: get_executable_and_time: cache is disabled/not initialized\n",
      "DEBUG:2025-01-07 19:26:26,895:jax._src.compiler:108: PERSISTENT COMPILATION CACHE MISS for 'jit_true_divide' with key 'jit_true_divide-214700cd03ae3263932f12d4c456d125370c0a5cade76a0e593be5bb9e14d781'\n",
      "DEBUG:2025-01-07 19:26:26,905:jax._src.compiler:723: Not writing persistent cache entry for 'jit_true_divide' because it took < 1.00 seconds to compile (0.01s)\n",
      "DEBUG:2025-01-07 19:26:26,905:jax._src.dispatch:182: Finished XLA compilation of jit(true_divide) in 0.018602848 sec\n",
      "DEBUG:2025-01-07 19:26:26,908:jax._src.interpreters.pxla:1906: Compiling _where with global shapes and types [ShapedArray(bool[7]), ShapedArray(float32[7]), ShapedArray(int32[], weak_type=True)]. Argument mapping: (UnspecifiedValue, UnspecifiedValue, UnspecifiedValue).\n",
      "DEBUG:2025-01-07 19:26:26,911:jax._src.dispatch:182: Finished jaxpr to MLIR module conversion jit(_where) in 0.002615929 sec\n",
      "DEBUG:2025-01-07 19:26:26,912:jax._src.compiler:167: get_compile_options: num_replicas=1 num_partitions=1 device_assignment=[[CpuDevice(id=0)]]\n",
      "DEBUG:2025-01-07 19:26:26,913:jax._src.compiler:239: get_compile_options XLA-AutoFDO profile: using XLA-AutoFDO profile version -1\n",
      "DEBUG:2025-01-07 19:26:26,913:jax._src.cache_key:152: get_cache_key hash of serialized computation: 8dc6fa09b1b3169040859e9920b3ee05bc3c13304264db452f396074a9aa55e2\n",
      "DEBUG:2025-01-07 19:26:26,914:jax._src.cache_key:158: get_cache_key hash after serializing computation: 8dc6fa09b1b3169040859e9920b3ee05bc3c13304264db452f396074a9aa55e2\n",
      "DEBUG:2025-01-07 19:26:26,914:jax._src.cache_key:152: get_cache_key hash of serialized jax_lib version: c8601d1831072872293c1f9c58282e40273dd0289eaea98e369c2037dc4231ae\n",
      "DEBUG:2025-01-07 19:26:26,915:jax._src.cache_key:158: get_cache_key hash after serializing jax_lib version: 9af82152f560eb36754da38f0b21d2142ebfc43b6bb3cfa9ef0704a51a25b237\n",
      "DEBUG:2025-01-07 19:26:26,915:jax._src.cache_key:152: get_cache_key hash of serialized XLA flags: e3b0c44298fc1c149afbf4c8996fb92427ae41e4649b934ca495991b7852b855\n",
      "DEBUG:2025-01-07 19:26:26,916:jax._src.cache_key:158: get_cache_key hash after serializing XLA flags: 9af82152f560eb36754da38f0b21d2142ebfc43b6bb3cfa9ef0704a51a25b237\n",
      "DEBUG:2025-01-07 19:26:26,916:jax._src.cache_key:152: get_cache_key hash of serialized compile_options: 3d02bb95d7db09523d74c7982f59c6df22fe45867c7974fc5e1f57c3ec90be5b\n",
      "DEBUG:2025-01-07 19:26:26,917:jax._src.cache_key:158: get_cache_key hash after serializing compile_options: a6de9e13f72cfd0ee97fdb76c4d5c4f6ce2b5f9b527130156ad3bc3baf1ec269\n",
      "DEBUG:2025-01-07 19:26:26,917:jax._src.cache_key:152: get_cache_key hash of serialized accelerator_config: 68c6efbdebb80efe282e44bc6f25994b02bc71eeea9bc20e84f06a82fc1b590a\n",
      "DEBUG:2025-01-07 19:26:26,918:jax._src.cache_key:158: get_cache_key hash after serializing accelerator_config: 3ac1565ad47ea35ac3f8646955abef1c056a3c41db5c61faf3a5624395fee086\n",
      "DEBUG:2025-01-07 19:26:26,919:jax._src.cache_key:152: get_cache_key hash of serialized compression: 0ea55c28f8014d8886b6248fe3da5d588f55c0823847a6b4579f1131b051b5e2\n",
      "DEBUG:2025-01-07 19:26:26,920:jax._src.cache_key:158: get_cache_key hash after serializing compression: 4526a4c58ea183fa50e9f2e21a05f16b7b09ad84aa004c4fb1dec1e3ebc11e08\n",
      "DEBUG:2025-01-07 19:26:26,921:jax._src.cache_key:152: get_cache_key hash of serialized custom_hook: e3b0c44298fc1c149afbf4c8996fb92427ae41e4649b934ca495991b7852b855\n",
      "DEBUG:2025-01-07 19:26:26,922:jax._src.cache_key:158: get_cache_key hash after serializing custom_hook: 4526a4c58ea183fa50e9f2e21a05f16b7b09ad84aa004c4fb1dec1e3ebc11e08\n",
      "DEBUG:2025-01-07 19:26:26,922:jax._src.compilation_cache:215: get_executable_and_time: cache is disabled/not initialized\n",
      "DEBUG:2025-01-07 19:26:26,923:jax._src.compiler:108: PERSISTENT COMPILATION CACHE MISS for 'jit__where' with key 'jit__where-4526a4c58ea183fa50e9f2e21a05f16b7b09ad84aa004c4fb1dec1e3ebc11e08'\n",
      "DEBUG:2025-01-07 19:26:26,938:jax._src.compiler:723: Not writing persistent cache entry for 'jit__where' because it took < 1.00 seconds to compile (0.01s)\n",
      "DEBUG:2025-01-07 19:26:26,939:jax._src.dispatch:182: Finished XLA compilation of jit(_where) in 0.026234388 sec\n",
      "DEBUG:2025-01-07 19:26:26,942:jax._src.dispatch:182: Finished tracing + transforming broadcast_in_dim for pjit in 0.000319719 sec\n",
      "DEBUG:2025-01-07 19:26:26,943:jax._src.interpreters.pxla:1906: Compiling broadcast_in_dim with global shapes and types [ShapedArray(float32[])]. Argument mapping: (UnspecifiedValue,).\n",
      "DEBUG:2025-01-07 19:26:26,948:jax._src.dispatch:182: Finished jaxpr to MLIR module conversion jit(broadcast_in_dim) in 0.003946066 sec\n",
      "DEBUG:2025-01-07 19:26:26,949:jax._src.compiler:167: get_compile_options: num_replicas=1 num_partitions=1 device_assignment=[[CpuDevice(id=0)]]\n",
      "DEBUG:2025-01-07 19:26:26,950:jax._src.compiler:239: get_compile_options XLA-AutoFDO profile: using XLA-AutoFDO profile version -1\n",
      "DEBUG:2025-01-07 19:26:26,951:jax._src.cache_key:152: get_cache_key hash of serialized computation: 8c25bfd8e6c32bdab5c0526252d50d67cf2073abf9841e97c2d45893d0bd26f4\n",
      "DEBUG:2025-01-07 19:26:26,952:jax._src.cache_key:158: get_cache_key hash after serializing computation: 8c25bfd8e6c32bdab5c0526252d50d67cf2073abf9841e97c2d45893d0bd26f4\n",
      "DEBUG:2025-01-07 19:26:26,953:jax._src.cache_key:152: get_cache_key hash of serialized jax_lib version: c8601d1831072872293c1f9c58282e40273dd0289eaea98e369c2037dc4231ae\n",
      "DEBUG:2025-01-07 19:26:26,953:jax._src.cache_key:158: get_cache_key hash after serializing jax_lib version: 776b26ac51091401f87e6e41ed0ce1918a1acc805d38c24199cbd148fe0f517a\n",
      "DEBUG:2025-01-07 19:26:26,954:jax._src.cache_key:152: get_cache_key hash of serialized XLA flags: e3b0c44298fc1c149afbf4c8996fb92427ae41e4649b934ca495991b7852b855\n",
      "DEBUG:2025-01-07 19:26:26,954:jax._src.cache_key:158: get_cache_key hash after serializing XLA flags: 776b26ac51091401f87e6e41ed0ce1918a1acc805d38c24199cbd148fe0f517a\n",
      "DEBUG:2025-01-07 19:26:26,954:jax._src.cache_key:152: get_cache_key hash of serialized compile_options: b0cd5c86c63a84b88cb9078fbf173335e4e4596dbf5952fdcc2e59ed5266dd57\n",
      "DEBUG:2025-01-07 19:26:26,955:jax._src.cache_key:158: get_cache_key hash after serializing compile_options: c14a758a2b344a925eb77dec9c8d6d5d386d3b217c1f0f14ff82893a40d0099f\n",
      "DEBUG:2025-01-07 19:26:26,955:jax._src.cache_key:152: get_cache_key hash of serialized accelerator_config: 68c6efbdebb80efe282e44bc6f25994b02bc71eeea9bc20e84f06a82fc1b590a\n",
      "DEBUG:2025-01-07 19:26:26,955:jax._src.cache_key:158: get_cache_key hash after serializing accelerator_config: 3505d2481d00cd9567599245886cc29417499c020499d74ae94264262dc15e9d\n",
      "DEBUG:2025-01-07 19:26:26,956:jax._src.cache_key:152: get_cache_key hash of serialized compression: 0ea55c28f8014d8886b6248fe3da5d588f55c0823847a6b4579f1131b051b5e2\n",
      "DEBUG:2025-01-07 19:26:26,957:jax._src.cache_key:158: get_cache_key hash after serializing compression: 3b81781976d07f542deb758ad5e9aa5719f488d791c3a958fc477a9c73df86b3\n",
      "DEBUG:2025-01-07 19:26:26,957:jax._src.cache_key:152: get_cache_key hash of serialized custom_hook: e3b0c44298fc1c149afbf4c8996fb92427ae41e4649b934ca495991b7852b855\n",
      "DEBUG:2025-01-07 19:26:26,957:jax._src.cache_key:158: get_cache_key hash after serializing custom_hook: 3b81781976d07f542deb758ad5e9aa5719f488d791c3a958fc477a9c73df86b3\n",
      "DEBUG:2025-01-07 19:26:26,958:jax._src.compilation_cache:215: get_executable_and_time: cache is disabled/not initialized\n",
      "DEBUG:2025-01-07 19:26:26,958:jax._src.compiler:108: PERSISTENT COMPILATION CACHE MISS for 'jit_broadcast_in_dim' with key 'jit_broadcast_in_dim-3b81781976d07f542deb758ad5e9aa5719f488d791c3a958fc477a9c73df86b3'\n",
      "DEBUG:2025-01-07 19:26:26,967:jax._src.compiler:723: Not writing persistent cache entry for 'jit_broadcast_in_dim' because it took < 1.00 seconds to compile (0.01s)\n",
      "DEBUG:2025-01-07 19:26:26,967:jax._src.dispatch:182: Finished XLA compilation of jit(broadcast_in_dim) in 0.016368151 sec\n",
      "DEBUG:2025-01-07 19:26:26,969:jax._src.dispatch:182: Finished tracing + transforming multiply for pjit in 0.000388384 sec\n",
      "DEBUG:2025-01-07 19:26:26,970:jax._src.interpreters.pxla:1906: Compiling multiply with global shapes and types [ShapedArray(float32[], weak_type=True), ShapedArray(float32[7])]. Argument mapping: (UnspecifiedValue, UnspecifiedValue).\n",
      "DEBUG:2025-01-07 19:26:26,973:jax._src.dispatch:182: Finished jaxpr to MLIR module conversion jit(multiply) in 0.002998114 sec\n",
      "DEBUG:2025-01-07 19:26:26,975:jax._src.compiler:167: get_compile_options: num_replicas=1 num_partitions=1 device_assignment=[[CpuDevice(id=0)]]\n",
      "DEBUG:2025-01-07 19:26:26,976:jax._src.compiler:239: get_compile_options XLA-AutoFDO profile: using XLA-AutoFDO profile version -1\n",
      "DEBUG:2025-01-07 19:26:26,977:jax._src.cache_key:152: get_cache_key hash of serialized computation: 6b3cfd7a7745432db3a52808d11791e8c9adc7f8e3de28adf5a47d778fe2a2f5\n",
      "DEBUG:2025-01-07 19:26:26,978:jax._src.cache_key:158: get_cache_key hash after serializing computation: 6b3cfd7a7745432db3a52808d11791e8c9adc7f8e3de28adf5a47d778fe2a2f5\n",
      "DEBUG:2025-01-07 19:26:26,978:jax._src.cache_key:152: get_cache_key hash of serialized jax_lib version: c8601d1831072872293c1f9c58282e40273dd0289eaea98e369c2037dc4231ae\n",
      "DEBUG:2025-01-07 19:26:26,979:jax._src.cache_key:158: get_cache_key hash after serializing jax_lib version: 97c61d1d53b433ea8898478c19a826a109d2749d6b97841bd0dd8b9a6b92eb10\n",
      "DEBUG:2025-01-07 19:26:26,979:jax._src.cache_key:152: get_cache_key hash of serialized XLA flags: e3b0c44298fc1c149afbf4c8996fb92427ae41e4649b934ca495991b7852b855\n",
      "DEBUG:2025-01-07 19:26:26,980:jax._src.cache_key:158: get_cache_key hash after serializing XLA flags: 97c61d1d53b433ea8898478c19a826a109d2749d6b97841bd0dd8b9a6b92eb10\n",
      "DEBUG:2025-01-07 19:26:26,980:jax._src.cache_key:152: get_cache_key hash of serialized compile_options: 2a589923d1622726e70feec5d7c01445d31216f10935bd44445a5b7e54325073\n",
      "DEBUG:2025-01-07 19:26:26,981:jax._src.cache_key:158: get_cache_key hash after serializing compile_options: 5580536a1ca1d08f0a2baa80d424439dfbdb0034306ba0b0df1717c7db2ea7d8\n",
      "DEBUG:2025-01-07 19:26:26,982:jax._src.cache_key:152: get_cache_key hash of serialized accelerator_config: 68c6efbdebb80efe282e44bc6f25994b02bc71eeea9bc20e84f06a82fc1b590a\n",
      "DEBUG:2025-01-07 19:26:26,982:jax._src.cache_key:158: get_cache_key hash after serializing accelerator_config: f4c1079432e979e9f9c102968030a2a604f561436ab9dfeffd13453b2a1f2f98\n",
      "DEBUG:2025-01-07 19:26:26,982:jax._src.cache_key:152: get_cache_key hash of serialized compression: 0ea55c28f8014d8886b6248fe3da5d588f55c0823847a6b4579f1131b051b5e2\n",
      "DEBUG:2025-01-07 19:26:26,984:jax._src.cache_key:158: get_cache_key hash after serializing compression: 2a744e9df46b714b2775f83601b56b3979ea9797838d4147afbc0c0dd341d4bf\n",
      "DEBUG:2025-01-07 19:26:26,984:jax._src.cache_key:152: get_cache_key hash of serialized custom_hook: e3b0c44298fc1c149afbf4c8996fb92427ae41e4649b934ca495991b7852b855\n",
      "DEBUG:2025-01-07 19:26:26,984:jax._src.cache_key:158: get_cache_key hash after serializing custom_hook: 2a744e9df46b714b2775f83601b56b3979ea9797838d4147afbc0c0dd341d4bf\n",
      "DEBUG:2025-01-07 19:26:26,985:jax._src.compilation_cache:215: get_executable_and_time: cache is disabled/not initialized\n",
      "DEBUG:2025-01-07 19:26:26,985:jax._src.compiler:108: PERSISTENT COMPILATION CACHE MISS for 'jit_multiply' with key 'jit_multiply-2a744e9df46b714b2775f83601b56b3979ea9797838d4147afbc0c0dd341d4bf'\n",
      "DEBUG:2025-01-07 19:26:26,996:jax._src.compiler:723: Not writing persistent cache entry for 'jit_multiply' because it took < 1.00 seconds to compile (0.01s)\n",
      "DEBUG:2025-01-07 19:26:26,997:jax._src.dispatch:182: Finished XLA compilation of jit(multiply) in 0.020061970 sec\n",
      "DEBUG:2025-01-07 19:26:26,998:jax._src.interpreters.pxla:1906: Compiling _where with global shapes and types [ShapedArray(bool[]), ShapedArray(float32[]), ShapedArray(int32[], weak_type=True)]. Argument mapping: (UnspecifiedValue, UnspecifiedValue, UnspecifiedValue).\n",
      "DEBUG:2025-01-07 19:26:27,002:jax._src.dispatch:182: Finished jaxpr to MLIR module conversion jit(_where) in 0.003178835 sec\n",
      "DEBUG:2025-01-07 19:26:27,003:jax._src.compiler:167: get_compile_options: num_replicas=1 num_partitions=1 device_assignment=[[CpuDevice(id=0)]]\n",
      "DEBUG:2025-01-07 19:26:27,004:jax._src.compiler:239: get_compile_options XLA-AutoFDO profile: using XLA-AutoFDO profile version -1\n",
      "DEBUG:2025-01-07 19:26:27,005:jax._src.cache_key:152: get_cache_key hash of serialized computation: 5d81aa3750ba1ae9b02dbf8c8db8c4be0dc1d0e4efa0e86d0e5030b9d2257b08\n",
      "DEBUG:2025-01-07 19:26:27,006:jax._src.cache_key:158: get_cache_key hash after serializing computation: 5d81aa3750ba1ae9b02dbf8c8db8c4be0dc1d0e4efa0e86d0e5030b9d2257b08\n",
      "DEBUG:2025-01-07 19:26:27,006:jax._src.cache_key:152: get_cache_key hash of serialized jax_lib version: c8601d1831072872293c1f9c58282e40273dd0289eaea98e369c2037dc4231ae\n",
      "DEBUG:2025-01-07 19:26:27,007:jax._src.cache_key:158: get_cache_key hash after serializing jax_lib version: 5761413a211947da5c0017c665771c4791b08ba44d1343e8d32687eed0bf9ca4\n",
      "DEBUG:2025-01-07 19:26:27,008:jax._src.cache_key:152: get_cache_key hash of serialized XLA flags: e3b0c44298fc1c149afbf4c8996fb92427ae41e4649b934ca495991b7852b855\n",
      "DEBUG:2025-01-07 19:26:27,008:jax._src.cache_key:158: get_cache_key hash after serializing XLA flags: 5761413a211947da5c0017c665771c4791b08ba44d1343e8d32687eed0bf9ca4\n",
      "DEBUG:2025-01-07 19:26:27,009:jax._src.cache_key:152: get_cache_key hash of serialized compile_options: 3d02bb95d7db09523d74c7982f59c6df22fe45867c7974fc5e1f57c3ec90be5b\n",
      "DEBUG:2025-01-07 19:26:27,009:jax._src.cache_key:158: get_cache_key hash after serializing compile_options: 83e6d691c8073e809bf81dd4beb8703e0bf09048e4f750308ff4bf8fb96de76e\n",
      "DEBUG:2025-01-07 19:26:27,010:jax._src.cache_key:152: get_cache_key hash of serialized accelerator_config: 68c6efbdebb80efe282e44bc6f25994b02bc71eeea9bc20e84f06a82fc1b590a\n",
      "DEBUG:2025-01-07 19:26:27,010:jax._src.cache_key:158: get_cache_key hash after serializing accelerator_config: 27ea4069f8b34f9aa0ffadd7b831044fbf3092c284d8bd148d27564057209897\n",
      "DEBUG:2025-01-07 19:26:27,011:jax._src.cache_key:152: get_cache_key hash of serialized compression: 0ea55c28f8014d8886b6248fe3da5d588f55c0823847a6b4579f1131b051b5e2\n",
      "DEBUG:2025-01-07 19:26:27,011:jax._src.cache_key:158: get_cache_key hash after serializing compression: 14a2841173816a06f3a9bb0b1326010d1ee2e467081f55214759d385e2ba5804\n",
      "DEBUG:2025-01-07 19:26:27,012:jax._src.cache_key:152: get_cache_key hash of serialized custom_hook: e3b0c44298fc1c149afbf4c8996fb92427ae41e4649b934ca495991b7852b855\n",
      "DEBUG:2025-01-07 19:26:27,012:jax._src.cache_key:158: get_cache_key hash after serializing custom_hook: 14a2841173816a06f3a9bb0b1326010d1ee2e467081f55214759d385e2ba5804\n",
      "DEBUG:2025-01-07 19:26:27,013:jax._src.compilation_cache:215: get_executable_and_time: cache is disabled/not initialized\n",
      "DEBUG:2025-01-07 19:26:27,013:jax._src.compiler:108: PERSISTENT COMPILATION CACHE MISS for 'jit__where' with key 'jit__where-14a2841173816a06f3a9bb0b1326010d1ee2e467081f55214759d385e2ba5804'\n",
      "DEBUG:2025-01-07 19:26:27,022:jax._src.compiler:723: Not writing persistent cache entry for 'jit__where' because it took < 1.00 seconds to compile (0.01s)\n",
      "DEBUG:2025-01-07 19:26:27,023:jax._src.dispatch:182: Finished XLA compilation of jit(_where) in 0.017736435 sec\n",
      "DEBUG:2025-01-07 19:26:27,024:jax._src.dispatch:182: Finished tracing + transforming multiply for pjit in 0.000344276 sec\n",
      "DEBUG:2025-01-07 19:26:27,025:jax._src.interpreters.pxla:1906: Compiling multiply with global shapes and types [ShapedArray(float32[], weak_type=True), ShapedArray(float32[])]. Argument mapping: (UnspecifiedValue, UnspecifiedValue).\n",
      "DEBUG:2025-01-07 19:26:27,028:jax._src.dispatch:182: Finished jaxpr to MLIR module conversion jit(multiply) in 0.002430201 sec\n",
      "DEBUG:2025-01-07 19:26:27,029:jax._src.compiler:167: get_compile_options: num_replicas=1 num_partitions=1 device_assignment=[[CpuDevice(id=0)]]\n",
      "DEBUG:2025-01-07 19:26:27,030:jax._src.compiler:239: get_compile_options XLA-AutoFDO profile: using XLA-AutoFDO profile version -1\n",
      "DEBUG:2025-01-07 19:26:27,031:jax._src.cache_key:152: get_cache_key hash of serialized computation: 749312bc5e8752d2c2bbceecc083305c0ab4254ac4e1c8ecd5e7c992473850e9\n",
      "DEBUG:2025-01-07 19:26:27,032:jax._src.cache_key:158: get_cache_key hash after serializing computation: 749312bc5e8752d2c2bbceecc083305c0ab4254ac4e1c8ecd5e7c992473850e9\n",
      "DEBUG:2025-01-07 19:26:27,032:jax._src.cache_key:152: get_cache_key hash of serialized jax_lib version: c8601d1831072872293c1f9c58282e40273dd0289eaea98e369c2037dc4231ae\n",
      "DEBUG:2025-01-07 19:26:27,033:jax._src.cache_key:158: get_cache_key hash after serializing jax_lib version: a03025f09570d7ac8315ce41635b8eb09d9aa3f823b05194c2f79f4e43c3104e\n",
      "DEBUG:2025-01-07 19:26:27,033:jax._src.cache_key:152: get_cache_key hash of serialized XLA flags: e3b0c44298fc1c149afbf4c8996fb92427ae41e4649b934ca495991b7852b855\n",
      "DEBUG:2025-01-07 19:26:27,033:jax._src.cache_key:158: get_cache_key hash after serializing XLA flags: a03025f09570d7ac8315ce41635b8eb09d9aa3f823b05194c2f79f4e43c3104e\n",
      "DEBUG:2025-01-07 19:26:27,034:jax._src.cache_key:152: get_cache_key hash of serialized compile_options: 2a589923d1622726e70feec5d7c01445d31216f10935bd44445a5b7e54325073\n",
      "DEBUG:2025-01-07 19:26:27,034:jax._src.cache_key:158: get_cache_key hash after serializing compile_options: a9ffa3002ee6edc701121e25b78f1b6ab932995804781d07a1fd85a96f71e5d5\n",
      "DEBUG:2025-01-07 19:26:27,035:jax._src.cache_key:152: get_cache_key hash of serialized accelerator_config: 68c6efbdebb80efe282e44bc6f25994b02bc71eeea9bc20e84f06a82fc1b590a\n",
      "DEBUG:2025-01-07 19:26:27,036:jax._src.cache_key:158: get_cache_key hash after serializing accelerator_config: a71a2b6eb6eee794f841a3ee00575ace47b905e30733d827fe2e3a9b3e17fb60\n",
      "DEBUG:2025-01-07 19:26:27,036:jax._src.cache_key:152: get_cache_key hash of serialized compression: 0ea55c28f8014d8886b6248fe3da5d588f55c0823847a6b4579f1131b051b5e2\n",
      "DEBUG:2025-01-07 19:26:27,037:jax._src.cache_key:158: get_cache_key hash after serializing compression: a477315da1ad193873922493d218c178c09e938c31554e0bcdf38d587a9da573\n",
      "DEBUG:2025-01-07 19:26:27,038:jax._src.cache_key:152: get_cache_key hash of serialized custom_hook: e3b0c44298fc1c149afbf4c8996fb92427ae41e4649b934ca495991b7852b855\n",
      "DEBUG:2025-01-07 19:26:27,038:jax._src.cache_key:158: get_cache_key hash after serializing custom_hook: a477315da1ad193873922493d218c178c09e938c31554e0bcdf38d587a9da573\n",
      "DEBUG:2025-01-07 19:26:27,039:jax._src.compilation_cache:215: get_executable_and_time: cache is disabled/not initialized\n",
      "DEBUG:2025-01-07 19:26:27,040:jax._src.compiler:108: PERSISTENT COMPILATION CACHE MISS for 'jit_multiply' with key 'jit_multiply-a477315da1ad193873922493d218c178c09e938c31554e0bcdf38d587a9da573'\n",
      "DEBUG:2025-01-07 19:26:27,055:jax._src.compiler:723: Not writing persistent cache entry for 'jit_multiply' because it took < 1.00 seconds to compile (0.01s)\n",
      "DEBUG:2025-01-07 19:26:27,056:jax._src.dispatch:182: Finished XLA compilation of jit(multiply) in 0.025420666 sec\n",
      "DEBUG:2025-01-07 19:26:27,059:jax._src.dispatch:182: Finished tracing + transforming multiply for pjit in 0.000783682 sec\n",
      "DEBUG:2025-01-07 19:26:27,061:jax._src.interpreters.pxla:1906: Compiling multiply with global shapes and types [ShapedArray(float32[4]), ShapedArray(float32[171,4])]. Argument mapping: (UnspecifiedValue, UnspecifiedValue).\n",
      "DEBUG:2025-01-07 19:26:27,066:jax._src.dispatch:182: Finished jaxpr to MLIR module conversion jit(multiply) in 0.004086971 sec\n",
      "DEBUG:2025-01-07 19:26:27,067:jax._src.compiler:167: get_compile_options: num_replicas=1 num_partitions=1 device_assignment=[[CpuDevice(id=0)]]\n",
      "DEBUG:2025-01-07 19:26:27,068:jax._src.compiler:239: get_compile_options XLA-AutoFDO profile: using XLA-AutoFDO profile version -1\n",
      "DEBUG:2025-01-07 19:26:27,069:jax._src.cache_key:152: get_cache_key hash of serialized computation: d9be13c9ec497fee84265a682de4d89346801fa6bbe718bcc6fa6fedff4ad3c6\n",
      "DEBUG:2025-01-07 19:26:27,070:jax._src.cache_key:158: get_cache_key hash after serializing computation: d9be13c9ec497fee84265a682de4d89346801fa6bbe718bcc6fa6fedff4ad3c6\n",
      "DEBUG:2025-01-07 19:26:27,071:jax._src.cache_key:152: get_cache_key hash of serialized jax_lib version: c8601d1831072872293c1f9c58282e40273dd0289eaea98e369c2037dc4231ae\n",
      "DEBUG:2025-01-07 19:26:27,072:jax._src.cache_key:158: get_cache_key hash after serializing jax_lib version: cc59b5d84fbe77bef779bd59fd86fa11fc6df22cbb9ef15617b49fbea55ce524\n",
      "DEBUG:2025-01-07 19:26:27,073:jax._src.cache_key:152: get_cache_key hash of serialized XLA flags: e3b0c44298fc1c149afbf4c8996fb92427ae41e4649b934ca495991b7852b855\n",
      "DEBUG:2025-01-07 19:26:27,073:jax._src.cache_key:158: get_cache_key hash after serializing XLA flags: cc59b5d84fbe77bef779bd59fd86fa11fc6df22cbb9ef15617b49fbea55ce524\n",
      "DEBUG:2025-01-07 19:26:27,074:jax._src.cache_key:152: get_cache_key hash of serialized compile_options: 2a589923d1622726e70feec5d7c01445d31216f10935bd44445a5b7e54325073\n",
      "DEBUG:2025-01-07 19:26:27,075:jax._src.cache_key:158: get_cache_key hash after serializing compile_options: 111022a3083de833b7fe46a8bbcd06d6ed28cec2c6b8f61a318e1dfb7c0d7566\n",
      "DEBUG:2025-01-07 19:26:27,076:jax._src.cache_key:152: get_cache_key hash of serialized accelerator_config: 68c6efbdebb80efe282e44bc6f25994b02bc71eeea9bc20e84f06a82fc1b590a\n",
      "DEBUG:2025-01-07 19:26:27,076:jax._src.cache_key:158: get_cache_key hash after serializing accelerator_config: 06831400d8b2138d32f3b7c5bdf2290210e9386b3d7beedcef98a01fa1ba6a2a\n",
      "DEBUG:2025-01-07 19:26:27,077:jax._src.cache_key:152: get_cache_key hash of serialized compression: 0ea55c28f8014d8886b6248fe3da5d588f55c0823847a6b4579f1131b051b5e2\n",
      "DEBUG:2025-01-07 19:26:27,077:jax._src.cache_key:158: get_cache_key hash after serializing compression: 7fe0a346de31b64c59e4932cdb669c769523982b07de70f5c9598a8e3633ede3\n",
      "DEBUG:2025-01-07 19:26:27,078:jax._src.cache_key:152: get_cache_key hash of serialized custom_hook: e3b0c44298fc1c149afbf4c8996fb92427ae41e4649b934ca495991b7852b855\n",
      "DEBUG:2025-01-07 19:26:27,079:jax._src.cache_key:158: get_cache_key hash after serializing custom_hook: 7fe0a346de31b64c59e4932cdb669c769523982b07de70f5c9598a8e3633ede3\n",
      "DEBUG:2025-01-07 19:26:27,079:jax._src.compilation_cache:215: get_executable_and_time: cache is disabled/not initialized\n",
      "DEBUG:2025-01-07 19:26:27,080:jax._src.compiler:108: PERSISTENT COMPILATION CACHE MISS for 'jit_multiply' with key 'jit_multiply-7fe0a346de31b64c59e4932cdb669c769523982b07de70f5c9598a8e3633ede3'\n",
      "DEBUG:2025-01-07 19:26:27,092:jax._src.compiler:723: Not writing persistent cache entry for 'jit_multiply' because it took < 1.00 seconds to compile (0.01s)\n",
      "DEBUG:2025-01-07 19:26:27,093:jax._src.dispatch:182: Finished XLA compilation of jit(multiply) in 0.023882151 sec\n",
      "DEBUG:2025-01-07 19:26:27,095:jax._src.dispatch:182: Finished tracing + transforming true_divide for pjit in 0.000744581 sec\n",
      "DEBUG:2025-01-07 19:26:27,097:jax._src.interpreters.pxla:1906: Compiling true_divide with global shapes and types [ShapedArray(float32[171,4]), ShapedArray(float32[4])]. Argument mapping: (UnspecifiedValue, UnspecifiedValue).\n",
      "DEBUG:2025-01-07 19:26:27,102:jax._src.dispatch:182: Finished jaxpr to MLIR module conversion jit(true_divide) in 0.004206657 sec\n",
      "DEBUG:2025-01-07 19:26:27,104:jax._src.compiler:167: get_compile_options: num_replicas=1 num_partitions=1 device_assignment=[[CpuDevice(id=0)]]\n",
      "DEBUG:2025-01-07 19:26:27,105:jax._src.compiler:239: get_compile_options XLA-AutoFDO profile: using XLA-AutoFDO profile version -1\n",
      "DEBUG:2025-01-07 19:26:27,107:jax._src.cache_key:152: get_cache_key hash of serialized computation: f45ca538e94d5b2f80df898d55d7f6760a373e19dd4b4229ed2a9d71bcd05aae\n",
      "DEBUG:2025-01-07 19:26:27,107:jax._src.cache_key:158: get_cache_key hash after serializing computation: f45ca538e94d5b2f80df898d55d7f6760a373e19dd4b4229ed2a9d71bcd05aae\n",
      "DEBUG:2025-01-07 19:26:27,108:jax._src.cache_key:152: get_cache_key hash of serialized jax_lib version: c8601d1831072872293c1f9c58282e40273dd0289eaea98e369c2037dc4231ae\n",
      "DEBUG:2025-01-07 19:26:27,108:jax._src.cache_key:158: get_cache_key hash after serializing jax_lib version: 4155b430acdaf4fa1ddc0316c92378b3aac92e568dc43d7ed963fe89dcb95b0f\n",
      "DEBUG:2025-01-07 19:26:27,109:jax._src.cache_key:152: get_cache_key hash of serialized XLA flags: e3b0c44298fc1c149afbf4c8996fb92427ae41e4649b934ca495991b7852b855\n",
      "DEBUG:2025-01-07 19:26:27,109:jax._src.cache_key:158: get_cache_key hash after serializing XLA flags: 4155b430acdaf4fa1ddc0316c92378b3aac92e568dc43d7ed963fe89dcb95b0f\n",
      "DEBUG:2025-01-07 19:26:27,110:jax._src.cache_key:152: get_cache_key hash of serialized compile_options: 2a589923d1622726e70feec5d7c01445d31216f10935bd44445a5b7e54325073\n",
      "DEBUG:2025-01-07 19:26:27,110:jax._src.cache_key:158: get_cache_key hash after serializing compile_options: 6050ca17ce0a5d3b61a3109d70968c7ad9502add36efbdcd6f4492c941ec251f\n",
      "DEBUG:2025-01-07 19:26:27,111:jax._src.cache_key:152: get_cache_key hash of serialized accelerator_config: 68c6efbdebb80efe282e44bc6f25994b02bc71eeea9bc20e84f06a82fc1b590a\n",
      "DEBUG:2025-01-07 19:26:27,112:jax._src.cache_key:158: get_cache_key hash after serializing accelerator_config: dd79224d0e1e2f8537ee849520112cc48352eeceea366c2d89a50a3c6fc072c7\n",
      "DEBUG:2025-01-07 19:26:27,112:jax._src.cache_key:152: get_cache_key hash of serialized compression: 0ea55c28f8014d8886b6248fe3da5d588f55c0823847a6b4579f1131b051b5e2\n",
      "DEBUG:2025-01-07 19:26:27,113:jax._src.cache_key:158: get_cache_key hash after serializing compression: b8f6755d175b40d1e76c676820e96d89e74dfe0876e7ca1811be993ec60c8ee8\n",
      "DEBUG:2025-01-07 19:26:27,114:jax._src.cache_key:152: get_cache_key hash of serialized custom_hook: e3b0c44298fc1c149afbf4c8996fb92427ae41e4649b934ca495991b7852b855\n",
      "DEBUG:2025-01-07 19:26:27,114:jax._src.cache_key:158: get_cache_key hash after serializing custom_hook: b8f6755d175b40d1e76c676820e96d89e74dfe0876e7ca1811be993ec60c8ee8\n",
      "DEBUG:2025-01-07 19:26:27,115:jax._src.compilation_cache:215: get_executable_and_time: cache is disabled/not initialized\n",
      "DEBUG:2025-01-07 19:26:27,115:jax._src.compiler:108: PERSISTENT COMPILATION CACHE MISS for 'jit_true_divide' with key 'jit_true_divide-b8f6755d175b40d1e76c676820e96d89e74dfe0876e7ca1811be993ec60c8ee8'\n",
      "DEBUG:2025-01-07 19:26:27,128:jax._src.compiler:723: Not writing persistent cache entry for 'jit_true_divide' because it took < 1.00 seconds to compile (0.01s)\n",
      "DEBUG:2025-01-07 19:26:27,128:jax._src.dispatch:182: Finished XLA compilation of jit(true_divide) in 0.022112370 sec\n",
      "DEBUG:2025-01-07 19:26:27,130:jax._src.dispatch:182: Finished tracing + transforming multiply for pjit in 0.000445843 sec\n",
      "DEBUG:2025-01-07 19:26:27,131:jax._src.interpreters.pxla:1906: Compiling multiply with global shapes and types [ShapedArray(float32[7]), ShapedArray(float32[171,7])]. Argument mapping: (UnspecifiedValue, UnspecifiedValue).\n",
      "DEBUG:2025-01-07 19:26:27,134:jax._src.dispatch:182: Finished jaxpr to MLIR module conversion jit(multiply) in 0.003175259 sec\n",
      "DEBUG:2025-01-07 19:26:27,135:jax._src.compiler:167: get_compile_options: num_replicas=1 num_partitions=1 device_assignment=[[CpuDevice(id=0)]]\n",
      "DEBUG:2025-01-07 19:26:27,136:jax._src.compiler:239: get_compile_options XLA-AutoFDO profile: using XLA-AutoFDO profile version -1\n",
      "DEBUG:2025-01-07 19:26:27,137:jax._src.cache_key:152: get_cache_key hash of serialized computation: e0132437d13ab024143a221a690cc9924b232d8d19a22522b1cf33ae898f08bc\n",
      "DEBUG:2025-01-07 19:26:27,137:jax._src.cache_key:158: get_cache_key hash after serializing computation: e0132437d13ab024143a221a690cc9924b232d8d19a22522b1cf33ae898f08bc\n",
      "DEBUG:2025-01-07 19:26:27,138:jax._src.cache_key:152: get_cache_key hash of serialized jax_lib version: c8601d1831072872293c1f9c58282e40273dd0289eaea98e369c2037dc4231ae\n",
      "DEBUG:2025-01-07 19:26:27,138:jax._src.cache_key:158: get_cache_key hash after serializing jax_lib version: c5e29e707339167ee93c47bbfd3ad9b75b10e65a0ddf882ca71fb082ef65ea9d\n",
      "DEBUG:2025-01-07 19:26:27,140:jax._src.cache_key:152: get_cache_key hash of serialized XLA flags: e3b0c44298fc1c149afbf4c8996fb92427ae41e4649b934ca495991b7852b855\n",
      "DEBUG:2025-01-07 19:26:27,140:jax._src.cache_key:158: get_cache_key hash after serializing XLA flags: c5e29e707339167ee93c47bbfd3ad9b75b10e65a0ddf882ca71fb082ef65ea9d\n",
      "DEBUG:2025-01-07 19:26:27,141:jax._src.cache_key:152: get_cache_key hash of serialized compile_options: 2a589923d1622726e70feec5d7c01445d31216f10935bd44445a5b7e54325073\n",
      "DEBUG:2025-01-07 19:26:27,141:jax._src.cache_key:158: get_cache_key hash after serializing compile_options: 71f5f466aba28e41f84a50f50192726e92f0706d60b8e4cd05dc86011b40d1c5\n",
      "DEBUG:2025-01-07 19:26:27,142:jax._src.cache_key:152: get_cache_key hash of serialized accelerator_config: 68c6efbdebb80efe282e44bc6f25994b02bc71eeea9bc20e84f06a82fc1b590a\n",
      "DEBUG:2025-01-07 19:26:27,142:jax._src.cache_key:158: get_cache_key hash after serializing accelerator_config: c6d0577f65f5cb4a19abadcbe8f4065e26cddde3263b9578498605f10c9d0e6f\n",
      "DEBUG:2025-01-07 19:26:27,143:jax._src.cache_key:152: get_cache_key hash of serialized compression: 0ea55c28f8014d8886b6248fe3da5d588f55c0823847a6b4579f1131b051b5e2\n",
      "DEBUG:2025-01-07 19:26:27,143:jax._src.cache_key:158: get_cache_key hash after serializing compression: c5f62304594db5360e6a6a08002c74db50eccea0bfad499bdcf523feef40bea8\n",
      "DEBUG:2025-01-07 19:26:27,144:jax._src.cache_key:152: get_cache_key hash of serialized custom_hook: e3b0c44298fc1c149afbf4c8996fb92427ae41e4649b934ca495991b7852b855\n",
      "DEBUG:2025-01-07 19:26:27,144:jax._src.cache_key:158: get_cache_key hash after serializing custom_hook: c5f62304594db5360e6a6a08002c74db50eccea0bfad499bdcf523feef40bea8\n",
      "DEBUG:2025-01-07 19:26:27,145:jax._src.compilation_cache:215: get_executable_and_time: cache is disabled/not initialized\n",
      "DEBUG:2025-01-07 19:26:27,145:jax._src.compiler:108: PERSISTENT COMPILATION CACHE MISS for 'jit_multiply' with key 'jit_multiply-c5f62304594db5360e6a6a08002c74db50eccea0bfad499bdcf523feef40bea8'\n",
      "DEBUG:2025-01-07 19:26:27,157:jax._src.compiler:723: Not writing persistent cache entry for 'jit_multiply' because it took < 1.00 seconds to compile (0.01s)\n",
      "DEBUG:2025-01-07 19:26:27,158:jax._src.dispatch:182: Finished XLA compilation of jit(multiply) in 0.021772623 sec\n",
      "DEBUG:2025-01-07 19:26:27,160:jax._src.dispatch:182: Finished tracing + transforming true_divide for pjit in 0.000606775 sec\n",
      "DEBUG:2025-01-07 19:26:27,162:jax._src.interpreters.pxla:1906: Compiling true_divide with global shapes and types [ShapedArray(float32[171,7]), ShapedArray(float32[7])]. Argument mapping: (UnspecifiedValue, UnspecifiedValue).\n",
      "DEBUG:2025-01-07 19:26:27,166:jax._src.dispatch:182: Finished jaxpr to MLIR module conversion jit(true_divide) in 0.003574848 sec\n",
      "DEBUG:2025-01-07 19:26:27,167:jax._src.compiler:167: get_compile_options: num_replicas=1 num_partitions=1 device_assignment=[[CpuDevice(id=0)]]\n",
      "DEBUG:2025-01-07 19:26:27,168:jax._src.compiler:239: get_compile_options XLA-AutoFDO profile: using XLA-AutoFDO profile version -1\n",
      "DEBUG:2025-01-07 19:26:27,169:jax._src.cache_key:152: get_cache_key hash of serialized computation: fb0310620d58c2e759e2124235b884657b3273199b77fbc64643cc4987b863e0\n",
      "DEBUG:2025-01-07 19:26:27,171:jax._src.cache_key:158: get_cache_key hash after serializing computation: fb0310620d58c2e759e2124235b884657b3273199b77fbc64643cc4987b863e0\n",
      "DEBUG:2025-01-07 19:26:27,171:jax._src.cache_key:152: get_cache_key hash of serialized jax_lib version: c8601d1831072872293c1f9c58282e40273dd0289eaea98e369c2037dc4231ae\n",
      "DEBUG:2025-01-07 19:26:27,172:jax._src.cache_key:158: get_cache_key hash after serializing jax_lib version: 30e8d940723494dc5996de3895261e9b5edca3e310518e4b27552d3c6327f57e\n",
      "DEBUG:2025-01-07 19:26:27,173:jax._src.cache_key:152: get_cache_key hash of serialized XLA flags: e3b0c44298fc1c149afbf4c8996fb92427ae41e4649b934ca495991b7852b855\n",
      "DEBUG:2025-01-07 19:26:27,173:jax._src.cache_key:158: get_cache_key hash after serializing XLA flags: 30e8d940723494dc5996de3895261e9b5edca3e310518e4b27552d3c6327f57e\n",
      "DEBUG:2025-01-07 19:26:27,176:jax._src.cache_key:152: get_cache_key hash of serialized compile_options: 2a589923d1622726e70feec5d7c01445d31216f10935bd44445a5b7e54325073\n",
      "DEBUG:2025-01-07 19:26:27,177:jax._src.cache_key:158: get_cache_key hash after serializing compile_options: e20862a3ccffc66533928bb56722d21812ea4ba463b740533fe2a3dee3c4aa0f\n",
      "DEBUG:2025-01-07 19:26:27,178:jax._src.cache_key:152: get_cache_key hash of serialized accelerator_config: 68c6efbdebb80efe282e44bc6f25994b02bc71eeea9bc20e84f06a82fc1b590a\n",
      "DEBUG:2025-01-07 19:26:27,178:jax._src.cache_key:158: get_cache_key hash after serializing accelerator_config: 56df98d2546e69038fe62d435ccf3f1f06b97c76dcf2a12cf2b00696ce0d5fcd\n",
      "DEBUG:2025-01-07 19:26:27,179:jax._src.cache_key:152: get_cache_key hash of serialized compression: 0ea55c28f8014d8886b6248fe3da5d588f55c0823847a6b4579f1131b051b5e2\n",
      "DEBUG:2025-01-07 19:26:27,180:jax._src.cache_key:158: get_cache_key hash after serializing compression: be9bb9d4604708b1ed3913fa000d1ee5be00513a12ee831167b296d6373017e1\n",
      "DEBUG:2025-01-07 19:26:27,180:jax._src.cache_key:152: get_cache_key hash of serialized custom_hook: e3b0c44298fc1c149afbf4c8996fb92427ae41e4649b934ca495991b7852b855\n",
      "DEBUG:2025-01-07 19:26:27,181:jax._src.cache_key:158: get_cache_key hash after serializing custom_hook: be9bb9d4604708b1ed3913fa000d1ee5be00513a12ee831167b296d6373017e1\n",
      "DEBUG:2025-01-07 19:26:27,182:jax._src.compilation_cache:215: get_executable_and_time: cache is disabled/not initialized\n",
      "DEBUG:2025-01-07 19:26:27,183:jax._src.compiler:108: PERSISTENT COMPILATION CACHE MISS for 'jit_true_divide' with key 'jit_true_divide-be9bb9d4604708b1ed3913fa000d1ee5be00513a12ee831167b296d6373017e1'\n",
      "DEBUG:2025-01-07 19:26:27,195:jax._src.compiler:723: Not writing persistent cache entry for 'jit_true_divide' because it took < 1.00 seconds to compile (0.01s)\n",
      "DEBUG:2025-01-07 19:26:27,196:jax._src.dispatch:182: Finished XLA compilation of jit(true_divide) in 0.026728630 sec\n",
      "DEBUG:2025-01-07 19:26:27,198:jax._src.dispatch:182: Finished tracing + transforming multiply for pjit in 0.000583887 sec\n",
      "DEBUG:2025-01-07 19:26:27,200:jax._src.interpreters.pxla:1906: Compiling multiply with global shapes and types [ShapedArray(float32[]), ShapedArray(float32[171])]. Argument mapping: (UnspecifiedValue, UnspecifiedValue).\n",
      "DEBUG:2025-01-07 19:26:27,204:jax._src.dispatch:182: Finished jaxpr to MLIR module conversion jit(multiply) in 0.003019810 sec\n",
      "DEBUG:2025-01-07 19:26:27,205:jax._src.compiler:167: get_compile_options: num_replicas=1 num_partitions=1 device_assignment=[[CpuDevice(id=0)]]\n",
      "DEBUG:2025-01-07 19:26:27,206:jax._src.compiler:239: get_compile_options XLA-AutoFDO profile: using XLA-AutoFDO profile version -1\n",
      "DEBUG:2025-01-07 19:26:27,207:jax._src.cache_key:152: get_cache_key hash of serialized computation: 6277765925d390d713dc208bed42d46085d0870957c47ed34b5f9056a85b2065\n",
      "DEBUG:2025-01-07 19:26:27,208:jax._src.cache_key:158: get_cache_key hash after serializing computation: 6277765925d390d713dc208bed42d46085d0870957c47ed34b5f9056a85b2065\n",
      "DEBUG:2025-01-07 19:26:27,208:jax._src.cache_key:152: get_cache_key hash of serialized jax_lib version: c8601d1831072872293c1f9c58282e40273dd0289eaea98e369c2037dc4231ae\n",
      "DEBUG:2025-01-07 19:26:27,209:jax._src.cache_key:158: get_cache_key hash after serializing jax_lib version: f7666ecde38e3ee768f1089960a6b4be9b143a65c32ea70322d3438d41393127\n",
      "DEBUG:2025-01-07 19:26:27,210:jax._src.cache_key:152: get_cache_key hash of serialized XLA flags: e3b0c44298fc1c149afbf4c8996fb92427ae41e4649b934ca495991b7852b855\n",
      "DEBUG:2025-01-07 19:26:27,211:jax._src.cache_key:158: get_cache_key hash after serializing XLA flags: f7666ecde38e3ee768f1089960a6b4be9b143a65c32ea70322d3438d41393127\n",
      "DEBUG:2025-01-07 19:26:27,211:jax._src.cache_key:152: get_cache_key hash of serialized compile_options: 2a589923d1622726e70feec5d7c01445d31216f10935bd44445a5b7e54325073\n",
      "DEBUG:2025-01-07 19:26:27,212:jax._src.cache_key:158: get_cache_key hash after serializing compile_options: ee96d0bdeb3b8a6ccf638b773bf99319401a850a490bec1976940d3ea5141cfb\n",
      "DEBUG:2025-01-07 19:26:27,213:jax._src.cache_key:152: get_cache_key hash of serialized accelerator_config: 68c6efbdebb80efe282e44bc6f25994b02bc71eeea9bc20e84f06a82fc1b590a\n",
      "DEBUG:2025-01-07 19:26:27,214:jax._src.cache_key:158: get_cache_key hash after serializing accelerator_config: 3dd55b07cad2ea7194aaf356519961f5eedd1cca729aa7506a34557ee191619d\n",
      "DEBUG:2025-01-07 19:26:27,214:jax._src.cache_key:152: get_cache_key hash of serialized compression: 0ea55c28f8014d8886b6248fe3da5d588f55c0823847a6b4579f1131b051b5e2\n",
      "DEBUG:2025-01-07 19:26:27,215:jax._src.cache_key:158: get_cache_key hash after serializing compression: 6e6ba02d6a7678c287927ee7cc53bc993cee700169cc49a87fe861d1e25ef809\n",
      "DEBUG:2025-01-07 19:26:27,216:jax._src.cache_key:152: get_cache_key hash of serialized custom_hook: e3b0c44298fc1c149afbf4c8996fb92427ae41e4649b934ca495991b7852b855\n",
      "DEBUG:2025-01-07 19:26:27,216:jax._src.cache_key:158: get_cache_key hash after serializing custom_hook: 6e6ba02d6a7678c287927ee7cc53bc993cee700169cc49a87fe861d1e25ef809\n",
      "DEBUG:2025-01-07 19:26:27,217:jax._src.compilation_cache:215: get_executable_and_time: cache is disabled/not initialized\n",
      "DEBUG:2025-01-07 19:26:27,217:jax._src.compiler:108: PERSISTENT COMPILATION CACHE MISS for 'jit_multiply' with key 'jit_multiply-6e6ba02d6a7678c287927ee7cc53bc993cee700169cc49a87fe861d1e25ef809'\n",
      "DEBUG:2025-01-07 19:26:27,230:jax._src.compiler:723: Not writing persistent cache entry for 'jit_multiply' because it took < 1.00 seconds to compile (0.01s)\n",
      "DEBUG:2025-01-07 19:26:27,230:jax._src.dispatch:182: Finished XLA compilation of jit(multiply) in 0.023636818 sec\n",
      "DEBUG:2025-01-07 19:26:27,232:jax._src.dispatch:182: Finished tracing + transforming true_divide for pjit in 0.000506401 sec\n",
      "DEBUG:2025-01-07 19:26:27,233:jax._src.interpreters.pxla:1906: Compiling true_divide with global shapes and types [ShapedArray(float32[171]), ShapedArray(float32[])]. Argument mapping: (UnspecifiedValue, UnspecifiedValue).\n",
      "DEBUG:2025-01-07 19:26:27,237:jax._src.dispatch:182: Finished jaxpr to MLIR module conversion jit(true_divide) in 0.002339602 sec\n",
      "DEBUG:2025-01-07 19:26:27,238:jax._src.compiler:167: get_compile_options: num_replicas=1 num_partitions=1 device_assignment=[[CpuDevice(id=0)]]\n",
      "DEBUG:2025-01-07 19:26:27,238:jax._src.compiler:239: get_compile_options XLA-AutoFDO profile: using XLA-AutoFDO profile version -1\n",
      "DEBUG:2025-01-07 19:26:27,239:jax._src.cache_key:152: get_cache_key hash of serialized computation: 854bd25edefb3fe4b5094793276c511afafbbd4de92790c2c2d4419ddfbc9b28\n",
      "DEBUG:2025-01-07 19:26:27,239:jax._src.cache_key:158: get_cache_key hash after serializing computation: 854bd25edefb3fe4b5094793276c511afafbbd4de92790c2c2d4419ddfbc9b28\n",
      "DEBUG:2025-01-07 19:26:27,240:jax._src.cache_key:152: get_cache_key hash of serialized jax_lib version: c8601d1831072872293c1f9c58282e40273dd0289eaea98e369c2037dc4231ae\n",
      "DEBUG:2025-01-07 19:26:27,241:jax._src.cache_key:158: get_cache_key hash after serializing jax_lib version: 846f59e9869cdc5c3868e396ca474e2359207e75adb2308a8649dbb73ab1d008\n",
      "DEBUG:2025-01-07 19:26:27,241:jax._src.cache_key:152: get_cache_key hash of serialized XLA flags: e3b0c44298fc1c149afbf4c8996fb92427ae41e4649b934ca495991b7852b855\n",
      "DEBUG:2025-01-07 19:26:27,242:jax._src.cache_key:158: get_cache_key hash after serializing XLA flags: 846f59e9869cdc5c3868e396ca474e2359207e75adb2308a8649dbb73ab1d008\n",
      "DEBUG:2025-01-07 19:26:27,242:jax._src.cache_key:152: get_cache_key hash of serialized compile_options: 2a589923d1622726e70feec5d7c01445d31216f10935bd44445a5b7e54325073\n",
      "DEBUG:2025-01-07 19:26:27,243:jax._src.cache_key:158: get_cache_key hash after serializing compile_options: 4a53e209163e3c7e40cde473e58a2d44dfba754b09c022c346cd93ddfe905c47\n",
      "DEBUG:2025-01-07 19:26:27,243:jax._src.cache_key:152: get_cache_key hash of serialized accelerator_config: 68c6efbdebb80efe282e44bc6f25994b02bc71eeea9bc20e84f06a82fc1b590a\n",
      "DEBUG:2025-01-07 19:26:27,244:jax._src.cache_key:158: get_cache_key hash after serializing accelerator_config: 758cbbda7f46948f1065832836d14641134b62cb9e1a369fc1a8962bc0e90d89\n",
      "DEBUG:2025-01-07 19:26:27,245:jax._src.cache_key:152: get_cache_key hash of serialized compression: 0ea55c28f8014d8886b6248fe3da5d588f55c0823847a6b4579f1131b051b5e2\n",
      "DEBUG:2025-01-07 19:26:27,245:jax._src.cache_key:158: get_cache_key hash after serializing compression: 8d8c37d7b5bd06bc0e528fa41157bf180b163ce5c761c36eb5492f68d454229e\n",
      "DEBUG:2025-01-07 19:26:27,245:jax._src.cache_key:152: get_cache_key hash of serialized custom_hook: e3b0c44298fc1c149afbf4c8996fb92427ae41e4649b934ca495991b7852b855\n",
      "DEBUG:2025-01-07 19:26:27,246:jax._src.cache_key:158: get_cache_key hash after serializing custom_hook: 8d8c37d7b5bd06bc0e528fa41157bf180b163ce5c761c36eb5492f68d454229e\n",
      "DEBUG:2025-01-07 19:26:27,246:jax._src.compilation_cache:215: get_executable_and_time: cache is disabled/not initialized\n",
      "DEBUG:2025-01-07 19:26:27,247:jax._src.compiler:108: PERSISTENT COMPILATION CACHE MISS for 'jit_true_divide' with key 'jit_true_divide-8d8c37d7b5bd06bc0e528fa41157bf180b163ce5c761c36eb5492f68d454229e'\n",
      "DEBUG:2025-01-07 19:26:27,259:jax._src.compiler:723: Not writing persistent cache entry for 'jit_true_divide' because it took < 1.00 seconds to compile (0.01s)\n",
      "DEBUG:2025-01-07 19:26:27,260:jax._src.dispatch:182: Finished XLA compilation of jit(true_divide) in 0.021489143 sec\n",
      "DEBUG:2025-01-07 19:26:27,262:jax._src.dispatch:182: Finished tracing + transforming multiply for pjit in 0.000345945 sec\n",
      "DEBUG:2025-01-07 19:26:27,262:jax._src.interpreters.pxla:1906: Compiling multiply with global shapes and types [ShapedArray(float32[]), ShapedArray(float32[4])]. Argument mapping: (UnspecifiedValue, UnspecifiedValue).\n",
      "DEBUG:2025-01-07 19:26:27,265:jax._src.dispatch:182: Finished jaxpr to MLIR module conversion jit(multiply) in 0.002485514 sec\n",
      "DEBUG:2025-01-07 19:26:27,266:jax._src.compiler:167: get_compile_options: num_replicas=1 num_partitions=1 device_assignment=[[CpuDevice(id=0)]]\n",
      "DEBUG:2025-01-07 19:26:27,267:jax._src.compiler:239: get_compile_options XLA-AutoFDO profile: using XLA-AutoFDO profile version -1\n",
      "DEBUG:2025-01-07 19:26:27,268:jax._src.cache_key:152: get_cache_key hash of serialized computation: e68d387015b5909c5091efe5a96242e248480f7388bc22374887baeb9fcd9fe4\n",
      "DEBUG:2025-01-07 19:26:27,268:jax._src.cache_key:158: get_cache_key hash after serializing computation: e68d387015b5909c5091efe5a96242e248480f7388bc22374887baeb9fcd9fe4\n",
      "DEBUG:2025-01-07 19:26:27,268:jax._src.cache_key:152: get_cache_key hash of serialized jax_lib version: c8601d1831072872293c1f9c58282e40273dd0289eaea98e369c2037dc4231ae\n",
      "DEBUG:2025-01-07 19:26:27,269:jax._src.cache_key:158: get_cache_key hash after serializing jax_lib version: 0754db531eed103ce5b4e0f790e0b88612879aab075fcf6687f0835c9d35d47c\n",
      "DEBUG:2025-01-07 19:26:27,269:jax._src.cache_key:152: get_cache_key hash of serialized XLA flags: e3b0c44298fc1c149afbf4c8996fb92427ae41e4649b934ca495991b7852b855\n",
      "DEBUG:2025-01-07 19:26:27,270:jax._src.cache_key:158: get_cache_key hash after serializing XLA flags: 0754db531eed103ce5b4e0f790e0b88612879aab075fcf6687f0835c9d35d47c\n",
      "DEBUG:2025-01-07 19:26:27,270:jax._src.cache_key:152: get_cache_key hash of serialized compile_options: 2a589923d1622726e70feec5d7c01445d31216f10935bd44445a5b7e54325073\n",
      "DEBUG:2025-01-07 19:26:27,271:jax._src.cache_key:158: get_cache_key hash after serializing compile_options: 29c69515c7ba8f26705e5a4f61294e1d1f7b6b210cbf3add7cd9a755a3994ad1\n",
      "DEBUG:2025-01-07 19:26:27,271:jax._src.cache_key:152: get_cache_key hash of serialized accelerator_config: 68c6efbdebb80efe282e44bc6f25994b02bc71eeea9bc20e84f06a82fc1b590a\n",
      "DEBUG:2025-01-07 19:26:27,272:jax._src.cache_key:158: get_cache_key hash after serializing accelerator_config: ec512056ff0b35c3cd50fe26dcc32a404f9f0fd67b3865a0018fd1d90bf3fac8\n",
      "DEBUG:2025-01-07 19:26:27,273:jax._src.cache_key:152: get_cache_key hash of serialized compression: 0ea55c28f8014d8886b6248fe3da5d588f55c0823847a6b4579f1131b051b5e2\n",
      "DEBUG:2025-01-07 19:26:27,273:jax._src.cache_key:158: get_cache_key hash after serializing compression: ace58dc33b39506760ecf3345ffc453b801ca3baf85f9030d456b34e8d7aaf95\n",
      "DEBUG:2025-01-07 19:26:27,274:jax._src.cache_key:152: get_cache_key hash of serialized custom_hook: e3b0c44298fc1c149afbf4c8996fb92427ae41e4649b934ca495991b7852b855\n",
      "DEBUG:2025-01-07 19:26:27,274:jax._src.cache_key:158: get_cache_key hash after serializing custom_hook: ace58dc33b39506760ecf3345ffc453b801ca3baf85f9030d456b34e8d7aaf95\n",
      "DEBUG:2025-01-07 19:26:27,275:jax._src.compilation_cache:215: get_executable_and_time: cache is disabled/not initialized\n",
      "DEBUG:2025-01-07 19:26:27,275:jax._src.compiler:108: PERSISTENT COMPILATION CACHE MISS for 'jit_multiply' with key 'jit_multiply-ace58dc33b39506760ecf3345ffc453b801ca3baf85f9030d456b34e8d7aaf95'\n",
      "DEBUG:2025-01-07 19:26:27,284:jax._src.compiler:723: Not writing persistent cache entry for 'jit_multiply' because it took < 1.00 seconds to compile (0.01s)\n",
      "DEBUG:2025-01-07 19:26:27,285:jax._src.dispatch:182: Finished XLA compilation of jit(multiply) in 0.017718077 sec\n",
      "DEBUG:2025-01-07 19:26:27,287:jax._src.dispatch:182: Finished tracing + transforming true_divide for pjit in 0.000548124 sec\n",
      "DEBUG:2025-01-07 19:26:27,291:jax._src.interpreters.pxla:1906: Compiling true_divide with global shapes and types [ShapedArray(float32[4]), ShapedArray(float32[])]. Argument mapping: (UnspecifiedValue, UnspecifiedValue).\n",
      "DEBUG:2025-01-07 19:26:27,295:jax._src.dispatch:182: Finished jaxpr to MLIR module conversion jit(true_divide) in 0.003642082 sec\n",
      "DEBUG:2025-01-07 19:26:27,297:jax._src.compiler:167: get_compile_options: num_replicas=1 num_partitions=1 device_assignment=[[CpuDevice(id=0)]]\n",
      "DEBUG:2025-01-07 19:26:27,298:jax._src.compiler:239: get_compile_options XLA-AutoFDO profile: using XLA-AutoFDO profile version -1\n",
      "DEBUG:2025-01-07 19:26:27,301:jax._src.cache_key:152: get_cache_key hash of serialized computation: 15eac53cfa4367b3faeed78c6e8286cac147f148a875b223977b99e7a7ba3830\n",
      "DEBUG:2025-01-07 19:26:27,302:jax._src.cache_key:158: get_cache_key hash after serializing computation: 15eac53cfa4367b3faeed78c6e8286cac147f148a875b223977b99e7a7ba3830\n",
      "DEBUG:2025-01-07 19:26:27,303:jax._src.cache_key:152: get_cache_key hash of serialized jax_lib version: c8601d1831072872293c1f9c58282e40273dd0289eaea98e369c2037dc4231ae\n",
      "DEBUG:2025-01-07 19:26:27,304:jax._src.cache_key:158: get_cache_key hash after serializing jax_lib version: 1e6d5f1f6e7913a97f7ccf17a972dd1a224e8585b968a1e00d1d03bb2718a9c4\n",
      "DEBUG:2025-01-07 19:26:27,304:jax._src.cache_key:152: get_cache_key hash of serialized XLA flags: e3b0c44298fc1c149afbf4c8996fb92427ae41e4649b934ca495991b7852b855\n",
      "DEBUG:2025-01-07 19:26:27,305:jax._src.cache_key:158: get_cache_key hash after serializing XLA flags: 1e6d5f1f6e7913a97f7ccf17a972dd1a224e8585b968a1e00d1d03bb2718a9c4\n",
      "DEBUG:2025-01-07 19:26:27,306:jax._src.cache_key:152: get_cache_key hash of serialized compile_options: 2a589923d1622726e70feec5d7c01445d31216f10935bd44445a5b7e54325073\n",
      "DEBUG:2025-01-07 19:26:27,307:jax._src.cache_key:158: get_cache_key hash after serializing compile_options: fd62de57aa7b0889319f6297926591c2d0e5912ea9260fe3a9b927d08e0430b3\n",
      "DEBUG:2025-01-07 19:26:27,308:jax._src.cache_key:152: get_cache_key hash of serialized accelerator_config: 68c6efbdebb80efe282e44bc6f25994b02bc71eeea9bc20e84f06a82fc1b590a\n",
      "DEBUG:2025-01-07 19:26:27,308:jax._src.cache_key:158: get_cache_key hash after serializing accelerator_config: 7667491e30e09d6edf6f4ec2f7717f4e78f636aacb0b79e176a79c72ffc6465e\n",
      "DEBUG:2025-01-07 19:26:27,309:jax._src.cache_key:152: get_cache_key hash of serialized compression: 0ea55c28f8014d8886b6248fe3da5d588f55c0823847a6b4579f1131b051b5e2\n",
      "DEBUG:2025-01-07 19:26:27,310:jax._src.cache_key:158: get_cache_key hash after serializing compression: 5fbf452653158228f9d6690cf7cfb7a2528bc93b0971243cabcdd398537fd28c\n",
      "DEBUG:2025-01-07 19:26:27,310:jax._src.cache_key:152: get_cache_key hash of serialized custom_hook: e3b0c44298fc1c149afbf4c8996fb92427ae41e4649b934ca495991b7852b855\n",
      "DEBUG:2025-01-07 19:26:27,311:jax._src.cache_key:158: get_cache_key hash after serializing custom_hook: 5fbf452653158228f9d6690cf7cfb7a2528bc93b0971243cabcdd398537fd28c\n",
      "DEBUG:2025-01-07 19:26:27,312:jax._src.compilation_cache:215: get_executable_and_time: cache is disabled/not initialized\n",
      "DEBUG:2025-01-07 19:26:27,313:jax._src.compiler:108: PERSISTENT COMPILATION CACHE MISS for 'jit_true_divide' with key 'jit_true_divide-5fbf452653158228f9d6690cf7cfb7a2528bc93b0971243cabcdd398537fd28c'\n",
      "DEBUG:2025-01-07 19:26:27,325:jax._src.compiler:723: Not writing persistent cache entry for 'jit_true_divide' because it took < 1.00 seconds to compile (0.01s)\n",
      "DEBUG:2025-01-07 19:26:27,326:jax._src.dispatch:182: Finished XLA compilation of jit(true_divide) in 0.025804758 sec\n",
      "DEBUG:2025-01-07 19:26:27,328:jax._src.dispatch:182: Finished tracing + transforming multiply for pjit in 0.000566244 sec\n",
      "DEBUG:2025-01-07 19:26:27,330:jax._src.interpreters.pxla:1906: Compiling multiply with global shapes and types [ShapedArray(float32[]), ShapedArray(float32[171,4])]. Argument mapping: (UnspecifiedValue, UnspecifiedValue).\n",
      "DEBUG:2025-01-07 19:26:27,333:jax._src.dispatch:182: Finished jaxpr to MLIR module conversion jit(multiply) in 0.002402067 sec\n",
      "DEBUG:2025-01-07 19:26:27,335:jax._src.compiler:167: get_compile_options: num_replicas=1 num_partitions=1 device_assignment=[[CpuDevice(id=0)]]\n",
      "DEBUG:2025-01-07 19:26:27,336:jax._src.compiler:239: get_compile_options XLA-AutoFDO profile: using XLA-AutoFDO profile version -1\n",
      "DEBUG:2025-01-07 19:26:27,337:jax._src.cache_key:152: get_cache_key hash of serialized computation: 6610dc87e4efb40262d53d438ce7c68d859d25a93c183eea2f51a8592b488c36\n",
      "DEBUG:2025-01-07 19:26:27,337:jax._src.cache_key:158: get_cache_key hash after serializing computation: 6610dc87e4efb40262d53d438ce7c68d859d25a93c183eea2f51a8592b488c36\n",
      "DEBUG:2025-01-07 19:26:27,337:jax._src.cache_key:152: get_cache_key hash of serialized jax_lib version: c8601d1831072872293c1f9c58282e40273dd0289eaea98e369c2037dc4231ae\n",
      "DEBUG:2025-01-07 19:26:27,338:jax._src.cache_key:158: get_cache_key hash after serializing jax_lib version: f20ccc73b61128ab5919e4ac4421d1481cdad1c886dd8b36633c22fd1b572b70\n",
      "DEBUG:2025-01-07 19:26:27,339:jax._src.cache_key:152: get_cache_key hash of serialized XLA flags: e3b0c44298fc1c149afbf4c8996fb92427ae41e4649b934ca495991b7852b855\n",
      "DEBUG:2025-01-07 19:26:27,339:jax._src.cache_key:158: get_cache_key hash after serializing XLA flags: f20ccc73b61128ab5919e4ac4421d1481cdad1c886dd8b36633c22fd1b572b70\n",
      "DEBUG:2025-01-07 19:26:27,340:jax._src.cache_key:152: get_cache_key hash of serialized compile_options: 2a589923d1622726e70feec5d7c01445d31216f10935bd44445a5b7e54325073\n",
      "DEBUG:2025-01-07 19:26:27,341:jax._src.cache_key:158: get_cache_key hash after serializing compile_options: 5b8894b36b197720cadccf6fce8e5f68662097d09b16a196faf4ae2649c36975\n",
      "DEBUG:2025-01-07 19:26:27,341:jax._src.cache_key:152: get_cache_key hash of serialized accelerator_config: 68c6efbdebb80efe282e44bc6f25994b02bc71eeea9bc20e84f06a82fc1b590a\n",
      "DEBUG:2025-01-07 19:26:27,342:jax._src.cache_key:158: get_cache_key hash after serializing accelerator_config: ab7b5a5018e0879f557ec761a2f7a80cc8949de0acb05877c95bd567a1d32ba2\n",
      "DEBUG:2025-01-07 19:26:27,343:jax._src.cache_key:152: get_cache_key hash of serialized compression: 0ea55c28f8014d8886b6248fe3da5d588f55c0823847a6b4579f1131b051b5e2\n",
      "DEBUG:2025-01-07 19:26:27,343:jax._src.cache_key:158: get_cache_key hash after serializing compression: 0d9d8288151c75fd02497e1dd54f8cc7b446e35fc1b9c58f0d5120df890ecf14\n",
      "DEBUG:2025-01-07 19:26:27,344:jax._src.cache_key:152: get_cache_key hash of serialized custom_hook: e3b0c44298fc1c149afbf4c8996fb92427ae41e4649b934ca495991b7852b855\n",
      "DEBUG:2025-01-07 19:26:27,345:jax._src.cache_key:158: get_cache_key hash after serializing custom_hook: 0d9d8288151c75fd02497e1dd54f8cc7b446e35fc1b9c58f0d5120df890ecf14\n",
      "DEBUG:2025-01-07 19:26:27,346:jax._src.compilation_cache:215: get_executable_and_time: cache is disabled/not initialized\n",
      "DEBUG:2025-01-07 19:26:27,347:jax._src.compiler:108: PERSISTENT COMPILATION CACHE MISS for 'jit_multiply' with key 'jit_multiply-0d9d8288151c75fd02497e1dd54f8cc7b446e35fc1b9c58f0d5120df890ecf14'\n",
      "DEBUG:2025-01-07 19:26:27,360:jax._src.compiler:723: Not writing persistent cache entry for 'jit_multiply' because it took < 1.00 seconds to compile (0.01s)\n",
      "DEBUG:2025-01-07 19:26:27,361:jax._src.dispatch:182: Finished XLA compilation of jit(multiply) in 0.024332523 sec\n",
      "DEBUG:2025-01-07 19:26:27,362:jax._src.dispatch:182: Finished tracing + transforming true_divide for pjit in 0.000581980 sec\n",
      "DEBUG:2025-01-07 19:26:27,364:jax._src.interpreters.pxla:1906: Compiling true_divide with global shapes and types [ShapedArray(float32[171,4]), ShapedArray(float32[])]. Argument mapping: (UnspecifiedValue, UnspecifiedValue).\n",
      "DEBUG:2025-01-07 19:26:27,367:jax._src.dispatch:182: Finished jaxpr to MLIR module conversion jit(true_divide) in 0.002314329 sec\n",
      "DEBUG:2025-01-07 19:26:27,367:jax._src.compiler:167: get_compile_options: num_replicas=1 num_partitions=1 device_assignment=[[CpuDevice(id=0)]]\n",
      "DEBUG:2025-01-07 19:26:27,368:jax._src.compiler:239: get_compile_options XLA-AutoFDO profile: using XLA-AutoFDO profile version -1\n",
      "DEBUG:2025-01-07 19:26:27,369:jax._src.cache_key:152: get_cache_key hash of serialized computation: 526ba14425c518603ce52a6ae9594a319840da3b2e6414ed9b3fa14e3934b35c\n",
      "DEBUG:2025-01-07 19:26:27,370:jax._src.cache_key:158: get_cache_key hash after serializing computation: 526ba14425c518603ce52a6ae9594a319840da3b2e6414ed9b3fa14e3934b35c\n",
      "DEBUG:2025-01-07 19:26:27,371:jax._src.cache_key:152: get_cache_key hash of serialized jax_lib version: c8601d1831072872293c1f9c58282e40273dd0289eaea98e369c2037dc4231ae\n",
      "DEBUG:2025-01-07 19:26:27,371:jax._src.cache_key:158: get_cache_key hash after serializing jax_lib version: 302c2a0841f0891ba7cfb1def9aea94c23239eaafe1ffe65999c0426bda26fbf\n",
      "DEBUG:2025-01-07 19:26:27,371:jax._src.cache_key:152: get_cache_key hash of serialized XLA flags: e3b0c44298fc1c149afbf4c8996fb92427ae41e4649b934ca495991b7852b855\n",
      "DEBUG:2025-01-07 19:26:27,372:jax._src.cache_key:158: get_cache_key hash after serializing XLA flags: 302c2a0841f0891ba7cfb1def9aea94c23239eaafe1ffe65999c0426bda26fbf\n",
      "DEBUG:2025-01-07 19:26:27,373:jax._src.cache_key:152: get_cache_key hash of serialized compile_options: 2a589923d1622726e70feec5d7c01445d31216f10935bd44445a5b7e54325073\n",
      "DEBUG:2025-01-07 19:26:27,373:jax._src.cache_key:158: get_cache_key hash after serializing compile_options: 397e517b8dbdbbdafb0689ffb41e984a457a14296877dead7d112ade5ad26cd6\n",
      "DEBUG:2025-01-07 19:26:27,374:jax._src.cache_key:152: get_cache_key hash of serialized accelerator_config: 68c6efbdebb80efe282e44bc6f25994b02bc71eeea9bc20e84f06a82fc1b590a\n",
      "DEBUG:2025-01-07 19:26:27,374:jax._src.cache_key:158: get_cache_key hash after serializing accelerator_config: fc71c0622178f208241f144cd8c476f1bb1ed706118b022f1623799ee1fa4e9f\n",
      "DEBUG:2025-01-07 19:26:27,375:jax._src.cache_key:152: get_cache_key hash of serialized compression: 0ea55c28f8014d8886b6248fe3da5d588f55c0823847a6b4579f1131b051b5e2\n",
      "DEBUG:2025-01-07 19:26:27,375:jax._src.cache_key:158: get_cache_key hash after serializing compression: e95a20136e442b93ef8ef671a73747ffaade15a23a73cd843ee7a21b2e61b733\n",
      "DEBUG:2025-01-07 19:26:27,375:jax._src.cache_key:152: get_cache_key hash of serialized custom_hook: e3b0c44298fc1c149afbf4c8996fb92427ae41e4649b934ca495991b7852b855\n",
      "DEBUG:2025-01-07 19:26:27,376:jax._src.cache_key:158: get_cache_key hash after serializing custom_hook: e95a20136e442b93ef8ef671a73747ffaade15a23a73cd843ee7a21b2e61b733\n",
      "DEBUG:2025-01-07 19:26:27,377:jax._src.compilation_cache:215: get_executable_and_time: cache is disabled/not initialized\n",
      "DEBUG:2025-01-07 19:26:27,377:jax._src.compiler:108: PERSISTENT COMPILATION CACHE MISS for 'jit_true_divide' with key 'jit_true_divide-e95a20136e442b93ef8ef671a73747ffaade15a23a73cd843ee7a21b2e61b733'\n",
      "DEBUG:2025-01-07 19:26:27,388:jax._src.compiler:723: Not writing persistent cache entry for 'jit_true_divide' because it took < 1.00 seconds to compile (0.01s)\n",
      "DEBUG:2025-01-07 19:26:27,388:jax._src.dispatch:182: Finished XLA compilation of jit(true_divide) in 0.019575834 sec\n",
      "DEBUG:2025-01-07 19:26:27,391:jax._src.dispatch:182: Finished tracing + transforming multiply for pjit in 0.000514746 sec\n",
      "DEBUG:2025-01-07 19:26:27,392:jax._src.interpreters.pxla:1906: Compiling multiply with global shapes and types [ShapedArray(float32[]), ShapedArray(float32[0,4])]. Argument mapping: (UnspecifiedValue, UnspecifiedValue).\n",
      "DEBUG:2025-01-07 19:26:27,396:jax._src.dispatch:182: Finished jaxpr to MLIR module conversion jit(multiply) in 0.003590345 sec\n",
      "DEBUG:2025-01-07 19:26:27,398:jax._src.compiler:167: get_compile_options: num_replicas=1 num_partitions=1 device_assignment=[[CpuDevice(id=0)]]\n",
      "DEBUG:2025-01-07 19:26:27,399:jax._src.compiler:239: get_compile_options XLA-AutoFDO profile: using XLA-AutoFDO profile version -1\n",
      "DEBUG:2025-01-07 19:26:27,401:jax._src.cache_key:152: get_cache_key hash of serialized computation: dd5cc0de0c5f3f24915f5a8b8808f4666de871bfc1256101734ed735260b9dda\n",
      "DEBUG:2025-01-07 19:26:27,401:jax._src.cache_key:158: get_cache_key hash after serializing computation: dd5cc0de0c5f3f24915f5a8b8808f4666de871bfc1256101734ed735260b9dda\n",
      "DEBUG:2025-01-07 19:26:27,402:jax._src.cache_key:152: get_cache_key hash of serialized jax_lib version: c8601d1831072872293c1f9c58282e40273dd0289eaea98e369c2037dc4231ae\n",
      "DEBUG:2025-01-07 19:26:27,403:jax._src.cache_key:158: get_cache_key hash after serializing jax_lib version: 038ed315303e143c2c4ef7d0782d3b9f003ba20801c4bad056fa1cf48a77f515\n",
      "DEBUG:2025-01-07 19:26:27,404:jax._src.cache_key:152: get_cache_key hash of serialized XLA flags: e3b0c44298fc1c149afbf4c8996fb92427ae41e4649b934ca495991b7852b855\n",
      "DEBUG:2025-01-07 19:26:27,405:jax._src.cache_key:158: get_cache_key hash after serializing XLA flags: 038ed315303e143c2c4ef7d0782d3b9f003ba20801c4bad056fa1cf48a77f515\n",
      "DEBUG:2025-01-07 19:26:27,405:jax._src.cache_key:152: get_cache_key hash of serialized compile_options: 2a589923d1622726e70feec5d7c01445d31216f10935bd44445a5b7e54325073\n",
      "DEBUG:2025-01-07 19:26:27,406:jax._src.cache_key:158: get_cache_key hash after serializing compile_options: 0ede81ef000dfc8b40902e32e3c813236b3f63a44becfbb80682aa9677c5199a\n",
      "DEBUG:2025-01-07 19:26:27,407:jax._src.cache_key:152: get_cache_key hash of serialized accelerator_config: 68c6efbdebb80efe282e44bc6f25994b02bc71eeea9bc20e84f06a82fc1b590a\n",
      "DEBUG:2025-01-07 19:26:27,408:jax._src.cache_key:158: get_cache_key hash after serializing accelerator_config: bc689584f077ff911156f70b938863839ed00a12ca34c839d4b33cafe751c6d6\n",
      "DEBUG:2025-01-07 19:26:27,409:jax._src.cache_key:152: get_cache_key hash of serialized compression: 0ea55c28f8014d8886b6248fe3da5d588f55c0823847a6b4579f1131b051b5e2\n",
      "DEBUG:2025-01-07 19:26:27,411:jax._src.cache_key:158: get_cache_key hash after serializing compression: ebd56c90b3368264917d848dd0722eef57dd8bd7cd53692d7871aba74b94b0f9\n",
      "DEBUG:2025-01-07 19:26:27,411:jax._src.cache_key:152: get_cache_key hash of serialized custom_hook: e3b0c44298fc1c149afbf4c8996fb92427ae41e4649b934ca495991b7852b855\n",
      "DEBUG:2025-01-07 19:26:27,412:jax._src.cache_key:158: get_cache_key hash after serializing custom_hook: ebd56c90b3368264917d848dd0722eef57dd8bd7cd53692d7871aba74b94b0f9\n",
      "DEBUG:2025-01-07 19:26:27,413:jax._src.compilation_cache:215: get_executable_and_time: cache is disabled/not initialized\n",
      "DEBUG:2025-01-07 19:26:27,414:jax._src.compiler:108: PERSISTENT COMPILATION CACHE MISS for 'jit_multiply' with key 'jit_multiply-ebd56c90b3368264917d848dd0722eef57dd8bd7cd53692d7871aba74b94b0f9'\n",
      "DEBUG:2025-01-07 19:26:27,423:jax._src.compiler:723: Not writing persistent cache entry for 'jit_multiply' because it took < 1.00 seconds to compile (0.01s)\n",
      "DEBUG:2025-01-07 19:26:27,423:jax._src.dispatch:182: Finished XLA compilation of jit(multiply) in 0.023112297 sec\n",
      "DEBUG:2025-01-07 19:26:27,425:jax._src.dispatch:182: Finished tracing + transforming true_divide for pjit in 0.000473261 sec\n",
      "DEBUG:2025-01-07 19:26:27,426:jax._src.interpreters.pxla:1906: Compiling true_divide with global shapes and types [ShapedArray(float32[0,4]), ShapedArray(float32[])]. Argument mapping: (UnspecifiedValue, UnspecifiedValue).\n",
      "DEBUG:2025-01-07 19:26:27,430:jax._src.dispatch:182: Finished jaxpr to MLIR module conversion jit(true_divide) in 0.002556801 sec\n",
      "DEBUG:2025-01-07 19:26:27,431:jax._src.compiler:167: get_compile_options: num_replicas=1 num_partitions=1 device_assignment=[[CpuDevice(id=0)]]\n",
      "DEBUG:2025-01-07 19:26:27,432:jax._src.compiler:239: get_compile_options XLA-AutoFDO profile: using XLA-AutoFDO profile version -1\n",
      "DEBUG:2025-01-07 19:26:27,433:jax._src.cache_key:152: get_cache_key hash of serialized computation: a4cbde7e02e249f8b032d0509d8078ecef6cef46cd480f1bb147d1826091c037\n",
      "DEBUG:2025-01-07 19:26:27,434:jax._src.cache_key:158: get_cache_key hash after serializing computation: a4cbde7e02e249f8b032d0509d8078ecef6cef46cd480f1bb147d1826091c037\n",
      "DEBUG:2025-01-07 19:26:27,434:jax._src.cache_key:152: get_cache_key hash of serialized jax_lib version: c8601d1831072872293c1f9c58282e40273dd0289eaea98e369c2037dc4231ae\n",
      "DEBUG:2025-01-07 19:26:27,435:jax._src.cache_key:158: get_cache_key hash after serializing jax_lib version: 85dc2338ab22dbf0ff8ff6c6f0eff0922c589ea7252fe2f29d2c2ee4e7a3e922\n",
      "DEBUG:2025-01-07 19:26:27,436:jax._src.cache_key:152: get_cache_key hash of serialized XLA flags: e3b0c44298fc1c149afbf4c8996fb92427ae41e4649b934ca495991b7852b855\n",
      "DEBUG:2025-01-07 19:26:27,437:jax._src.cache_key:158: get_cache_key hash after serializing XLA flags: 85dc2338ab22dbf0ff8ff6c6f0eff0922c589ea7252fe2f29d2c2ee4e7a3e922\n",
      "DEBUG:2025-01-07 19:26:27,438:jax._src.cache_key:152: get_cache_key hash of serialized compile_options: 2a589923d1622726e70feec5d7c01445d31216f10935bd44445a5b7e54325073\n",
      "DEBUG:2025-01-07 19:26:27,439:jax._src.cache_key:158: get_cache_key hash after serializing compile_options: 3ae097dc94e5ea88570f6b69e8fba90abba8b5806cc3f5f44a25b54d33aedb75\n",
      "DEBUG:2025-01-07 19:26:27,439:jax._src.cache_key:152: get_cache_key hash of serialized accelerator_config: 68c6efbdebb80efe282e44bc6f25994b02bc71eeea9bc20e84f06a82fc1b590a\n",
      "DEBUG:2025-01-07 19:26:27,440:jax._src.cache_key:158: get_cache_key hash after serializing accelerator_config: 073a4fcc7cf41e7b8b6be9eb97427e919b1075128713e017ec8a28967992af06\n",
      "DEBUG:2025-01-07 19:26:27,441:jax._src.cache_key:152: get_cache_key hash of serialized compression: 0ea55c28f8014d8886b6248fe3da5d588f55c0823847a6b4579f1131b051b5e2\n",
      "DEBUG:2025-01-07 19:26:27,442:jax._src.cache_key:158: get_cache_key hash after serializing compression: 81bfa7e1b576ab8139ffbdc8f816bbd71c693344dd0abd1207424af6e9c1e85e\n",
      "DEBUG:2025-01-07 19:26:27,442:jax._src.cache_key:152: get_cache_key hash of serialized custom_hook: e3b0c44298fc1c149afbf4c8996fb92427ae41e4649b934ca495991b7852b855\n",
      "DEBUG:2025-01-07 19:26:27,443:jax._src.cache_key:158: get_cache_key hash after serializing custom_hook: 81bfa7e1b576ab8139ffbdc8f816bbd71c693344dd0abd1207424af6e9c1e85e\n",
      "DEBUG:2025-01-07 19:26:27,443:jax._src.compilation_cache:215: get_executable_and_time: cache is disabled/not initialized\n",
      "DEBUG:2025-01-07 19:26:27,444:jax._src.compiler:108: PERSISTENT COMPILATION CACHE MISS for 'jit_true_divide' with key 'jit_true_divide-81bfa7e1b576ab8139ffbdc8f816bbd71c693344dd0abd1207424af6e9c1e85e'\n",
      "DEBUG:2025-01-07 19:26:27,451:jax._src.compiler:723: Not writing persistent cache entry for 'jit_true_divide' because it took < 1.00 seconds to compile (0.01s)\n",
      "DEBUG:2025-01-07 19:26:27,452:jax._src.dispatch:182: Finished XLA compilation of jit(true_divide) in 0.018842697 sec\n",
      "DEBUG:2025-01-07 19:26:27,455:jax._src.dispatch:182: Finished tracing + transforming dynamic_slice for pjit in 0.000462770 sec\n",
      "DEBUG:2025-01-07 19:26:27,456:jax._src.interpreters.pxla:1906: Compiling dynamic_slice with global shapes and types [ShapedArray(float32[171,4]), ShapedArray(int32[], weak_type=True), ShapedArray(int32[], weak_type=True)]. Argument mapping: (UnspecifiedValue, UnspecifiedValue, UnspecifiedValue).\n",
      "DEBUG:2025-01-07 19:26:27,461:jax._src.dispatch:182: Finished jaxpr to MLIR module conversion jit(dynamic_slice) in 0.003820658 sec\n",
      "DEBUG:2025-01-07 19:26:27,462:jax._src.compiler:167: get_compile_options: num_replicas=1 num_partitions=1 device_assignment=[[CpuDevice(id=0)]]\n",
      "DEBUG:2025-01-07 19:26:27,463:jax._src.compiler:239: get_compile_options XLA-AutoFDO profile: using XLA-AutoFDO profile version -1\n",
      "DEBUG:2025-01-07 19:26:27,463:jax._src.cache_key:152: get_cache_key hash of serialized computation: d045eee09ad08ea21e3de5762c74681addd3e6bd18784d5ab0a7d4e2881a1477\n",
      "DEBUG:2025-01-07 19:26:27,464:jax._src.cache_key:158: get_cache_key hash after serializing computation: d045eee09ad08ea21e3de5762c74681addd3e6bd18784d5ab0a7d4e2881a1477\n",
      "DEBUG:2025-01-07 19:26:27,464:jax._src.cache_key:152: get_cache_key hash of serialized jax_lib version: c8601d1831072872293c1f9c58282e40273dd0289eaea98e369c2037dc4231ae\n",
      "DEBUG:2025-01-07 19:26:27,465:jax._src.cache_key:158: get_cache_key hash after serializing jax_lib version: 47390a147b55205d58dea2ce6c37b2780f73ac624faad7f093cb4cb0705c1e8f\n",
      "DEBUG:2025-01-07 19:26:27,465:jax._src.cache_key:152: get_cache_key hash of serialized XLA flags: e3b0c44298fc1c149afbf4c8996fb92427ae41e4649b934ca495991b7852b855\n",
      "DEBUG:2025-01-07 19:26:27,466:jax._src.cache_key:158: get_cache_key hash after serializing XLA flags: 47390a147b55205d58dea2ce6c37b2780f73ac624faad7f093cb4cb0705c1e8f\n",
      "DEBUG:2025-01-07 19:26:27,466:jax._src.cache_key:152: get_cache_key hash of serialized compile_options: 3d02bb95d7db09523d74c7982f59c6df22fe45867c7974fc5e1f57c3ec90be5b\n",
      "DEBUG:2025-01-07 19:26:27,467:jax._src.cache_key:158: get_cache_key hash after serializing compile_options: f0e81d95496c254d669c163cff415d832d08418250c4da4b74930fef956f35b3\n",
      "DEBUG:2025-01-07 19:26:27,468:jax._src.cache_key:152: get_cache_key hash of serialized accelerator_config: 68c6efbdebb80efe282e44bc6f25994b02bc71eeea9bc20e84f06a82fc1b590a\n",
      "DEBUG:2025-01-07 19:26:27,468:jax._src.cache_key:158: get_cache_key hash after serializing accelerator_config: fc6c90395fe33c216e276cdea638d6e8cd853dc8c540a2c1bf810f7fa8d9a188\n",
      "DEBUG:2025-01-07 19:26:27,468:jax._src.cache_key:152: get_cache_key hash of serialized compression: 0ea55c28f8014d8886b6248fe3da5d588f55c0823847a6b4579f1131b051b5e2\n",
      "DEBUG:2025-01-07 19:26:27,469:jax._src.cache_key:158: get_cache_key hash after serializing compression: ce6cde9624e22c387e18ef7ce10e837c998c55c23fda0fbece4aedc77788974a\n",
      "DEBUG:2025-01-07 19:26:27,469:jax._src.cache_key:152: get_cache_key hash of serialized custom_hook: e3b0c44298fc1c149afbf4c8996fb92427ae41e4649b934ca495991b7852b855\n",
      "DEBUG:2025-01-07 19:26:27,470:jax._src.cache_key:158: get_cache_key hash after serializing custom_hook: ce6cde9624e22c387e18ef7ce10e837c998c55c23fda0fbece4aedc77788974a\n",
      "DEBUG:2025-01-07 19:26:27,470:jax._src.compilation_cache:215: get_executable_and_time: cache is disabled/not initialized\n",
      "DEBUG:2025-01-07 19:26:27,470:jax._src.compiler:108: PERSISTENT COMPILATION CACHE MISS for 'jit_dynamic_slice' with key 'jit_dynamic_slice-ce6cde9624e22c387e18ef7ce10e837c998c55c23fda0fbece4aedc77788974a'\n",
      "DEBUG:2025-01-07 19:26:27,487:jax._src.compiler:723: Not writing persistent cache entry for 'jit_dynamic_slice' because it took < 1.00 seconds to compile (0.02s)\n",
      "DEBUG:2025-01-07 19:26:27,487:jax._src.dispatch:182: Finished XLA compilation of jit(dynamic_slice) in 0.024249315 sec\n",
      "DEBUG:2025-01-07 19:26:27,490:jax._src.dispatch:182: Finished tracing + transforming squeeze for pjit in 0.000351191 sec\n",
      "DEBUG:2025-01-07 19:26:27,490:jax._src.interpreters.pxla:1906: Compiling squeeze with global shapes and types [ShapedArray(float32[171,1])]. Argument mapping: (UnspecifiedValue,).\n",
      "DEBUG:2025-01-07 19:26:27,493:jax._src.dispatch:182: Finished jaxpr to MLIR module conversion jit(squeeze) in 0.002368212 sec\n",
      "DEBUG:2025-01-07 19:26:27,494:jax._src.compiler:167: get_compile_options: num_replicas=1 num_partitions=1 device_assignment=[[CpuDevice(id=0)]]\n",
      "DEBUG:2025-01-07 19:26:27,495:jax._src.compiler:239: get_compile_options XLA-AutoFDO profile: using XLA-AutoFDO profile version -1\n",
      "DEBUG:2025-01-07 19:26:27,496:jax._src.cache_key:152: get_cache_key hash of serialized computation: b96b78505fdbc03f905c02383437da0eb36f492258b2cbb0ef8df44d3b2b889e\n",
      "DEBUG:2025-01-07 19:26:27,496:jax._src.cache_key:158: get_cache_key hash after serializing computation: b96b78505fdbc03f905c02383437da0eb36f492258b2cbb0ef8df44d3b2b889e\n",
      "DEBUG:2025-01-07 19:26:27,497:jax._src.cache_key:152: get_cache_key hash of serialized jax_lib version: c8601d1831072872293c1f9c58282e40273dd0289eaea98e369c2037dc4231ae\n",
      "DEBUG:2025-01-07 19:26:27,498:jax._src.cache_key:158: get_cache_key hash after serializing jax_lib version: fb4bb0f5e83ed998b74dd4f90b6811f0a28f15be561899af0db53f53f443726b\n",
      "DEBUG:2025-01-07 19:26:27,498:jax._src.cache_key:152: get_cache_key hash of serialized XLA flags: e3b0c44298fc1c149afbf4c8996fb92427ae41e4649b934ca495991b7852b855\n",
      "DEBUG:2025-01-07 19:26:27,499:jax._src.cache_key:158: get_cache_key hash after serializing XLA flags: fb4bb0f5e83ed998b74dd4f90b6811f0a28f15be561899af0db53f53f443726b\n",
      "DEBUG:2025-01-07 19:26:27,500:jax._src.cache_key:152: get_cache_key hash of serialized compile_options: b0cd5c86c63a84b88cb9078fbf173335e4e4596dbf5952fdcc2e59ed5266dd57\n",
      "DEBUG:2025-01-07 19:26:27,500:jax._src.cache_key:158: get_cache_key hash after serializing compile_options: 5c7d1ce7410bf1a74e3a54d3babd617c6221800a91f6ae3559fe6fe3b8fd9a04\n",
      "DEBUG:2025-01-07 19:26:27,502:jax._src.cache_key:152: get_cache_key hash of serialized accelerator_config: 68c6efbdebb80efe282e44bc6f25994b02bc71eeea9bc20e84f06a82fc1b590a\n",
      "DEBUG:2025-01-07 19:26:27,503:jax._src.cache_key:158: get_cache_key hash after serializing accelerator_config: f0e11fb9f3cc9d766a3e6e63b159e8087448a6a7c23de0cad89c96b0d50b32c1\n",
      "DEBUG:2025-01-07 19:26:27,503:jax._src.cache_key:152: get_cache_key hash of serialized compression: 0ea55c28f8014d8886b6248fe3da5d588f55c0823847a6b4579f1131b051b5e2\n",
      "DEBUG:2025-01-07 19:26:27,504:jax._src.cache_key:158: get_cache_key hash after serializing compression: 14ca3a5fc8fed9e8a32c4b19af33e3d6a30eaaf53839539cb490d8dc19f1700d\n",
      "DEBUG:2025-01-07 19:26:27,505:jax._src.cache_key:152: get_cache_key hash of serialized custom_hook: e3b0c44298fc1c149afbf4c8996fb92427ae41e4649b934ca495991b7852b855\n",
      "DEBUG:2025-01-07 19:26:27,506:jax._src.cache_key:158: get_cache_key hash after serializing custom_hook: 14ca3a5fc8fed9e8a32c4b19af33e3d6a30eaaf53839539cb490d8dc19f1700d\n",
      "DEBUG:2025-01-07 19:26:27,507:jax._src.compilation_cache:215: get_executable_and_time: cache is disabled/not initialized\n",
      "DEBUG:2025-01-07 19:26:27,508:jax._src.compiler:108: PERSISTENT COMPILATION CACHE MISS for 'jit_squeeze' with key 'jit_squeeze-14ca3a5fc8fed9e8a32c4b19af33e3d6a30eaaf53839539cb490d8dc19f1700d'\n",
      "DEBUG:2025-01-07 19:26:27,516:jax._src.compiler:723: Not writing persistent cache entry for 'jit_squeeze' because it took < 1.00 seconds to compile (0.01s)\n",
      "DEBUG:2025-01-07 19:26:27,517:jax._src.dispatch:182: Finished XLA compilation of jit(squeeze) in 0.020789146 sec\n",
      "DEBUG:2025-01-07 19:26:27,522:jax._src.dispatch:182: Finished tracing + transforming dynamic_slice for pjit in 0.000437260 sec\n",
      "DEBUG:2025-01-07 19:26:27,524:jax._src.interpreters.pxla:1906: Compiling dynamic_slice with global shapes and types [ShapedArray(float32[171,7]), ShapedArray(int32[], weak_type=True), ShapedArray(int32[], weak_type=True)]. Argument mapping: (UnspecifiedValue, UnspecifiedValue, UnspecifiedValue).\n",
      "DEBUG:2025-01-07 19:26:27,528:jax._src.dispatch:182: Finished jaxpr to MLIR module conversion jit(dynamic_slice) in 0.003127575 sec\n",
      "DEBUG:2025-01-07 19:26:27,529:jax._src.compiler:167: get_compile_options: num_replicas=1 num_partitions=1 device_assignment=[[CpuDevice(id=0)]]\n",
      "DEBUG:2025-01-07 19:26:27,530:jax._src.compiler:239: get_compile_options XLA-AutoFDO profile: using XLA-AutoFDO profile version -1\n",
      "DEBUG:2025-01-07 19:26:27,531:jax._src.cache_key:152: get_cache_key hash of serialized computation: 880ac98fbb0347428b5be710dffef607aca38ada474ed75d01a50f241a84717b\n",
      "DEBUG:2025-01-07 19:26:27,532:jax._src.cache_key:158: get_cache_key hash after serializing computation: 880ac98fbb0347428b5be710dffef607aca38ada474ed75d01a50f241a84717b\n",
      "DEBUG:2025-01-07 19:26:27,533:jax._src.cache_key:152: get_cache_key hash of serialized jax_lib version: c8601d1831072872293c1f9c58282e40273dd0289eaea98e369c2037dc4231ae\n",
      "DEBUG:2025-01-07 19:26:27,534:jax._src.cache_key:158: get_cache_key hash after serializing jax_lib version: e6c4d8c3698ea4c1b95b9a010ffec1c7d3321a7d5c907dfc8480562f84263fdb\n",
      "DEBUG:2025-01-07 19:26:27,534:jax._src.cache_key:152: get_cache_key hash of serialized XLA flags: e3b0c44298fc1c149afbf4c8996fb92427ae41e4649b934ca495991b7852b855\n",
      "DEBUG:2025-01-07 19:26:27,535:jax._src.cache_key:158: get_cache_key hash after serializing XLA flags: e6c4d8c3698ea4c1b95b9a010ffec1c7d3321a7d5c907dfc8480562f84263fdb\n",
      "DEBUG:2025-01-07 19:26:27,536:jax._src.cache_key:152: get_cache_key hash of serialized compile_options: 3d02bb95d7db09523d74c7982f59c6df22fe45867c7974fc5e1f57c3ec90be5b\n",
      "DEBUG:2025-01-07 19:26:27,536:jax._src.cache_key:158: get_cache_key hash after serializing compile_options: f971c375ea8042f3564af75f35151e6d2558c970a489a6dc6d5eb87e5e97b92b\n",
      "DEBUG:2025-01-07 19:26:27,537:jax._src.cache_key:152: get_cache_key hash of serialized accelerator_config: 68c6efbdebb80efe282e44bc6f25994b02bc71eeea9bc20e84f06a82fc1b590a\n",
      "DEBUG:2025-01-07 19:26:27,537:jax._src.cache_key:158: get_cache_key hash after serializing accelerator_config: 90581890db83750f735de7927bc933291a244638670c767e3eece5a696414551\n",
      "DEBUG:2025-01-07 19:26:27,538:jax._src.cache_key:152: get_cache_key hash of serialized compression: 0ea55c28f8014d8886b6248fe3da5d588f55c0823847a6b4579f1131b051b5e2\n",
      "DEBUG:2025-01-07 19:26:27,538:jax._src.cache_key:158: get_cache_key hash after serializing compression: abd5dd7f09798ab64440ecba63a94f8c4b6bacd2414ae6fd1a97efb23be3c127\n",
      "DEBUG:2025-01-07 19:26:27,539:jax._src.cache_key:152: get_cache_key hash of serialized custom_hook: e3b0c44298fc1c149afbf4c8996fb92427ae41e4649b934ca495991b7852b855\n",
      "DEBUG:2025-01-07 19:26:27,539:jax._src.cache_key:158: get_cache_key hash after serializing custom_hook: abd5dd7f09798ab64440ecba63a94f8c4b6bacd2414ae6fd1a97efb23be3c127\n",
      "DEBUG:2025-01-07 19:26:27,540:jax._src.compilation_cache:215: get_executable_and_time: cache is disabled/not initialized\n",
      "DEBUG:2025-01-07 19:26:27,541:jax._src.compiler:108: PERSISTENT COMPILATION CACHE MISS for 'jit_dynamic_slice' with key 'jit_dynamic_slice-abd5dd7f09798ab64440ecba63a94f8c4b6bacd2414ae6fd1a97efb23be3c127'\n",
      "DEBUG:2025-01-07 19:26:27,557:jax._src.compiler:723: Not writing persistent cache entry for 'jit_dynamic_slice' because it took < 1.00 seconds to compile (0.02s)\n",
      "DEBUG:2025-01-07 19:26:27,558:jax._src.dispatch:182: Finished XLA compilation of jit(dynamic_slice) in 0.026925564 sec\n"
     ]
    }
   ],
   "source": [
    "from base_driver import MMMBaseDriver\n",
    "\n",
    "driver = MMMBaseDriver(\n",
    "    \"demo_config.yml\",\n",
    "    \"demo_data.xlsx\",\n",
    "    \"holidays.xlsx\")"
   ]
  },
  {
   "cell_type": "markdown",
   "metadata": {},
   "source": [
    "Setup a separate logger to avoid seeing debug messages in during the demo."
   ]
  },
  {
   "cell_type": "code",
   "execution_count": 4,
   "metadata": {},
   "outputs": [],
   "source": [
    "from base_driver import utils as ut\n",
    "\n",
    "ut.setup_logger()\n",
    "ut.set_style()"
   ]
  },
  {
   "cell_type": "markdown",
   "metadata": {},
   "source": [
    "### 3. Run model"
   ]
  },
  {
   "cell_type": "markdown",
   "metadata": {},
   "source": [
    "Run next cell to start training. Driver performs all variable transformations, Adstock, value stardardization, etc.\n",
    "\n",
    "Please note that depending on the number of iteration in model config this may take long time."
   ]
  },
  {
   "cell_type": "code",
   "execution_count": null,
   "metadata": {},
   "outputs": [],
   "source": [
    "driver.main()"
   ]
  },
  {
   "cell_type": "markdown",
   "metadata": {},
   "source": [
    "Now we have the model created. The driver saves all the outputs into results/ folder. Please take a look at the files inside the results folder"
   ]
  },
  {
   "cell_type": "markdown",
   "metadata": {},
   "source": [
    "### Understanding Model Evaluation Metrics in Griffin MMM\n",
    "\n",
    "### ELPD (Expected Log Pointwise Predictive Density)\n",
    "The ELPD is model selection criteria for Bayesian models. Higher is better.\n",
    "\n",
    "> 📖 See: `\"docs/ELPD_Explainer.md\"` for \"Warning signs\" when evaluating models and Best practices."
   ]
  },
  {
   "cell_type": "code",
   "execution_count": null,
   "metadata": {},
   "outputs": [],
   "source": [
    "driver.compute_elpd(model_name=driver.run_id, results_dir=\"/results\")"
   ]
  },
  {
   "cell_type": "markdown",
   "metadata": {},
   "source": [
    "Save posterior samples into the .nc file. It creates \"trace.nc\" file in the results folder, "
   ]
  },
  {
   "cell_type": "code",
   "execution_count": null,
   "metadata": {},
   "outputs": [],
   "source": [
    "driver.save_posterior_samples(results_dir='/results')"
   ]
  },
  {
   "cell_type": "markdown",
   "metadata": {},
   "source": [
    "Plot the posterior distributions for all media channels. It creates \"media_spend_posterior.png\" file. You can specify different name in `filename_prefix` parameter of function.\n",
    "\n",
    "The plot helps to understand both the estimated impact of each channel and the confidence level in those estimates. Wider distributions indicate more uncertainty, while narrower ones suggest more precise estimates. This visualization is particularly useful for comparing the relative effectiveness and reliability of different marketing channels' performance."
   ]
  },
  {
   "cell_type": "code",
   "execution_count": null,
   "metadata": {},
   "outputs": [],
   "source": [
    "# driver.plot_posterior_distributions(results_dir='/content/results', filename_prefix='media_spend_posterior'):\n",
    "\n",
    "driver.plot_posterior_distributions(results_dir='/content/results')"
   ]
  },
  {
   "cell_type": "markdown",
   "metadata": {},
   "source": [
    "Visualize the MCMC sampling traces for key model parameters to assess model convergence and parameter distributions.\n",
    "\n",
    "Key Parameters Shown:\n",
    "- intercept: Base level of the target variable\n",
    "- likelihood_sigma: Model's uncertainty parameter\n",
    "- beta_channel: Channel-specific coefficient strengths\n",
    "- alpha: Shape parameter for saturation curves\n",
    "- lam: Decay rate parameter\n",
    "- gamma_control: Coefficients for control variables\n",
    "\n",
    "You can use the plots to evaluate:\n",
    "1. Convergence: The trace should show good mixing and no obvious trends or patterns\n",
    "2. Parameter Distributions: The shape and spread of posterior distributions\n",
    "3. Chain Agreement: Multiple chains should explore similar regions"
   ]
  },
  {
   "cell_type": "code",
   "execution_count": null,
   "metadata": {},
   "outputs": [],
   "source": [
    "model_trace = driver.plot_model_trace()"
   ]
  },
  {
   "cell_type": "markdown",
   "metadata": {},
   "source": [
    "Calculate the R^2 score for the model and Visualize posterior predictive samples from the model.\n",
    "\n",
    "Check how well the model retrodicts the training data by sampling the posterior predictive.        "
   ]
  },
  {
   "cell_type": "code",
   "execution_count": null,
   "metadata": {},
   "outputs": [],
   "source": [
    "r2_score = driver.calculate_train_r_squared()\n",
    "posterior_predictive = driver.plot_posterior_predictive()"
   ]
  },
  {
   "cell_type": "markdown",
   "metadata": {},
   "source": [
    "Visualize the model’s predictions against the observed data. The observed data is plotted as a black line.\n",
    "\n",
    "HDI - Highest Density Intervals"
   ]
  },
  {
   "cell_type": "code",
   "execution_count": null,
   "metadata": {},
   "outputs": [],
   "source": [
    "components_contribution = driver.plot_components_contributions()"
   ]
  },
  {
   "cell_type": "markdown",
   "metadata": {},
   "source": [
    "A waterfall plot visualizes how different channels and other factors contribute to the total KPI (target). The plot starts with the baseline performance and shows the incremental impact of each channel, allowing you to understand which chanels drove positive or negative changes in the final outcome.\n",
    "\n",
    "Waterfall plot helps to identify which channels are most and least effective. It makes it easy to explain ROI to stakeholders and to validate marketing spend decisions."
   ]
  },
  {
   "cell_type": "code",
   "execution_count": null,
   "metadata": {},
   "outputs": [],
   "source": [
    "waterfall_plot = driver.plot_waterfall_components_decomposition()"
   ]
  },
  {
   "cell_type": "markdown",
   "metadata": {},
   "source": [
    "### 4. Check results. Diagnostics."
   ]
  },
  {
   "cell_type": "markdown",
   "metadata": {},
   "source": [
    "📖 See: `\"docs/Output_Guide.ms\"` contains detaled explanations of files in the results folder. "
   ]
  },
  {
   "cell_type": "markdown",
   "metadata": {},
   "source": [
    "Run the next cell to see a summary of the model's fit result.\n",
    "\n",
    "The Table show the model's fit result, including the intercept, likelihood sigma, beta channel, alpha, and lam variables, along with their median values and highest density interval (HDI) with a probability of 0.90."
   ]
  },
  {
   "cell_type": "code",
   "execution_count": null,
   "metadata": {},
   "outputs": [],
   "source": [
    "from mmm import describe as dsc\n",
    "\n",
    "quick_stats = dsc.quick_stats(driver.model)\n",
    "quick_stats"
   ]
  },
  {
   "cell_type": "markdown",
   "metadata": {},
   "source": [
    "### Saturation curves.\n",
    "\n",
    "You can see where every week's spend falls on each channel's saturation curve."
   ]
  },
  {
   "cell_type": "code",
   "execution_count": null,
   "metadata": {},
   "outputs": [],
   "source": [
    "from mmm import plot as mplt\n",
    "weekly_spend_curve = mplt.weekly_spend_by_channel(driver.model)"
   ]
  },
  {
   "cell_type": "markdown",
   "metadata": {},
   "source": [
    "Print the variance over time for each feature. \n",
    "\n",
    "Variances below low variance threshold or above high variance threshold are highlighted in red. \n",
    "If this happens, consider possible transformations to your data (such as combining channels).\n",
    "\n",
    "For the national-level data the dataframe contains just one column, and for geo-level data the list contains one column for each geo.\n",
    "\n",
    "The \"`feature_x`\" rows refer to the media channels. Spends must be positive.\n",
    "\n",
    "Default thresholds used in Griffin:\n",
    "\n",
    "| Parameter | Value |\n",
    "|-----------|-------|\n",
    "| Low Variance Threshold | 0.001 |\n",
    "| High Variance Threshold | 3.0 |\n",
    "| Low Spend Threshold | 0.01 |\n",
    "| High VIF Threshold | 7.0 |"
   ]
  },
  {
   "cell_type": "code",
   "execution_count": null,
   "metadata": {},
   "outputs": [],
   "source": [
    "driver.check_quality()\n",
    "\n",
    "high_var = driver.highlight_variances()\n",
    "high_var\n",
    "\n",
    "# default thresholds are 0.001 and 3.0, for low and high variances respectively."
   ]
  },
  {
   "cell_type": "markdown",
   "metadata": {},
   "source": [
    "VIF: If the variance inflation factor (VIF) is at or above high VIF threshold, consider merging or dropping features."
   ]
  },
  {
   "cell_type": "code",
   "execution_count": null,
   "metadata": {},
   "outputs": [],
   "source": [
    "high_inf = driver.highlight_high_vif_values()\n",
    "high_inf\n",
    "\n",
    "# default threshold is 7.0"
   ]
  },
  {
   "cell_type": "markdown",
   "metadata": {},
   "source": [
    "The fraction of the total spend in each channel."
   ]
  },
  {
   "cell_type": "code",
   "execution_count": null,
   "metadata": {},
   "outputs": [],
   "source": [
    "high_spf = driver.highlight_low_spend_fractions()\n",
    "high_spf"
   ]
  },
  {
   "cell_type": "markdown",
   "metadata": {},
   "source": [
    "Plot **correlation** between media spends"
   ]
  },
  {
   "cell_type": "code",
   "execution_count": null,
   "metadata": {},
   "outputs": [],
   "source": [
    "fig, corr_df = driver.plot_correlation()\n",
    "fig"
   ]
  },
  {
   "cell_type": "code",
   "execution_count": null,
   "metadata": {},
   "outputs": [],
   "source": [
    "corr_df"
   ]
  },
  {
   "cell_type": "markdown",
   "metadata": {},
   "source": [
    "Plot *the media spend* over time.\n",
    "\n",
    "Take a close look at the changes in the output metric over time. \n",
    "Think about whether things outside of marketing may account for big swings, and be mindful of this going into the analysis."
   ]
  },
  {
   "cell_type": "code",
   "execution_count": null,
   "metadata": {},
   "outputs": [],
   "source": [
    "all_mds_fig = driver.plot_all_media_spend()\n",
    "all_mds_fig"
   ]
  },
  {
   "cell_type": "markdown",
   "metadata": {},
   "source": [
    "### Model Structure Visualization\n",
    "\n",
    "Understanding the structure of your Media Mix Model is crucial for interpreting results and ensuring that all components are correctly mapped. The `plot_model_structure()` function generates a visual representation of the model, showing how media channels, external factors, and transformations (e.g., adstock, saturation) contribute to the target metric. This diagram helps validate the setup and provides an intuitive overview of the model's architecture.\n",
    "\n",
    "\n"
   ]
  },
  {
   "cell_type": "code",
   "execution_count": null,
   "metadata": {},
   "outputs": [],
   "source": [
    "mdl_st = driver.plot_model_structure()\n",
    "mdl_st"
   ]
  },
  {
   "cell_type": "markdown",
   "metadata": {},
   "source": [
    "<br>\n",
    "A \"Weekly Media and Baseline contribution\" plot visualizes how different marketing activities and baseline factors contribute to business performance (like sales or conversions) over time.\n",
    "\n",
    "This plot helps to understand:\n",
    "\n",
    "- The relative contribution of each channel week by week\n",
    "- Seasonal patterns in baseline and media performance\n",
    "- How marketing activities stack up against organic performance\n",
    "- Periods of high/low marketing effectiveness\n",
    "- The overall composition of business drivers"
   ]
  },
  {
   "cell_type": "code",
   "execution_count": null,
   "metadata": {},
   "outputs": [],
   "source": [
    "driver.display_image(\"weekly_media_and_baseline_contribution.png\")"
   ]
  },
  {
   "cell_type": "markdown",
   "metadata": {},
   "source": [
    "A \"Weekly media contribution\" plot displays how different marketing channels contribute to business performance over time, excluding the baseline effects. "
   ]
  },
  {
   "cell_type": "code",
   "execution_count": null,
   "metadata": {},
   "outputs": [],
   "source": [
    "driver.display_image(\"weekly_media_contribution.png\")"
   ]
  },
  {
   "cell_type": "markdown",
   "metadata": {},
   "source": [
    "<br>\n",
    "Examine the processed dataset used for modeling after data validation and preprocessing steps."
   ]
  },
  {
   "cell_type": "code",
   "execution_count": null,
   "metadata": {},
   "outputs": [],
   "source": [
    "driver.per_observation_df"
   ]
  },
  {
   "cell_type": "code",
   "execution_count": null,
   "metadata": {},
   "outputs": [],
   "source": [
    "driver.data_to_fit.to_data_frame()"
   ]
  },
  {
   "cell_type": "code",
   "execution_count": null,
   "metadata": {},
   "outputs": [],
   "source": [
    "model = driver.model\n",
    "model.plot_direct_contribution_curves(\n",
    "    show_fit=True,\n",
    "    method=\"sigmoid\",\n",
    "    export_curves=True,  # save curves as numerical outputs\n",
    "    results_dir='./results'\n",
    ")"
   ]
  },
  {
   "cell_type": "code",
   "execution_count": null,
   "metadata": {},
   "outputs": [],
   "source": []
  },
  {
   "cell_type": "markdown",
   "metadata": {},
   "source": [
    "## Budget Optimization."
   ]
  },
  {
   "cell_type": "markdown",
   "metadata": {},
   "source": [
    "### What is Budget Optimization? \n",
    "\n",
    "MMM budget optimization is the allocation of a marketing budget across various channels using a fitted marketing mix model and historical data.\n",
    "\n",
    "<br>\n",
    "\n",
    "**Griffin budget optimization**  performs budget optimization by leveraging a calibrated marketing mix model to maximize the expected contribution to the overall marketing objective (e.g., sales, conversions) given a specified total budget. The process involves aggregating historical spending data at a chosen frequency (e.g., monthly, quarterly), defining dynamic budget bounds based on historical spending patterns, and optimizing budget allocations using a non-linear optimization approach.\n",
    "\n",
    "> 📝 Notes:\n",
    "> - The optimization is based on a sigmoid function fitted to each channel's response curve.\n",
    "> - Budget bounds are dynamically calculated as a percentage increase or decrease from historical averages.\n",
    "> - The resulting budget allocation is visualized and saved as a PNG file in the results directory."
   ]
  },
  {
   "cell_type": "markdown",
   "metadata": {},
   "source": [
    "<br>\n",
    "\n",
    "Run next cell to import optimizer method."
   ]
  },
  {
   "cell_type": "code",
   "execution_count": 2,
   "metadata": {},
   "outputs": [],
   "source": [
    "from demo_utils.budget_optimizer import optimize_marketing_budget"
   ]
  },
  {
   "cell_type": "markdown",
   "metadata": {},
   "source": [
    "### Run optimization function\n",
    "\n",
    "This plot compares the initial and optimized budget allocations (left panel) and their corresponding contributions to the target metric (right panel) across media channels. The optimized scenario reallocates resources to maximize efficiency and ROI, highlighting channels with higher potential returns and reducing spend on less effective ones. Use this visualization to guide budget adjustments and improve overall campaign performance."
   ]
  },
  {
   "cell_type": "code",
   "execution_count": null,
   "metadata": {},
   "outputs": [],
   "source": [
    "optimize_marketing_budget(driver.model, driver.processed_data, driver.config, driver.results_dir)"
   ]
  },
  {
   "cell_type": "markdown",
   "metadata": {},
   "source": [
    "## Export results"
   ]
  },
  {
   "cell_type": "markdown",
   "metadata": {},
   "source": [
    "Run this cell to download all the resulted files into your local machine."
   ]
  },
  {
   "cell_type": "code",
   "execution_count": null,
   "metadata": {},
   "outputs": [],
   "source": [
    "import os\n",
    "from google.colab import files\n",
    "\n",
    "def create_downloadable_zip(target_folder, included_files=None, excluded_files=None, zip_name='model_files.zip'):\n",
    "    \"\"\"\n",
    "    Creates a downloadable zip file of specified content.\n",
    "\n",
    "    Args:\n",
    "        target_folder (str): The folder containing the files to zip.\n",
    "        included_files (list): Specific files or folders to include. If None, includes all.\n",
    "        excluded_files (list): Specific files or folders to exclude.\n",
    "        zip_name (str): Name of the output zip file.\n",
    "    \"\"\"\n",
    "    command = f\"zip -r {zip_name} {target_folder}\"\n",
    "\n",
    "    # Include specific files if provided\n",
    "    if included_files:\n",
    "        for file in included_files:\n",
    "            command += f\" {file}\"\n",
    "\n",
    "    # Exclude specific files if provided\n",
    "    if excluded_files:\n",
    "        for file in excluded_files:\n",
    "            command += f\" -x \\\"*/{file}*\\\"\"\n",
    "    os.system(command)\n",
    "\n",
    "    files.download(zip_name)"
   ]
  },
  {
   "cell_type": "code",
   "execution_count": null,
   "metadata": {},
   "outputs": [],
   "source": [
    "# Define the folder and files to include/exclude\n",
    "target_folder = \"/content/results\"\n",
    "excluded_files = [\"trace.nc\", \"other_folder\", \"unnecessary_file\"]\n",
    "zip_name = \"model_files.zip\"\n",
    "\n",
    "# Create and download the zip file\n",
    "create_downloadable_zip(target_folder, excluded_files=excluded_files, zip_name=zip_name)"
   ]
  },
  {
   "cell_type": "markdown",
   "metadata": {},
   "source": [
    "## Next steps"
   ]
  },
  {
   "cell_type": "markdown",
   "metadata": {},
   "source": [
    "### This Demo shows just the basic features of what Griffin provides. In the Pro version, you can use Griffin to model an unconstrained number of media channels.\n",
    "\n",
    "| Demo Version (Free) | Pro Version (Yearly Subscription) |\n",
    "|--------------------|------------------------------------|\n",
    "| ✓ Unlimited access to the demo version | ✓ Full access to all features |\n",
    "| ✓ Support for up to 4 media channels | ✓ Support for unlimited media channels |\n",
    "| ✓ All features and visualizations | ✓ Advanced analytics and visualizations |\n",
    "| ✓ Basic / Community support | ✓ Priority email support |\n",
    "| | ✓ Quarterly strategy consultation |\n",
    "| | ✓ Regular software updates |\n",
    "| **Best for:** Businesses or marketers looking to explore MMM capabilities | **Best for:** Agencies of all sizes and mid-size to large businesses serious about optimizing their marketing mix |"
   ]
  },
  {
   "cell_type": "markdown",
   "metadata": {},
   "source": [
    "## Support & Resources"
   ]
  },
  {
   "cell_type": "markdown",
   "metadata": {},
   "source": [
    "Contact\n",
    "\n",
    "- info@griffin-analytics.com - for any questions.\n",
    "\n",
    "<hr>"
   ]
  },
  {
   "cell_type": "markdown",
   "metadata": {},
   "source": [
    "Copyright © 2024 FIXEDPOINT IO LTD, incorporated and registered in England and Wales with company number 13288661 whose registered office is at 20-22 Wenlock Road, London, England, N1 7GU."
   ]
  }
 ],
 "metadata": {
  "kernelspec": {
   "display_name": "demo_env",
   "language": "python",
   "name": "python3"
  },
  "language_info": {
   "codemirror_mode": {
    "name": "ipython",
    "version": 3
   },
   "file_extension": ".py",
   "mimetype": "text/x-python",
   "name": "python",
   "nbconvert_exporter": "python",
   "pygments_lexer": "ipython3",
   "version": "3.10.16"
  }
 },
 "nbformat": 4,
 "nbformat_minor": 2
}
